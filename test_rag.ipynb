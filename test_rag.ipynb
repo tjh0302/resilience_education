{
 "cells": [
  {
   "cell_type": "code",
   "execution_count": 3,
   "id": "8ca47602-3ff1-4d62-91b0-e493e33bf156",
   "metadata": {},
   "outputs": [],
   "source": [
    "import pytest\n",
    "from setup_rag import OllamaSingleton, VectorstoreSingleton\n",
    "\n",
    "def test_ollama_singleton():\n",
    "    instance1 = OllamaSingleton.get_instance()\n",
    "    instance2 = OllamaSingleton.get_instance()\n",
    "    assert instance1 is instance2\n",
    "\n",
    "def test_vectorstore_singleton():\n",
    "    persist_directory = \"test_directory\"\n",
    "    instance1 = VectorstoreSingleton.get_instance(persist_directory)\n",
    "    instance2 = VectorstoreSingleton.get_instance(persist_directory)\n",
    "    assert instance1 is instance2"
   ]
  },
  {
   "cell_type": "code",
   "execution_count": 4,
   "id": "9d586bd3-cbc2-4320-882c-8f6121b57f7b",
   "metadata": {},
   "outputs": [],
   "source": [
    "def test_ollama_singleton_exception():\n",
    "    with pytest.raises(Exception):\n",
    "        OllamaSingleton()  # Should raise an exception if already initialized\n",
    "\n",
    "def test_vectorstore_singleton_exception():\n",
    "    persist_directory = \"test_directory\"\n",
    "    instance1 = VectorstoreSingleton.get_instance(persist_directory)\n",
    "    with pytest.raises(Exception):\n",
    "        VectorstoreSingleton(persist_directory)  # Should raise an exception if already initialized"
   ]
  },
  {
   "cell_type": "code",
   "execution_count": 5,
   "id": "8c0595c2-39da-4615-8ece-5485e3398e0b",
   "metadata": {},
   "outputs": [],
   "source": [
    "from setup_rag import create_rag_chain\n",
    "def test_create_rag_chain():\n",
    "    persist_directory = \"test_directory\"\n",
    "    chain = create_rag_chain(persist_directory)\n",
    "    assert chain is not None\n",
    "    assert hasattr(chain, 'retriever')  # Ensure retriever is part of the chain\n",
    "    assert hasattr(chain, 'question_answer_chain')  # Ensure question_answer_chain is part of the chain"
   ]
  },
  {
   "cell_type": "code",
   "execution_count": 6,
   "id": "68932cad-7210-4b8b-9adb-c0af646e9330",
   "metadata": {},
   "outputs": [],
   "source": [
    "from setup_rag import RAGSession\n",
    "\n",
    "def test_rag_session_initialization():\n",
    "    session_id = \"test_session\"\n",
    "    persist_directory = \"test_directory\"\n",
    "    rag_session = RAGSession(session_id, persist_directory)\n",
    "    assert rag_session.session_id == session_id\n",
    "    assert rag_session.persist_directory == persist_directory\n",
    "    assert rag_session.chain is not None\n",
    "    assert rag_session.history is not None\n",
    "    assert rag_session.runnable_with_history is not None"
   ]
  },
  {
   "cell_type": "code",
   "execution_count": 7,
   "id": "bef63362-d225-4b88-9c76-703583a9d67c",
   "metadata": {},
   "outputs": [],
   "source": [
    "from unittest.mock import patch\n",
    "from setup_rag import RAGSession\n",
    "\n",
    "def test_rag_session_ask():\n",
    "    session_id = \"test_session\"\n",
    "    persist_directory = \"test_directory\"\n",
    "    rag_session = RAGSession(session_id, persist_directory)\n",
    "\n",
    "    with patch('builtins.input', return_value=\"test query\"):\n",
    "        with patch.object(rag_session.runnable_with_history, 'invoke', return_value=\"test response\"):\n",
    "            response = rag_session.ask()\n",
    "            assert response == \"test response\""
   ]
  },
  {
   "cell_type": "code",
   "execution_count": 8,
   "id": "4dffcb39-e857-4ac7-ba26-d037195457f8",
   "metadata": {},
   "outputs": [],
   "source": [
    "def test_vectorstore_configuration():\n",
    "    persist_directory = \"test_directory\"\n",
    "    vectorstore = VectorstoreSingleton.get_instance(persist_directory).vectorstore\n",
    "    assert vectorstore is not None\n",
    "    # Add more assertions based on your configuration requirements"
   ]
  },
  {
   "cell_type": "code",
   "execution_count": 9,
   "id": "f5a5bcba-d95a-4ff5-aa71-7606b329f0c3",
   "metadata": {},
   "outputs": [],
   "source": [
    "def test_empty_query():\n",
    "    session_id = \"test_session\"\n",
    "    persist_directory = \"test_directory\"\n",
    "    rag_session = RAGSession(session_id, persist_directory)\n",
    "\n",
    "    with patch('builtins.input', return_value=\"\"):\n",
    "        with patch.object(rag_session.runnable_with_history, 'invoke', return_value=\"\"):\n",
    "            response = rag_session.ask()\n",
    "            assert response == \"\"  # Or handle as expected"
   ]
  }
 ],
 "metadata": {
  "kernelspec": {
   "display_name": "Python 3 (ipykernel)",
   "language": "python",
   "name": "python3"
  },
  "language_info": {
   "codemirror_mode": {
    "name": "ipython",
    "version": 3
   },
   "file_extension": ".py",
   "mimetype": "text/x-python",
   "name": "python",
   "nbconvert_exporter": "python",
   "pygments_lexer": "ipython3",
   "version": "3.10.9"
  }
 },
 "nbformat": 4,
 "nbformat_minor": 5
}
