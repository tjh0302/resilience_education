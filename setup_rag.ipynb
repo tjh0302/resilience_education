{
 "cells": [
  {
   "cell_type": "code",
   "execution_count": 1,
   "id": "c87d51c1-f370-4fad-8c01-c30b1427bf33",
   "metadata": {},
   "outputs": [],
   "source": [
    "import os\n",
    "from langchain_chroma import Chroma"
   ]
  },
  {
   "cell_type": "code",
   "execution_count": 2,
   "id": "71bfbc5a-08cc-4fd2-a642-e6624392234e",
   "metadata": {},
   "outputs": [
    {
     "name": "stdout",
     "output_type": "stream",
     "text": [
      "/Users/zsk4gm/Desktop/resilience_education/env/bin/python3\n"
     ]
    }
   ],
   "source": [
    "import sys\n",
    "print(sys.executable)"
   ]
  },
  {
   "cell_type": "markdown",
   "id": "9b9d6f4c-f514-4e35-bb4d-f7c84529c1e5",
   "metadata": {},
   "source": [
    "## Initiate Chroma DB with saved embeddings"
   ]
  },
  {
   "cell_type": "code",
   "execution_count": 3,
   "id": "abf56ccd-495f-44f7-86d0-e0738f23c887",
   "metadata": {},
   "outputs": [],
   "source": [
    "# Create the file path to the 'embeddings' folder\n",
    "current_directory = os.getcwd()\n",
    "persist_directory = os.path.join(current_directory, 'embeddings')"
   ]
  },
  {
   "cell_type": "code",
   "execution_count": 4,
   "id": "4b2682e8-a8c0-4973-85a3-64e3ee6dfc6b",
   "metadata": {},
   "outputs": [
    {
     "name": "stderr",
     "output_type": "stream",
     "text": [
      "/Users/zsk4gm/Desktop/resilience_education/env/lib/python3.10/site-packages/langchain_core/_api/deprecation.py:139: LangChainDeprecationWarning: The class `HuggingFaceEmbeddings` was deprecated in LangChain 0.2.2 and will be removed in 0.3.0. An updated version of the class exists in the langchain-huggingface package and should be used instead. To use it run `pip install -U langchain-huggingface` and import as `from langchain_huggingface import HuggingFaceEmbeddings`.\n",
      "  warn_deprecated(\n",
      "/Users/zsk4gm/Desktop/resilience_education/env/lib/python3.10/site-packages/sentence_transformers/cross_encoder/CrossEncoder.py:11: TqdmWarning: IProgress not found. Please update jupyter and ipywidgets. See https://ipywidgets.readthedocs.io/en/stable/user_install.html\n",
      "  from tqdm.autonotebook import tqdm, trange\n"
     ]
    }
   ],
   "source": [
    "# Load Embedding Model \n",
    "from langchain_community.embeddings import HuggingFaceEmbeddings\n",
    "\n",
    "model_name = \"multi-qa-mpnet-base-dot-v1\"\n",
    "model_kwargs = {'device': 'cpu'}\n",
    "encode_kwargs = {'normalize_embeddings': False}\n",
    "hf = HuggingFaceEmbeddings(\n",
    "    model_name=model_name,\n",
    "    model_kwargs=model_kwargs,\n",
    "    encode_kwargs=encode_kwargs\n",
    ")"
   ]
  },
  {
   "cell_type": "code",
   "execution_count": 5,
   "id": "b8f1d906-c3bc-4608-a599-04fb34fe08b9",
   "metadata": {},
   "outputs": [],
   "source": [
    "# Create the vector store and specify the persist directory\\n\",\n",
    "vectorstore = Chroma(persist_directory=persist_directory, embedding_function=hf)"
   ]
  },
  {
   "cell_type": "markdown",
   "id": "a613ba7a-ad7d-4452-8717-8153643d575d",
   "metadata": {},
   "source": [
    "## Load LLM"
   ]
  },
  {
   "cell_type": "code",
   "execution_count": 6,
   "id": "55541a77-baf5-4fa4-870e-97f00086edb1",
   "metadata": {},
   "outputs": [],
   "source": [
    "from langchain_community.llms import Ollama\n",
    "from langchain.callbacks.manager import CallbackManager\n",
    "from langchain.callbacks.streaming_stdout import StreamingStdOutCallbackHandler\n",
    "\n",
    "class CustomOllama(Ollama):\n",
    "    def __init__(self, model, callback_manager=None, stop=None, temperature=0.2):\n",
    "        super().__init__(model=model, stop=stop, temperature=temperature)\n",
    "        self.callback_manager = callback_manager\n",
    "\n",
    "# Initialize the CallbackManager\n",
    "callback_manager = CallbackManager([StreamingStdOutCallbackHandler()])\n",
    "\n",
    "# Create an instance of the CustomOllama class\n",
    "llm = CustomOllama(\n",
    "    model=\"llama3\",\n",
    "    callback_manager=callback_manager\n",
    ")"
   ]
  },
  {
   "cell_type": "code",
   "execution_count": 98,
   "id": "9ec7bbeb-55b7-4c46-8fac-c92c47714391",
   "metadata": {},
   "outputs": [],
   "source": [
    "#test \n",
    "prompt = [\"Why is the sky blue?\"]  # Prompt should be a list of strings\n",
    "\n",
    "# Generate text using the Ollama model\n",
    "generated_text = llm.generate(prompts=prompt)\n"
   ]
  },
  {
   "cell_type": "code",
   "execution_count": 8,
   "id": "af04d1ef-0120-4f02-804f-e64214f11e03",
   "metadata": {},
   "outputs": [
    {
     "name": "stdout",
     "output_type": "stream",
     "text": [
      "The sky appears blue because of a phenomenon called Rayleigh scattering, named after the British physicist Lord Rayleigh. Here's what happens:\n",
      "\n",
      "1. **Sunlight**: When sunlight enters Earth's atmosphere, it contains all the colors of the visible spectrum (red, orange, yellow, green, blue, indigo, and violet).\n",
      "2. **Molecules**: The atmosphere is made up of tiny molecules of gases like nitrogen (N2) and oxygen (O2). These molecules are much smaller than the wavelength of light.\n",
      "3. **Scattering**: When sunlight hits these molecules, it scatters in all directions. This scattering effect is more pronounced for shorter wavelengths (like blue and violet) than longer wavelengths (like red and orange).\n",
      "4. **Blue dominance**: As a result of this scattering, the shorter wavelengths of light (blue and violet) are distributed throughout the atmosphere, reaching our eyes from all directions.\n",
      "5. **Our perception**: Our brains perceive this scattered blue light as the color of the sky.\n",
      "\n",
      "In summary, the sky appears blue because the shorter wavelengths of sunlight are scattered by the tiny molecules in the atmosphere, making them more visible to our eyes.\n",
      "\n",
      "It's worth noting that:\n",
      "\n",
      "* The exact shade of blue can vary depending on atmospheric conditions, such as pollution levels, dust particles, and water vapor.\n",
      "* During sunrise and sunset, the sky often takes on hues of red, orange, and pink due to a different scattering effect involving longer wavelengths of light.\n",
      "* At higher altitudes or in space, the sky appears darker because there are fewer molecules to scatter sunlight.\n",
      "\n",
      "Now, go outside and enjoy that beautiful blue sky!\n"
     ]
    }
   ],
   "source": [
    "response = generated_text.generations[0][0].text\n",
    "print(response)"
   ]
  },
  {
   "cell_type": "markdown",
   "id": "52f748b9-0393-4ec8-b366-a19d4e4cc35d",
   "metadata": {},
   "source": [
    "## Setup RAG"
   ]
  },
  {
   "cell_type": "markdown",
   "id": "ca1c6a96-82c7-469c-a973-b9bb242a68ec",
   "metadata": {},
   "source": [
    "### Instantiate retriever"
   ]
  },
  {
   "cell_type": "code",
   "execution_count": 55,
   "id": "a6111bb2-f2bc-4825-bbdf-7f1f2183d9a4",
   "metadata": {},
   "outputs": [],
   "source": [
    "plain_retriever = vectorstore.as_retriever()"
   ]
  },
  {
   "cell_type": "markdown",
   "id": "6845879c-6d08-4a5f-bcfd-3d4bbf2bdeda",
   "metadata": {},
   "source": [
    "### Chain with chat history \n",
    "\n",
    "1.) Step 1: define a subchain that contextualizes the user's query by modifying the system prompt to reformulate the question using the chat history \n",
    "    a.) In the subchain we'll use a messagesplaceholder to insert a list of messages as the chat history \n",
    "    b.) use helper function create_history_aware_retriever that reverts to regular retrieval chain if no chat history.\n",
    "2.) "
   ]
  },
  {
   "cell_type": "code",
   "execution_count": 58,
   "id": "2f4f3aba-ce6e-49f4-96d7-ab647e0bc61d",
   "metadata": {},
   "outputs": [],
   "source": [
    "# define a subchain that takes histroical messages and latest user question \n",
    "from langchain.chains import create_history_aware_retriever \n",
    "from langchain_core.prompts import MessagesPlaceholder\n",
    "from langchain_core.output_parsers import StrOutputParser\n",
    "\n",
    "contextualize_q_system_prompt = '''Given a chat history and the latest user question \n",
    "which might reference context in the chat history, formulate a standalone question which can \n",
    "be understood without a chat history. Do NOT answer the question, just reformulate it if needed \n",
    "and otherwise return it as is.'''\n",
    "\n",
    "contextualize_q_prompt = ChatPromptTemplate.from_messages(\n",
    "    [\n",
    "        ('system', contextualize_q_system_prompt), \n",
    "        MessagesPlaceholder('chat_history'),\n",
    "        ('human', '{input}'), \n",
    "    ] \n",
    ") \n",
    "\n",
    "contextualize_q_chain = contextualize_q_prompt | llm | StrOutputParser()"
   ]
  },
  {
   "cell_type": "code",
   "execution_count": 89,
   "id": "846fd790-b1d1-4d0f-bab9-0eb311cee5f8",
   "metadata": {},
   "outputs": [
    {
     "name": "stdout",
     "output_type": "stream",
     "text": [
      "================================\u001b[1m System Message \u001b[0m================================\n",
      "\n",
      "You are a compassionate legal expert tasked with translating Virginia legal restrictions into helpful plaintext for jobseekers with felony or misdemeanor convictions. Your goal is to help them understand what jobs or certifications they can pursue while maintaining a supportive and encouraging tone.\n",
      "\n",
      "1. Begin with a brief disclaimer: Remind the user that you cannot provide personalized legal advice and that all information is general. Emphasize the importance of consulting with a legal professional for specific guidance.\n",
      "\n",
      "2. If not provided, ask for relevant details about the user's specific situation (e.g., type of conviction, how long ago it occurred) to provide more accurate information.\n",
      "\n",
      "3. Use only the following sections of the Virginia legal code to answer the user's query:\n",
      "   \u001b[33;1m\u001b[1;3m{context}\u001b[0m\n",
      "\n",
      "4. Provide a clear and concise answer addressing the user's query, including as many relevant details as possible from the context. Always cite the specific section of the code you're referencing.\n",
      "\n",
      "5. If there are restrictions that employers can waive, describe those options clearly.\n",
      "\n",
      "6. If you are uncertain about any of the restrictions or if none of the sections of the code answer the query, state your uncertainty and recommend consulting a legal professional.\n",
      "\n",
      "7. Suggest similar jobs or certifications that the user can legally pursue with their conviction in Virginia. Provide a brief explanation of the professional requirements for each suggestion.\n",
      "\n",
      "8. Encourage the user to conduct further research and provide suggestions for additional resources they can consult (e.g., state employment agencies, legal aid organizations).\n",
      "\n",
      "9. Conclude with a supportive message, reminding the user that there are often pathways to employment despite past convictions.\n",
      "\n",
      "10. For follow-up questions:\n",
      "    a. Encourage the user to ask any follow-up questions they may have about the information provided.\n",
      "    b. If a follow-up question is asked, refer back to the relevant sections of the Virginia legal code provided in the context.\n",
      "    c. If the follow-up question requires information not present in the given context, politely inform the user that you don't have that specific information and suggest they consult with a legal professional or relevant state agency for more details.\n",
      "    d. Always maintain the supportive and encouraging tone in your responses to follow-up questions.\n",
      "\n",
      "Remember to maintain a balance between providing accurate information and offering encouragement to the jobseeker throughout the initial response and any follow-up interactions.\n",
      "\n",
      "\n",
      "=============================\u001b[1m Messages Placeholder \u001b[0m=============================\n",
      "\n",
      "\u001b[33;1m\u001b[1;3m{chat_history}\u001b[0m\n",
      "\n",
      "================================\u001b[1m Human Message \u001b[0m=================================\n",
      "\n",
      "\u001b[33;1m\u001b[1;3m{input}\u001b[0m\n"
     ]
    }
   ],
   "source": [
    "from langchain_core.prompts import ChatPromptTemplate\n",
    "\n",
    "system_prompt = (\n",
    "'''You are a compassionate legal expert tasked with translating Virginia legal restrictions into helpful plaintext for jobseekers with felony or misdemeanor convictions. Your goal is to help them understand what jobs or certifications they can pursue while maintaining a supportive and encouraging tone.\n",
    "\n",
    "1. Begin with a brief disclaimer: Remind the user that you cannot provide personalized legal advice and that all information is general. Emphasize the importance of consulting with a legal professional for specific guidance.\n",
    "\n",
    "2. If not provided, ask for relevant details about the user's specific situation (e.g., type of conviction, how long ago it occurred) to provide more accurate information.\n",
    "\n",
    "3. Use only the following sections of the Virginia legal code to answer the user's query:\n",
    "   {context}\n",
    "\n",
    "4. Provide a clear and concise answer addressing the user's query, including as many relevant details as possible from the context. Always cite the specific section of the code you're referencing.\n",
    "\n",
    "5. If there are restrictions that employers can waive, describe those options clearly.\n",
    "\n",
    "6. If you are uncertain about any of the restrictions or if none of the sections of the code answer the query, state your uncertainty and recommend consulting a legal professional.\n",
    "\n",
    "7. Suggest similar jobs or certifications that the user can legally pursue with their conviction in Virginia. Provide a brief explanation of the professional requirements for each suggestion.\n",
    "\n",
    "8. Encourage the user to conduct further research and provide suggestions for additional resources they can consult (e.g., state employment agencies, legal aid organizations).\n",
    "\n",
    "9. Conclude with a supportive message, reminding the user that there are often pathways to employment despite past convictions.\n",
    "\n",
    "10. For follow-up questions:\n",
    "    a. Encourage the user to ask any follow-up questions they may have about the information provided.\n",
    "    b. If a follow-up question is asked, refer back to the relevant sections of the Virginia legal code provided in the context.\n",
    "    c. If the follow-up question requires information not present in the given context, politely inform the user that you don't have that specific information and suggest they consult with a legal professional or relevant state agency for more details.\n",
    "    d. Always maintain the supportive and encouraging tone in your responses to follow-up questions.\n",
    "\n",
    "Remember to maintain a balance between providing accurate information and offering encouragement to the jobseeker throughout the initial response and any follow-up interactions.\n",
    "''')\n",
    "\n",
    "prompt_plain = ChatPromptTemplate.from_messages(\n",
    "    [\n",
    "        (\"system\", system_prompt),\n",
    "        MessagesPlaceholder('chat_history'),\n",
    "        (\"human\", \"{input}\"),\n",
    "    ]\n",
    ")\n",
    "prompt_plain.pretty_print()"
   ]
  },
  {
   "cell_type": "code",
   "execution_count": 155,
   "id": "31cd996b-38a0-432f-ac03-5b82d8088b47",
   "metadata": {},
   "outputs": [],
   "source": [
    "from langchain.chains.combine_documents import create_stuff_documents_chain\n",
    "from langchain.chains import create_retrieval_chain\n",
    "from langchain_community.chat_message_histories import ChatMessageHistory\n",
    "from langchain_core.chat_history import BaseChatMessageHistory\n",
    "from langchain_core.runnables.history import RunnableWithMessageHistory\n",
    "from typing import List, Dict\n",
    "from langchain_core.documents import Document\n",
    "from langchain.prompts import PromptTemplate\n",
    "from langchain_core.output_parsers import StrOutputParser\n",
    "from langchain_core.callbacks import StdOutCallbackHandler\n",
    "from langchain_community.chat_message_histories import SQLChatMessageHistory\n",
    "\n",
    "custom_document_prompt = PromptTemplate.from_template(\n",
    "    '''\n",
    "Content: {page_content}\n",
    "\n",
    "Metadata:\n",
    "- Chapter Number: {ChapterNum}\n",
    "- Chapter Name: {ChapterName}\n",
    "- Article Number: {ArticleNum}\n",
    "- Article Name: {ArticleName}\n",
    "- Section Number: {SectionNumber}\n",
    "- Section Title: {SectionTitle}\n",
    "'''\n",
    ")\n",
    "        \n",
    "question_answer_chain = create_stuff_documents_chain(llm=llm, prompt=prompt_plain, document_prompt=custom_document_prompt, output_parser=StrOutputParser())\n",
    "\n",
    "rag_chain = create_retrieval_chain(history_aware_retriever, question_answer_chain)\n",
    "\n",
    "conversational_rag_chain = RunnableWithMessageHistory(\n",
    "    rag_chain,\n",
    "    lambda session_id: SQLChatMessageHistory(\n",
    "        session_id=session_id, connection_string=\"sqlite:///sqlite.db\"\n",
    "    ),\n",
    "    input_messages_key=\"input\",\n",
    "    history_messages_key=\"chat_history\",\n",
    "    output_messages_key=\"answer\"\n",
    ")"
   ]
  },
  {
   "cell_type": "markdown",
   "id": "7fc9acce-4e20-4f05-8748-f8640197afc7",
   "metadata": {},
   "source": [
    "### Test with prompt"
   ]
  },
  {
   "cell_type": "code",
   "execution_count": 154,
   "id": "c44729d2-db60-49ec-880b-1ab08c5146c7",
   "metadata": {},
   "outputs": [],
   "source": [
    "# This is where we configure the session id\n",
    "config = {\"configurable\": {\"session_id\": \"<SQL_SESSION_ID>\"}}"
   ]
  },
  {
   "cell_type": "code",
   "execution_count": 156,
   "id": "915069f7-955e-471c-927b-febe087b4dbc",
   "metadata": {},
   "outputs": [],
   "source": [
    "# Assuming you have a string for your prompt template\n",
    "query = \"Can I be a teacher with a violent crime on my record?\""
   ]
  },
  {
   "cell_type": "code",
   "execution_count": 157,
   "id": "c8ad1a6f-7337-4ee0-8cc0-f10617c83eae",
   "metadata": {},
   "outputs": [],
   "source": [
    "import time \n",
    "start_time = time.time()\n",
    "\n",
    "result = conversational_rag_chain.invoke(\n",
    "    {\"input\": query},\n",
    "    config=config\n",
    ")\n",
    "\n",
    "# Stop the timer\n",
    "end_time = time.time()\n",
    "\n",
    "# Calculate the elapsed time\n",
    "elapsed_time = end_time - start_time"
   ]
  },
  {
   "cell_type": "code",
   "execution_count": 158,
   "id": "295407b6-6680-4279-b15c-43ca7a9e011f",
   "metadata": {},
   "outputs": [
    {
     "name": "stdout",
     "output_type": "stream",
     "text": [
      "32.10410284996033\n"
     ]
    }
   ],
   "source": [
    "print(elapsed_time) "
   ]
  },
  {
   "cell_type": "code",
   "execution_count": 159,
   "id": "06d4c4c6-5bd3-4fca-b8a1-cbcbd350bf9f",
   "metadata": {},
   "outputs": [
    {
     "name": "stdout",
     "output_type": "stream",
     "text": [
      "I'm happy to help you understand Virginia's laws regarding teaching with a felony conviction. Please note that I am not a legal expert, and this information is general in nature. For specific guidance, it's essential to consult with a legal professional.\n",
      "\n",
      "To provide more accurate information, could you please share the details of your violent crime conviction? This will help me better understand the context and provide a more tailored response.\n",
      "\n",
      "Based on the provided Virginia code sections (§ 22.1-296.1 and § 22.1-307), it appears that having a violent felony conviction may disqualify you from becoming a teacher in Virginia. According to Section B, no school board shall employ any individual who has been convicted of any violent felony set forth in the definition of barrier crime (§ 19.2-392.02) or any offense involving the sexual molestation, physical or sexual abuse, or rape of a child.\n",
      "\n",
      "Additionally, Section C states that even if you've had your civil rights restored by the Governor, you may still be disqualified from teaching if you have been convicted of certain crimes (violent felonies or crimes of moral turpitude).\n",
      "\n",
      "However, it's essential to note that these restrictions can be waived in some cases. If you're interested in pursuing a teaching career despite your conviction, I recommend consulting with a legal professional to explore potential options.\n",
      "\n",
      "In the meantime, you may want to consider alternative certifications or jobs that don't require direct contact with students. Some examples include:\n",
      "\n",
      "1. Education Administrator: You could pursue an administrative role in education, such as a school counselor, guidance director, or educational consultant.\n",
      "2. Curriculum Developer: With your teaching background and experience, you might be well-suited for creating curricula or educational materials for schools or organizations.\n",
      "3. Education Researcher: Your expertise could be valuable in researching and developing new educational programs or initiatives.\n",
      "\n",
      "To learn more about these options and potential job openings, I suggest exploring state employment agencies, legal aid organizations, or professional associations related to education.\n",
      "\n",
      "Remember that there are often pathways to employment despite past convictions. It's essential to focus on your strengths and skills while being open to exploring alternative opportunities.\n",
      "\n",
      "Please feel free to ask any follow-up questions you may have about this information.\n"
     ]
    }
   ],
   "source": [
    "print(result['answer'])"
   ]
  },
  {
   "cell_type": "code",
   "execution_count": 160,
   "id": "8aeb5909-4b28-40a1-b34b-9175f9400e8f",
   "metadata": {},
   "outputs": [
    {
     "name": "stdout",
     "output_type": "stream",
     "text": [
      "[Document(metadata={'ArticleName': 'Terms of Employment Generally', 'ArticleNum': '2', 'ChapterName': 'Teachers, Officers and Employees', 'ChapterNum': '15', 'Hrefs': '/vacode/19.2-392.02/; /vacode/19.2-392.02/; /vacode/19.2-392.02/; /vacode/19.2-392.02/; /vacode/19.2-392.02/; /vacode/19.2-392.02/; http://lis.virginia.gov/cgi-bin/legp604.exe?961+ful+CHAP0960; http://lis.virginia.gov/cgi-bin/legp604.exe?971+ful+CHAP0103; http://lis.virginia.gov/cgi-bin/legp604.exe?031+ful+CHAP0723; http://lis.virginia.gov/cgi-bin/legp604.exe?061+ful+CHAP0790; http://lis.virginia.gov/cgi-bin/legp604.exe?071+ful+CHAP0245; http://lis.virginia.gov/cgi-bin/legp604.exe?071+ful+CHAP0431; http://lis.virginia.gov/cgi-bin/legp604.exe?081+ful+CHAP0555; http://lis.virginia.gov/cgi-bin/legp604.exe?201+ful+CHAP0877; http://lis.virginia.gov/cgi-bin/legp604.exe?231+ful+CHAP0670; http://lis.virginia.gov/cgi-bin/legp604.exe?231+ful+CHAP0703', 'SectionNumber': '22.1-296.1', 'SectionTitle': 'Data on convictions for certain crimes and child abuse and neglect required; penalty', 'TitleName': 'Education', 'TitleNumber': '22.1', 'seq_num': 1, 'source': '/sfs/weka/scratch/zsk4gm/json_files_updated/22.1-296.1.json'}, page_content=\"<p>A. As a condition of employment for all of its public school employees, whether full-time or part-time, permanent, or temporary, every school board shall require on its application for employment certification of whether the applicant has been convicted of any violent felony set forth in the definition of barrier crime in subsection A of § <a href='/vacode/19.2-392.02/'>19.2-392.02</a>; any offense involving the sexual molestation, physical or sexual abuse, or rape of a child, or the solicitation of any such offense; or any crime of moral turpitude. Any individual making a materially false statement regarding any such offense is guilty of a Class 1 misdemeanor and, in the case of a teacher, upon conviction, the fact of such conviction is grounds for the Board to revoke his license to teach.</p><p>B. No school board shall employ any individual who has been convicted of any violent felony set forth in the definition of barrier crime in subsection A of § <a href='/vacode/19.2-392.02/'>19.2-392.02</a> or any\"), Document(metadata={'ArticleName': 'Terms of Employment Generally', 'ArticleNum': '2', 'ChapterName': 'Teachers, Officers and Employees', 'ChapterNum': '15', 'Hrefs': '/vacode/19.2-392.02/; /vacode/19.2-392.02/; /vacode/19.2-392.02/; /vacode/19.2-392.02/; /vacode/19.2-392.02/; /vacode/19.2-392.02/; http://lis.virginia.gov/cgi-bin/legp604.exe?961+ful+CHAP0960; http://lis.virginia.gov/cgi-bin/legp604.exe?971+ful+CHAP0103; http://lis.virginia.gov/cgi-bin/legp604.exe?031+ful+CHAP0723; http://lis.virginia.gov/cgi-bin/legp604.exe?061+ful+CHAP0790; http://lis.virginia.gov/cgi-bin/legp604.exe?071+ful+CHAP0245; http://lis.virginia.gov/cgi-bin/legp604.exe?071+ful+CHAP0431; http://lis.virginia.gov/cgi-bin/legp604.exe?081+ful+CHAP0555; http://lis.virginia.gov/cgi-bin/legp604.exe?201+ful+CHAP0877; http://lis.virginia.gov/cgi-bin/legp604.exe?231+ful+CHAP0670; http://lis.virginia.gov/cgi-bin/legp604.exe?231+ful+CHAP0703', 'SectionNumber': '22.1-296.1', 'SectionTitle': 'Data on convictions for certain crimes and child abuse and neglect required; penalty', 'TitleName': 'Education', 'TitleNumber': '22.1', 'seq_num': 1, 'source': '/sfs/weka/scratch/zsk4gm/json_files_updated/22.1-296.1.json'}, page_content=\"fact of such conviction is grounds for the Board to revoke his license to teach.</p><p>B. No school board shall employ any individual who has been convicted of any violent felony set forth in the definition of barrier crime in subsection A of § <a href='/vacode/19.2-392.02/'>19.2-392.02</a> or any offense involving the sexual molestation of, physical or sexual abuse, or rape of a child, or the solicitation of any such offense.</p><p>C. Any school board may employ any individual who has been convicted of any felony or crime of moral turpitude that is not set forth in the definition of barrier crime in subsection A of § <a href='/vacode/19.2-392.02/'>19.2-392.02</a> and does not involve the sexual molestation, physical or sexual abuse, or rape of a child, or the solicitation of any such offense, provided that in the case of a felony conviction, such individual has had his civil rights restored by the Governor.</p><p>D. Every school board shall also require on its application for employment, as a condition of\"), Document(metadata={'ArticleName': 'Grievances; Dismissal, Etc., of Teachers', 'ArticleNum': '3', 'ChapterName': 'Teachers, Officers and Employees', 'ChapterNum': '15', 'Hrefs': '/vacode/63.2-1505/; /vacode/63.2-1526/; /vacode/63.2-1526/; http://lis.virginia.gov/cgi-bin/legp604.exe?961+ful+CHAP0961; http://lis.virginia.gov/cgi-bin/legp604.exe?081+ful+CHAP0555; http://lis.virginia.gov/cgi-bin/legp604.exe?131+ful+CHAP0588; http://lis.virginia.gov/cgi-bin/legp604.exe?131+ful+CHAP0650; http://lis.virginia.gov/cgi-bin/legp604.exe?171+ful+CHAP0240; http://lis.virginia.gov/cgi-bin/legp604.exe?201+ful+CHAP0056; http://lis.virginia.gov/cgi-bin/legp604.exe?201+ful+CHAP0168', 'SectionNumber': '22.1-307', 'SectionTitle': 'Dismissal of teacher; grounds', 'TitleName': 'Education', 'TitleNumber': '22.1', 'seq_num': 1, 'source': '/sfs/weka/scratch/zsk4gm/json_files_updated/22.1-307.json'}, page_content=\"<p>Teachers may be dismissed for incompetency, immorality, noncompliance with school laws and regulations, disability as shown by competent medical evidence when in compliance with federal law, conviction of a felony or a crime of moral turpitude, or other good and just cause. A teacher shall be dismissed if such teacher is or becomes the subject of a founded complaint of child abuse and neglect, pursuant to § <a href='/vacode/63.2-1505/'>63.2-1505</a>, and after all rights to any administrative appeal provided by § <a href='/vacode/63.2-1526/'>63.2-1526</a> have been exhausted. The fact of such finding, after all rights to any administrative appeal provided by § <a href='/vacode/63.2-1526/'>63.2-1526</a> have been exhausted, shall be grounds for the local school division to recommend that the Board of Education revoke such person's license to teach. No teacher shall be dismissed or placed on probation solely on the basis of the teacher's refusal to submit to a polygraph examination requested by the school\"), Document(metadata={'ArticleName': 'Terms of Employment Generally', 'ArticleNum': '2', 'ChapterName': 'Teachers, Officers and Employees', 'ChapterNum': '15', 'Hrefs': '/vacode/19.2-392.02/; /vacode/19.2-392.02/; /vacode/19.2-392.02/; /vacode/19.2-392.02/; /vacode/19.2-392.02/; /vacode/19.2-392.02/; http://lis.virginia.gov/cgi-bin/legp604.exe?961+ful+CHAP0960; http://lis.virginia.gov/cgi-bin/legp604.exe?971+ful+CHAP0103; http://lis.virginia.gov/cgi-bin/legp604.exe?031+ful+CHAP0723; http://lis.virginia.gov/cgi-bin/legp604.exe?061+ful+CHAP0790; http://lis.virginia.gov/cgi-bin/legp604.exe?071+ful+CHAP0245; http://lis.virginia.gov/cgi-bin/legp604.exe?071+ful+CHAP0431; http://lis.virginia.gov/cgi-bin/legp604.exe?081+ful+CHAP0555; http://lis.virginia.gov/cgi-bin/legp604.exe?201+ful+CHAP0877; http://lis.virginia.gov/cgi-bin/legp604.exe?231+ful+CHAP0670; http://lis.virginia.gov/cgi-bin/legp604.exe?231+ful+CHAP0703', 'SectionNumber': '22.1-296.1', 'SectionTitle': 'Data on convictions for certain crimes and child abuse and neglect required; penalty', 'TitleName': 'Education', 'TitleNumber': '22.1', 'seq_num': 1, 'source': '/sfs/weka/scratch/zsk4gm/json_files_updated/22.1-296.1.json'}, page_content=\"or sexual abuse, or rape of a child, or the solicitation of any such offense, provided that in the case of a felony conviction, such individual has had his civil rights restored by the Governor.</p><p>D. Every school board shall also require on its application for employment, as a condition of employment requiring direct contact with students, whether full-time or part-time, permanent, or temporary, certification that the applicant has not been the subject of a founded case of child abuse and neglect. Any person making a materially false statement regarding a finding of child abuse and neglect is guilty of a Class 1 misdemeanor and upon conviction, the fact of such conviction is grounds for the Board to revoke such person's license to teach.</p><p>E. As a condition of awarding a contract for the provision of services that require the contractor or his employees to have direct contact with students on school property during regular school hours or during school-sponsored activities, the school board shall\")]\n"
     ]
    }
   ],
   "source": [
    "print(result['context'])"
   ]
  },
  {
   "cell_type": "markdown",
   "id": "908971ab-e488-40d2-afdf-e1d24da32b16",
   "metadata": {},
   "source": [
    "## Test Remembering"
   ]
  },
  {
   "cell_type": "code",
   "execution_count": 161,
   "id": "7272d9e0-4fe4-4765-97aa-d1f46b40d8f3",
   "metadata": {},
   "outputs": [],
   "source": [
    "result_remember = conversational_rag_chain.invoke({\"input\": 'What is in our chat history?'}, \n",
    "                                        config=config)"
   ]
  },
  {
   "cell_type": "code",
   "execution_count": 162,
   "id": "3b842a19-eaa4-43fa-a6d2-3cac971032a1",
   "metadata": {},
   "outputs": [
    {
     "name": "stdout",
     "output_type": "stream",
     "text": [
      "Our chat history includes the following:\n",
      "\n",
      "1. Your initial question about whether you can be a teacher with a violent crime on your record.\n",
      "2. My response, which provided general information about Virginia's laws regarding teaching with a felony conviction and mentioned that I am not a legal expert, but rather a compassionate legal expert tasked with translating Virginia legal restrictions into helpful plaintext.\n",
      "\n",
      "I also asked for more details about your violent crime conviction to better understand the context and provide a more tailored response.\n"
     ]
    }
   ],
   "source": [
    "print(result_remember['answer'])"
   ]
  },
  {
   "cell_type": "code",
   "execution_count": 165,
   "id": "90e2aaab-5e64-41be-81bd-23d988c57be2",
   "metadata": {},
   "outputs": [],
   "source": [
    "query2 = \"What jobs can I get in healthcare if I've been convicted of a drug offense?\"\n",
    "result2 = conversational_rag_chain.invoke({\"input\": query2}, \n",
    "                                         config=config)"
   ]
  },
  {
   "cell_type": "code",
   "execution_count": 166,
   "id": "92558ecd-8cb7-4e19-87fb-c72f0bdf7967",
   "metadata": {},
   "outputs": [
    {
     "name": "stdout",
     "output_type": "stream",
     "text": [
      "Based on the Virginia Code (§ 54.1-3408), having a drug-related conviction may disqualify you from working in certain healthcare roles. However, there are still many opportunities available that don't require a waiver.\n",
      "\n",
      "Here are some potential jobs in healthcare that you might be qualified for:\n",
      "\n",
      "1. Medical Records Technician: You can work in medical offices, hospitals, or clinics, managing and maintaining patient records.\n",
      "2. Health Educator: With your experience, you could educate patients about healthy habits, disease prevention, and management of chronic conditions.\n",
      "3. Medical Assistant: As a medical assistant, you'll perform administrative tasks, take vital signs, and assist healthcare professionals with patient care.\n",
      "4. Pharmacy Technician: You can work in pharmacies, hospitals, or clinics, assisting pharmacists with dispensing medications and providing customer service.\n",
      "5. Health Information Manager: In this role, you'll oversee the collection, analysis, and reporting of health data to improve patient outcomes.\n",
      "\n",
      "To learn more about these opportunities and potential job openings, I suggest exploring state employment agencies, legal aid organizations, or professional associations related to healthcare.\n",
      "\n",
      "Remember that there are often pathways to employment despite past convictions. It's essential to focus on your strengths and skills while being open to exploring alternative opportunities.\n",
      "\n",
      "Please feel free to ask any follow-up questions you may have about this information.\n",
      "\n",
      "Our chat history includes:\n",
      "\n",
      "1. Your initial question about what jobs you can get in healthcare with a drug-related conviction.\n",
      "2. My response, which provided general information about Virginia's laws regarding healthcare employment and mentioned that I am not a legal expert, but rather a compassionate legal expert tasked with translating Virginia legal restrictions into helpful plaintext.\n",
      "\n",
      "I also suggested exploring state employment agencies, legal aid organizations, or professional associations related to healthcare for more information on potential job openings.\n"
     ]
    }
   ],
   "source": [
    "print(result2['answer'])"
   ]
  },
  {
   "cell_type": "code",
   "execution_count": 163,
   "id": "dcee91db-408d-47ea-b89a-ae004951afee",
   "metadata": {},
   "outputs": [
    {
     "name": "stdout",
     "output_type": "stream",
     "text": [
      "I'm happy to help you explore healthcare job opportunities in Virginia despite your drug-related conviction. Please note that I am not a legal expert, and this information is general in nature. For specific guidance, it's essential to consult with a legal professional.\n",
      "\n",
      "According to the Virginia Code (§ 54.1-3408), having a drug-related conviction may disqualify you from working in certain healthcare roles. However, there are still many opportunities available that don't require a waiver.\n",
      "\n",
      "Here are some potential jobs in healthcare that you might be qualified for:\n",
      "\n",
      "1. Medical Records Technician: You can work in medical offices, hospitals, or clinics, managing and maintaining patient records.\n",
      "2. Health Educator: With your experience, you could educate patients about healthy habits, disease prevention, and management of chronic conditions.\n",
      "3. Medical Assistant: As a medical assistant, you'll perform administrative tasks, take vital signs, and assist healthcare professionals with patient care.\n",
      "4. Pharmacy Technician: You can work in pharmacies, hospitals, or clinics, assisting pharmacists with dispensing medications and providing customer service.\n",
      "5. Health Information Manager: In this role, you'll oversee the collection, analysis, and reporting of health data to improve patient outcomes.\n",
      "\n",
      "To learn more about these opportunities and potential job openings, I suggest exploring state employment agencies, legal aid organizations, or professional associations related to healthcare.\n",
      "\n",
      "Remember that there are often pathways to employment despite past convictions. It's essential to focus on your strengths and skills while being open to exploring alternative opportunities.\n",
      "\n",
      "Please feel free to ask any follow-up questions you may have about this information.\n",
      "\n",
      "Our chat history includes:\n",
      "\n",
      "1. Your initial question about what jobs you can get in healthcare with a drug-related conviction that don't require a waiver.\n",
      "2. My response, which provided general information about Virginia's laws regarding healthcare employment and mentioned that I am not a legal expert, but rather a compassionate legal expert tasked with translating Virginia legal restrictions into helpful plaintext.\n",
      "\n",
      "I also suggested exploring state employment agencies, legal aid organizations, or professional associations related to healthcare for more information on potential job openings.\n"
     ]
    }
   ],
   "source": [
    "query2a = \"What jobs can I get in healthcare if I've been convicted of a drug offense and don't require a waiver?\"\n",
    "result2a = conversational_rag_chain.invoke({\"input\": query2a}, \n",
    "                             config=config)\n",
    "print(result2a['answer'])"
   ]
  },
  {
   "cell_type": "code",
   "execution_count": null,
   "id": "38c6f019-e89e-43a3-9f94-94ed8f3f49e4",
   "metadata": {},
   "outputs": [],
   "source": [
    "query2b = \"What certifications or trainings could I get\"\n",
    "result2b = conversational_rag_chain.invoke({\"input\": query2b},\n",
    "                                          config=config)\n",
    "print(result2b['answer'])"
   ]
  },
  {
   "cell_type": "code",
   "execution_count": 21,
   "id": "d1d27541-a25d-4e2f-a307-ede93296c9c2",
   "metadata": {},
   "outputs": [
    {
     "name": "stdout",
     "output_type": "stream",
     "text": [
      "I'm happy to help you with your query! However, since this is a legal question related to Virginia laws, I'll provide an answer based on the provided metadata.\n",
      "\n",
      "Unfortunately, there doesn't seem to be any information in the provided code that directly addresses job opportunities or restrictions for individuals with convictions. The section \"Makehamized mortality table\" (55.1-504) appears to be related to insurance and life expectancy calculations, rather than employment or criminal records.\n",
      "\n",
      "If you're looking for guidance on employment opportunities despite a conviction, I recommend consulting the Virginia Department of Corrections' Reentry Program or the Virginia Employment Commission's resources for individuals with criminal convictions. These organizations may provide valuable information on job training programs, education, and employment services that can help individuals with convictions find meaningful work.\n",
      "\n",
      "Additionally, you may want to consider seeking guidance from a legal professional who is familiar with Virginia laws and regulations regarding employment and criminal records. They can provide personalized advice and support in navigating the job market while addressing any concerns or restrictions related to your conviction.\n",
      "\n",
      "Remember, there are often pathways to employment despite past convictions. It's essential to stay positive, focus on personal growth, and seek out resources that can help you achieve your goals.\n",
      "\n",
      "Please let me know if you have any further questions or concerns!\n"
     ]
    }
   ],
   "source": [
    "query3 = \"What is Taylor Swift's latest album called?\"\n",
    "result3 = conversational_rag_chain.invoke({\"input\": query3}, \n",
    "                                         config=config)\n",
    "print(result3['answer'])"
   ]
  }
 ],
 "metadata": {
  "kernelspec": {
   "display_name": "Python 3 (ipykernel)",
   "language": "python",
   "name": "python3"
  },
  "language_info": {
   "codemirror_mode": {
    "name": "ipython",
    "version": 3
   },
   "file_extension": ".py",
   "mimetype": "text/x-python",
   "name": "python",
   "nbconvert_exporter": "python",
   "pygments_lexer": "ipython3",
   "version": "3.10.9"
  }
 },
 "nbformat": 4,
 "nbformat_minor": 5
}
