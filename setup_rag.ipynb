{
 "cells": [
  {
   "cell_type": "code",
   "execution_count": 1,
   "id": "c87d51c1-f370-4fad-8c01-c30b1427bf33",
   "metadata": {},
   "outputs": [],
   "source": [
    "import os\n",
    "from langchain_chroma import Chroma"
   ]
  },
  {
   "cell_type": "code",
   "execution_count": 13,
   "id": "e182d156-7fbe-4385-adba-504d3d4860cd",
   "metadata": {},
   "outputs": [
    {
     "name": "stdout",
     "output_type": "stream",
     "text": [
      "Collecting Ollama\n",
      "  Using cached ollama-0.2.1-py3-none-any.whl.metadata (4.2 kB)\n",
      "Requirement already satisfied: httpx<0.28.0,>=0.27.0 in ./env/lib/python3.10/site-packages (from Ollama) (0.27.0)\n",
      "Requirement already satisfied: anyio in ./env/lib/python3.10/site-packages (from httpx<0.28.0,>=0.27.0->Ollama) (4.4.0)\n",
      "Requirement already satisfied: certifi in ./env/lib/python3.10/site-packages (from httpx<0.28.0,>=0.27.0->Ollama) (2024.7.4)\n",
      "Requirement already satisfied: httpcore==1.* in ./env/lib/python3.10/site-packages (from httpx<0.28.0,>=0.27.0->Ollama) (1.0.5)\n",
      "Requirement already satisfied: idna in ./env/lib/python3.10/site-packages (from httpx<0.28.0,>=0.27.0->Ollama) (3.7)\n",
      "Requirement already satisfied: sniffio in ./env/lib/python3.10/site-packages (from httpx<0.28.0,>=0.27.0->Ollama) (1.3.1)\n",
      "Requirement already satisfied: h11<0.15,>=0.13 in ./env/lib/python3.10/site-packages (from httpcore==1.*->httpx<0.28.0,>=0.27.0->Ollama) (0.14.0)\n",
      "Requirement already satisfied: exceptiongroup>=1.0.2 in ./env/lib/python3.10/site-packages (from anyio->httpx<0.28.0,>=0.27.0->Ollama) (1.2.1)\n",
      "Requirement already satisfied: typing-extensions>=4.1 in ./env/lib/python3.10/site-packages (from anyio->httpx<0.28.0,>=0.27.0->Ollama) (4.12.2)\n",
      "Using cached ollama-0.2.1-py3-none-any.whl (9.7 kB)\n",
      "Installing collected packages: Ollama\n",
      "Successfully installed Ollama-0.2.1\n"
     ]
    }
   ],
   "source": [
    "!pip install Ollama"
   ]
  },
  {
   "cell_type": "code",
   "execution_count": 2,
   "id": "71bfbc5a-08cc-4fd2-a642-e6624392234e",
   "metadata": {},
   "outputs": [
    {
     "name": "stdout",
     "output_type": "stream",
     "text": [
      "/Users/zsk4gm/Desktop/resilience_education/env/bin/python3\n"
     ]
    }
   ],
   "source": [
    "import sys\n",
    "print(sys.executable)"
   ]
  },
  {
   "cell_type": "markdown",
   "id": "9b9d6f4c-f514-4e35-bb4d-f7c84529c1e5",
   "metadata": {},
   "source": [
    "## Initiate Chroma DB with saved embeddings"
   ]
  },
  {
   "cell_type": "code",
   "execution_count": 4,
   "id": "abf56ccd-495f-44f7-86d0-e0738f23c887",
   "metadata": {},
   "outputs": [],
   "source": [
    "# Create the file path to the 'embeddings' folder\n",
    "current_directory = os.getcwd()\n",
    "persist_directory = os.path.join(current_directory, 'embeddings')"
   ]
  },
  {
   "cell_type": "code",
   "execution_count": 5,
   "id": "4b2682e8-a8c0-4973-85a3-64e3ee6dfc6b",
   "metadata": {},
   "outputs": [
    {
     "name": "stderr",
     "output_type": "stream",
     "text": [
      "/Users/zsk4gm/Desktop/resilience_education/env/lib/python3.10/site-packages/langchain_core/_api/deprecation.py:139: LangChainDeprecationWarning: The class `HuggingFaceEmbeddings` was deprecated in LangChain 0.2.2 and will be removed in 0.3.0. An updated version of the class exists in the langchain-huggingface package and should be used instead. To use it run `pip install -U langchain-huggingface` and import as `from langchain_huggingface import HuggingFaceEmbeddings`.\n",
      "  warn_deprecated(\n",
      "/Users/zsk4gm/Desktop/resilience_education/env/lib/python3.10/site-packages/sentence_transformers/cross_encoder/CrossEncoder.py:11: TqdmWarning: IProgress not found. Please update jupyter and ipywidgets. See https://ipywidgets.readthedocs.io/en/stable/user_install.html\n",
      "  from tqdm.autonotebook import tqdm, trange\n"
     ]
    }
   ],
   "source": [
    "# Load Embedding Model \n",
    "from langchain_community.embeddings import HuggingFaceEmbeddings\n",
    "\n",
    "model_name = \"multi-qa-mpnet-base-dot-v1\"\n",
    "model_kwargs = {'device': 'cpu'}\n",
    "encode_kwargs = {'normalize_embeddings': False}\n",
    "hf = HuggingFaceEmbeddings(\n",
    "    model_name=model_name,\n",
    "    model_kwargs=model_kwargs,\n",
    "    encode_kwargs=encode_kwargs\n",
    ")"
   ]
  },
  {
   "cell_type": "code",
   "execution_count": 6,
   "id": "b8f1d906-c3bc-4608-a599-04fb34fe08b9",
   "metadata": {},
   "outputs": [],
   "source": [
    "# Create the vector store and specify the persist directory\\n\",\n",
    "vectorstore = Chroma(persist_directory=persist_directory, embedding_function=hf)"
   ]
  },
  {
   "cell_type": "markdown",
   "id": "a613ba7a-ad7d-4452-8717-8153643d575d",
   "metadata": {},
   "source": [
    "## Load LLM"
   ]
  },
  {
   "cell_type": "code",
   "execution_count": 46,
   "id": "55541a77-baf5-4fa4-870e-97f00086edb1",
   "metadata": {},
   "outputs": [],
   "source": [
    "from langchain_community.llms import Ollama\n",
    "from langchain.callbacks.manager import CallbackManager\n",
    "from langchain.callbacks.streaming_stdout import StreamingStdOutCallbackHandler\n",
    "\n",
    "class CustomOllama(Ollama):\n",
    "    def __init__(self, model, callback_manager=None, stop=None, temperature=0.2):\n",
    "        super().__init__(model=model, stop=stop, temperature=temperature)\n",
    "        self.callback_manager = callback_manager\n",
    "\n",
    "# Initialize the CallbackManager\n",
    "callback_manager = CallbackManager([StreamingStdOutCallbackHandler()])\n",
    "\n",
    "# Create an instance of the CustomOllama class\n",
    "llm = CustomOllama(\n",
    "    model=\"llama3\",\n",
    "    callback_manager=callback_manager\n",
    ")"
   ]
  },
  {
   "cell_type": "code",
   "execution_count": 61,
   "id": "9ec7bbeb-55b7-4c46-8fac-c92c47714391",
   "metadata": {},
   "outputs": [],
   "source": [
    "#test \n",
    "prompt = [\"Why is the sky blue?\"]  # Prompt should be a list of strings\n",
    "\n",
    "# Generate text using the Ollama model\n",
    "generated_text = llm.generate(prompts=prompt)\n"
   ]
  },
  {
   "cell_type": "code",
   "execution_count": 62,
   "id": "af04d1ef-0120-4f02-804f-e64214f11e03",
   "metadata": {},
   "outputs": [
    {
     "name": "stdout",
     "output_type": "stream",
     "text": [
      "The sky appears blue because of a phenomenon called scattering, which involves the interaction between light, tiny molecules of gases in the atmosphere, and particles like dust and water droplets.\n",
      "\n",
      "Here's a simplified explanation:\n",
      "\n",
      "1. **Sunlight enters Earth's atmosphere**: When sunlight travels from the sun to our planet, it contains all the colors of the visible spectrum (red, orange, yellow, green, blue, indigo, and violet).\n",
      "2. **Scattering occurs**: As sunlight encounters tiny molecules of gases like nitrogen (N2) and oxygen (O2), as well as particles like dust, water droplets, and pollutants, it gets scattered in all directions.\n",
      "3. **Short wavelengths are scattered more**: The shorter the wavelength of light (i.e., the bluer or violet end of the spectrum), the more it is scattered by these tiny molecules and particles. This is known as Rayleigh scattering, named after the British physicist Lord Rayleigh, who first described the phenomenon in the late 19th century.\n",
      "4. **Long wavelengths pass through**: The longer wavelengths of light (i.e., the red or orange end of the spectrum), which contain less energy than the shorter wavelengths, are able to travel longer distances without being scattered as much. This is why we see more red and orange hues during sunrise and sunset, when the sun's rays have to travel longer distances through the atmosphere.\n",
      "5. **Our eyes perceive blue**: As a result of this scattering, the blue light (with its shorter wavelength) is distributed evenly throughout the sky, making it appear blue to our eyes.\n",
      "\n",
      "So, to summarize: the sky appears blue because the short wavelengths of light are scattered in all directions by tiny molecules and particles in the atmosphere, while longer wavelengths pass through relatively unscattered.\n"
     ]
    }
   ],
   "source": [
    "response = generated_text.generations[0][0].text\n",
    "print(response)"
   ]
  },
  {
   "cell_type": "markdown",
   "id": "52f748b9-0393-4ec8-b366-a19d4e4cc35d",
   "metadata": {},
   "source": [
    "## Setup RAG"
   ]
  },
  {
   "cell_type": "markdown",
   "id": "ca1c6a96-82c7-469c-a973-b9bb242a68ec",
   "metadata": {},
   "source": [
    "### Instantiate retriever"
   ]
  },
  {
   "cell_type": "code",
   "execution_count": 63,
   "id": "a6111bb2-f2bc-4825-bbdf-7f1f2183d9a4",
   "metadata": {},
   "outputs": [],
   "source": [
    "plain_retriever = vectorstore.as_retriever()"
   ]
  },
  {
   "cell_type": "markdown",
   "id": "074c373e-f720-4059-8da3-c2522ba08807",
   "metadata": {},
   "source": [
    "Meeting Notes 7/3/24\n",
    "Sophia wants to add levels of certainty ('we do not know the answer and you might need to do my research/need to provide more information')\n",
    "USE felony or misdemeanor instead of crime.\n",
    "To check accuracy of model try making small changes to prompts and see if it gives us different answers. \n",
    "Maybe run 2 prompts as the same time e.g. 'what can I do and what am I not allowed to do'"
   ]
  },
  {
   "cell_type": "markdown",
   "id": "135a3604-4180-4c27-a77f-ceedf51f0ae7",
   "metadata": {},
   "source": [
    "### Prompt Template"
   ]
  },
  {
   "cell_type": "code",
   "execution_count": 112,
   "id": "846fd790-b1d1-4d0f-bab9-0eb311cee5f8",
   "metadata": {},
   "outputs": [
    {
     "name": "stdout",
     "output_type": "stream",
     "text": [
      "================================\u001b[1m System Message \u001b[0m================================\n",
      "\n",
      "You're a legal expert tasked with translating legal restrictions into helpful plaintext for a jobseeker with a felony or misdemeanor who is trying to understand what jobs or certfications they can pursue.You are given text from the Virigina legal code that contains details about the restrictions.\n",
      "\n",
      "Use only the following sections of the law code to answer the user's query directly. Provide the source from the context: \u001b[33;1m\u001b[1;3m{context}\u001b[0m.Ensure that your answer addresses the user's query. Add as many details as you can from the context.If there are restrictions that employers can waive, please describe that.If you are uncertain about any of the restrictions or if none of the sections of the code answer the query, say that you are unsure and it would be best for the jobseeker to consult a legal professionalLastly, if there are similar similar jobs or certifications that the user can legally pursue with their conviction in Virginia, please describe those at the end of your response\n",
      "\n",
      "================================\u001b[1m Human Message \u001b[0m=================================\n",
      "\n",
      "\u001b[33;1m\u001b[1;3m{input}\u001b[0m\n"
     ]
    }
   ],
   "source": [
    "from langchain_core.prompts import ChatPromptTemplate\n",
    "\n",
    "system_prompt = (\n",
    "    \"You're a legal expert tasked with translating legal restrictions into helpful plaintext for a jobseeker with a felony or misdemeanor who is trying to understand what jobs or certfications they can pursue.\"\n",
    "    \"You are given text from the Virigina legal code that contains details about the restrictions.\"\n",
    "    \"\\n\\nUse only the following sections of the law code to answer the user's query directly. Provide the source from the context: \"\n",
    "    \"{context}.\"\n",
    "    \"Ensure that your answer addresses the user's query. Add as many details as you can from the context.\"\n",
    "    \"If there are restrictions that employers can waive, please describe that.\" \n",
    "    \"If you are uncertain about any of the restrictions or if none of the sections of the code answer the query, say that you are unsure and it would be best for the jobseeker to consult a legal professional\"\n",
    "    \"Lastly, if there are similar similar jobs or certifications that the user can legally pursue with their conviction in Virginia, please describe those at the end of your response\"\n",
    "    )\n",
    "\n",
    "prompt_plain = ChatPromptTemplate.from_messages(\n",
    "    [\n",
    "        (\"system\", system_prompt),\n",
    "        (\"human\", \"{input}\"),\n",
    "    ]\n",
    ")\n",
    "prompt_plain.pretty_print()"
   ]
  },
  {
   "cell_type": "markdown",
   "id": "6845879c-6d08-4a5f-bcfd-3d4bbf2bdeda",
   "metadata": {},
   "source": [
    "### Chain"
   ]
  },
  {
   "cell_type": "code",
   "execution_count": 75,
   "id": "1baa8d58-5baf-477d-8381-325bd04a3059",
   "metadata": {},
   "outputs": [],
   "source": [
    "from typing import List, Dict\n",
    "from langchain_core.documents import Document\n",
    "from langchain_core.output_parsers import StrOutputParser\n",
    "from langchain_core.runnables import RunnablePassthrough, RunnableMap\n",
    "\n",
    "# Function to format documents with their metadata\n",
    "def format_docs(docs: List[Document]):\n",
    "    formatted_docs = []\n",
    "    for doc in docs:\n",
    "        metadata_str = \"\\n\".join(f\"{key}: {value}\" for key, value in doc.metadata.items())\n",
    "        formatted_doc = f\"Metadata:\\n{metadata_str}\\n\\nContent:\\n{doc.page_content}\"\n",
    "        formatted_docs.append(formatted_doc)\n",
    "    return \"\\n\\n\".join(formatted_docs)\n",
    "\n",
    "# Chain to format documents, process with LLM, and parse the output\n",
    "rag_chain_from_docs = (\n",
    "    RunnablePassthrough.assign(context=(lambda x: format_docs(x[\"context\"])))\n",
    "    | prompt_plain  # Assuming 'prompt' is defined somewhere in your setup\n",
    "    | llm  # Assuming 'llm' is defined somewhere in your setup\n",
    "    | StrOutputParser()\n",
    ")\n",
    "\n",
    "# Function to retrieve documents based on a query\n",
    "retrieve_docs = (lambda x: x[\"input\"]) | plain_retriever  # Assuming 'retriever' is defined somewhere in your setup\n",
    "\n",
    "# Define the final chain\n",
    "chain_plain = RunnablePassthrough.assign(context=retrieve_docs).assign(\n",
    "    answer=rag_chain_from_docs\n",
    ")"
   ]
  },
  {
   "cell_type": "markdown",
   "id": "7fc9acce-4e20-4f05-8748-f8640197afc7",
   "metadata": {},
   "source": [
    "### Test with prompt"
   ]
  },
  {
   "cell_type": "code",
   "execution_count": 79,
   "id": "915069f7-955e-471c-927b-febe087b4dbc",
   "metadata": {},
   "outputs": [],
   "source": [
    "# Assuming you have a string for your prompt template\n",
    "query = \"Can I be a teacher with a violent crime on my record?\""
   ]
  },
  {
   "cell_type": "code",
   "execution_count": 113,
   "id": "c8ad1a6f-7337-4ee0-8cc0-f10617c83eae",
   "metadata": {},
   "outputs": [],
   "source": [
    "result = chain_plain.invoke({\"input\": query})"
   ]
  },
  {
   "cell_type": "code",
   "execution_count": 114,
   "id": "649a8028-204d-4d58-b637-1fe1dd510edc",
   "metadata": {},
   "outputs": [
    {
     "name": "stdout",
     "output_type": "stream",
     "text": [
      "Based on the provided code section 22.1-307, it appears that teachers may be dismissed for various reasons, including incompetency, immorality, noncompliance with school laws and regulations, disability, conviction of a felony or a crime of moral turpitude, or other good and just cause.\n",
      "\n",
      "Regarding your query about having a violent crime on your record, the code section does mention that a teacher shall be dismissed if they are convicted of certain crimes, such as rape of a child. However, it also states that in the case of a felony conviction, the individual must have had their civil rights restored by the Governor before being eligible for employment.\n",
      "\n",
      "It seems that having a violent crime on your record may not necessarily preclude you from becoming a teacher, but rather, you would need to have your civil rights restored and possibly provide additional information or certification to ensure compliance with school regulations. It is essential to note that the specific circumstances surrounding your conviction and restoration of civil rights will play a crucial role in determining your eligibility for employment.\n",
      "\n",
      "It's also important to mention that the code section requires teachers to certify that they have not been the subject of a founded case of child abuse and neglect as a condition of employment. Any person making a materially false statement regarding such finding is guilty of a Class 1 misdemeanor, which could impact their ability to teach.\n",
      "\n",
      "If you're unsure about your specific situation or have questions about how this code section applies to your circumstances, it would be best for you to consult with a legal professional who can provide guidance tailored to your individual case.\n",
      "\n",
      "Similar jobs or certifications that the user can legally pursue may include roles in education or training that do not require direct contact with students, such as administrative positions, curriculum development, or education policy. Additionally, the user could explore certifications or specializations within the field of education that align with their skills and experience.\n"
     ]
    }
   ],
   "source": [
    "print(result['answer'])"
   ]
  },
  {
   "cell_type": "code",
   "execution_count": 118,
   "id": "526550af-1c8a-412d-8e40-5228fbb35174",
   "metadata": {},
   "outputs": [
    {
     "data": {
      "text/plain": [
       "[Document(metadata={'ArticleName': 'Terms of Employment Generally', 'ArticleNum': '2', 'ChapterName': 'Teachers, Officers and Employees', 'ChapterNum': '15', 'Hrefs': '/vacode/19.2-392.02/; /vacode/19.2-392.02/; /vacode/19.2-392.02/; /vacode/19.2-392.02/; /vacode/19.2-392.02/; /vacode/19.2-392.02/; http://lis.virginia.gov/cgi-bin/legp604.exe?961+ful+CHAP0960; http://lis.virginia.gov/cgi-bin/legp604.exe?971+ful+CHAP0103; http://lis.virginia.gov/cgi-bin/legp604.exe?031+ful+CHAP0723; http://lis.virginia.gov/cgi-bin/legp604.exe?061+ful+CHAP0790; http://lis.virginia.gov/cgi-bin/legp604.exe?071+ful+CHAP0245; http://lis.virginia.gov/cgi-bin/legp604.exe?071+ful+CHAP0431; http://lis.virginia.gov/cgi-bin/legp604.exe?081+ful+CHAP0555; http://lis.virginia.gov/cgi-bin/legp604.exe?201+ful+CHAP0877; http://lis.virginia.gov/cgi-bin/legp604.exe?231+ful+CHAP0670; http://lis.virginia.gov/cgi-bin/legp604.exe?231+ful+CHAP0703', 'SectionNumber': '22.1-296.1', 'SectionTitle': 'Data on convictions for certain crimes and child abuse and neglect required; penalty', 'TitleName': 'Education', 'TitleNumber': '22.1', 'seq_num': 1, 'source': '/sfs/weka/scratch/zsk4gm/json_files_updated/22.1-296.1.json'}, page_content=\"<p>A. As a condition of employment for all of its public school employees, whether full-time or part-time, permanent, or temporary, every school board shall require on its application for employment certification of whether the applicant has been convicted of any violent felony set forth in the definition of barrier crime in subsection A of § <a href='/vacode/19.2-392.02/'>19.2-392.02</a>; any offense involving the sexual molestation, physical or sexual abuse, or rape of a child, or the solicitation of any such offense; or any crime of moral turpitude. Any individual making a materially false statement regarding any such offense is guilty of a Class 1 misdemeanor and, in the case of a teacher, upon conviction, the fact of such conviction is grounds for the Board to revoke his license to teach.</p><p>B. No school board shall employ any individual who has been convicted of any violent felony set forth in the definition of barrier crime in subsection A of § <a href='/vacode/19.2-392.02/'>19.2-392.02</a> or any\"),\n",
       " Document(metadata={'ArticleName': 'Terms of Employment Generally', 'ArticleNum': '2', 'ChapterName': 'Teachers, Officers and Employees', 'ChapterNum': '15', 'Hrefs': '/vacode/19.2-392.02/; /vacode/19.2-392.02/; /vacode/19.2-392.02/; /vacode/19.2-392.02/; /vacode/19.2-392.02/; /vacode/19.2-392.02/; http://lis.virginia.gov/cgi-bin/legp604.exe?961+ful+CHAP0960; http://lis.virginia.gov/cgi-bin/legp604.exe?971+ful+CHAP0103; http://lis.virginia.gov/cgi-bin/legp604.exe?031+ful+CHAP0723; http://lis.virginia.gov/cgi-bin/legp604.exe?061+ful+CHAP0790; http://lis.virginia.gov/cgi-bin/legp604.exe?071+ful+CHAP0245; http://lis.virginia.gov/cgi-bin/legp604.exe?071+ful+CHAP0431; http://lis.virginia.gov/cgi-bin/legp604.exe?081+ful+CHAP0555; http://lis.virginia.gov/cgi-bin/legp604.exe?201+ful+CHAP0877; http://lis.virginia.gov/cgi-bin/legp604.exe?231+ful+CHAP0670; http://lis.virginia.gov/cgi-bin/legp604.exe?231+ful+CHAP0703', 'SectionNumber': '22.1-296.1', 'SectionTitle': 'Data on convictions for certain crimes and child abuse and neglect required; penalty', 'TitleName': 'Education', 'TitleNumber': '22.1', 'seq_num': 1, 'source': '/sfs/weka/scratch/zsk4gm/json_files_updated/22.1-296.1.json'}, page_content=\"fact of such conviction is grounds for the Board to revoke his license to teach.</p><p>B. No school board shall employ any individual who has been convicted of any violent felony set forth in the definition of barrier crime in subsection A of § <a href='/vacode/19.2-392.02/'>19.2-392.02</a> or any offense involving the sexual molestation of, physical or sexual abuse, or rape of a child, or the solicitation of any such offense.</p><p>C. Any school board may employ any individual who has been convicted of any felony or crime of moral turpitude that is not set forth in the definition of barrier crime in subsection A of § <a href='/vacode/19.2-392.02/'>19.2-392.02</a> and does not involve the sexual molestation, physical or sexual abuse, or rape of a child, or the solicitation of any such offense, provided that in the case of a felony conviction, such individual has had his civil rights restored by the Governor.</p><p>D. Every school board shall also require on its application for employment, as a condition of\"),\n",
       " Document(metadata={'ArticleName': 'Grievances; Dismissal, Etc., of Teachers', 'ArticleNum': '3', 'ChapterName': 'Teachers, Officers and Employees', 'ChapterNum': '15', 'Hrefs': '/vacode/63.2-1505/; /vacode/63.2-1526/; /vacode/63.2-1526/; http://lis.virginia.gov/cgi-bin/legp604.exe?961+ful+CHAP0961; http://lis.virginia.gov/cgi-bin/legp604.exe?081+ful+CHAP0555; http://lis.virginia.gov/cgi-bin/legp604.exe?131+ful+CHAP0588; http://lis.virginia.gov/cgi-bin/legp604.exe?131+ful+CHAP0650; http://lis.virginia.gov/cgi-bin/legp604.exe?171+ful+CHAP0240; http://lis.virginia.gov/cgi-bin/legp604.exe?201+ful+CHAP0056; http://lis.virginia.gov/cgi-bin/legp604.exe?201+ful+CHAP0168', 'SectionNumber': '22.1-307', 'SectionTitle': 'Dismissal of teacher; grounds', 'TitleName': 'Education', 'TitleNumber': '22.1', 'seq_num': 1, 'source': '/sfs/weka/scratch/zsk4gm/json_files_updated/22.1-307.json'}, page_content=\"<p>Teachers may be dismissed for incompetency, immorality, noncompliance with school laws and regulations, disability as shown by competent medical evidence when in compliance with federal law, conviction of a felony or a crime of moral turpitude, or other good and just cause. A teacher shall be dismissed if such teacher is or becomes the subject of a founded complaint of child abuse and neglect, pursuant to § <a href='/vacode/63.2-1505/'>63.2-1505</a>, and after all rights to any administrative appeal provided by § <a href='/vacode/63.2-1526/'>63.2-1526</a> have been exhausted. The fact of such finding, after all rights to any administrative appeal provided by § <a href='/vacode/63.2-1526/'>63.2-1526</a> have been exhausted, shall be grounds for the local school division to recommend that the Board of Education revoke such person's license to teach. No teacher shall be dismissed or placed on probation solely on the basis of the teacher's refusal to submit to a polygraph examination requested by the school\"),\n",
       " Document(metadata={'ArticleName': 'Terms of Employment Generally', 'ArticleNum': '2', 'ChapterName': 'Teachers, Officers and Employees', 'ChapterNum': '15', 'Hrefs': '/vacode/19.2-392.02/; /vacode/19.2-392.02/; /vacode/19.2-392.02/; /vacode/19.2-392.02/; /vacode/19.2-392.02/; /vacode/19.2-392.02/; http://lis.virginia.gov/cgi-bin/legp604.exe?961+ful+CHAP0960; http://lis.virginia.gov/cgi-bin/legp604.exe?971+ful+CHAP0103; http://lis.virginia.gov/cgi-bin/legp604.exe?031+ful+CHAP0723; http://lis.virginia.gov/cgi-bin/legp604.exe?061+ful+CHAP0790; http://lis.virginia.gov/cgi-bin/legp604.exe?071+ful+CHAP0245; http://lis.virginia.gov/cgi-bin/legp604.exe?071+ful+CHAP0431; http://lis.virginia.gov/cgi-bin/legp604.exe?081+ful+CHAP0555; http://lis.virginia.gov/cgi-bin/legp604.exe?201+ful+CHAP0877; http://lis.virginia.gov/cgi-bin/legp604.exe?231+ful+CHAP0670; http://lis.virginia.gov/cgi-bin/legp604.exe?231+ful+CHAP0703', 'SectionNumber': '22.1-296.1', 'SectionTitle': 'Data on convictions for certain crimes and child abuse and neglect required; penalty', 'TitleName': 'Education', 'TitleNumber': '22.1', 'seq_num': 1, 'source': '/sfs/weka/scratch/zsk4gm/json_files_updated/22.1-296.1.json'}, page_content=\"or sexual abuse, or rape of a child, or the solicitation of any such offense, provided that in the case of a felony conviction, such individual has had his civil rights restored by the Governor.</p><p>D. Every school board shall also require on its application for employment, as a condition of employment requiring direct contact with students, whether full-time or part-time, permanent, or temporary, certification that the applicant has not been the subject of a founded case of child abuse and neglect. Any person making a materially false statement regarding a finding of child abuse and neglect is guilty of a Class 1 misdemeanor and upon conviction, the fact of such conviction is grounds for the Board to revoke such person's license to teach.</p><p>E. As a condition of awarding a contract for the provision of services that require the contractor or his employees to have direct contact with students on school property during regular school hours or during school-sponsored activities, the school board shall\")]"
      ]
     },
     "execution_count": 118,
     "metadata": {},
     "output_type": "execute_result"
    }
   ],
   "source": [
    "result['context']"
   ]
  },
  {
   "cell_type": "code",
   "execution_count": 115,
   "id": "90e2aaab-5e64-41be-81bd-23d988c57be2",
   "metadata": {},
   "outputs": [],
   "source": [
    "query2 = \"What jobs can I get in healthcare if I've been convicted of a drug offense?\"\n",
    "result2 = chain_plain.invoke({\"input\": query2})"
   ]
  },
  {
   "cell_type": "code",
   "execution_count": 116,
   "id": "92558ecd-8cb7-4e19-87fb-c72f0bdf7967",
   "metadata": {},
   "outputs": [
    {
     "name": "stdout",
     "output_type": "stream",
     "text": [
      "As a legal expert, I can help you understand how this section of the Virginia Code may impact your job prospects in healthcare.\n",
      "\n",
      "Section 19.2-392.02 of the Virginia Criminal Procedure Act requires businesses and organizations that provide care to children or vulnerable populations (such as the elderly or disabled) to conduct national criminal background checks on employees or volunteers who will be working with these populations. The law specifies certain types of offenses that may disqualify an individual from being hired or volunteering in these roles.\n",
      "\n",
      "In your case, if you've been convicted of a drug offense, it's likely that this section of the code will apply to your job search in healthcare. Specifically, subsection (ii) refers to violations of § 18.2-89 et seq., which includes offenses related to controlled substances and drugs.\n",
      "\n",
      "While there may be some flexibility in how these requirements are applied, employers may be hesitant to hire or retain individuals with drug-related convictions due to concerns about public safety and the well-being of their clients.\n",
      "\n",
      "That being said, it's not impossible for you to find employment in healthcare. Some potential options might include:\n",
      "\n",
      "1. Jobs that don't involve direct care: You may still be able to work in healthcare settings that don't require direct patient contact or working with vulnerable populations, such as administrative roles, medical records management, or health education positions.\n",
      "2. Certifications and training: Completing certifications or training programs in areas like addiction counseling, case management, or medical assisting might increase your chances of finding employment in healthcare despite a drug-related conviction.\n",
      "3. Jobs outside healthcare: Depending on the nature and severity of your conviction, you may find that jobs outside of healthcare are more feasible. Consider exploring opportunities in fields like customer service, sales, or education.\n",
      "\n",
      "To better understand how this section of the code affects your job prospects, I recommend consulting with a legal professional who has expertise in employment law and background checks. They can help you navigate any restrictions or limitations that may apply to your specific situation.\n"
     ]
    }
   ],
   "source": [
    "print(result2['answer'])"
   ]
  },
  {
   "cell_type": "code",
   "execution_count": 117,
   "id": "dcee91db-408d-47ea-b89a-ae004951afee",
   "metadata": {},
   "outputs": [
    {
     "data": {
      "text/plain": [
       "[Document(metadata={'ArticleName': '', 'ArticleNum': '', 'ChapterName': 'General Provisions', 'ChapterNum': '1', 'Hrefs': '/vacode/19.2-70.3/; /vacode/18.2-47/; /vacode/18.2-48/; /vacode/18.2-49/; /vacode/18.2-346/; /vacode/18.2-346.01/; /vacode/18.2-347/; /vacode/18.2-348/; /vacode/18.2-348.1/; /vacode/18.2-349/; /vacode/18.2-355/; /vacode/18.2-356/; /vacode/18.2-357/; /vacode/18.2-374.1/; /vacode/18.2-374.1:1/; /vacode/18.2-374.1:2/; /vacode/18.2-374.3/; http://lis.virginia.gov/cgi-bin/legp604.exe?071+ful+CHAP0802; http://lis.virginia.gov/cgi-bin/legp604.exe?071+ful+CHAP0814; http://lis.virginia.gov/cgi-bin/legp604.exe?141+ful+CHAP0166; http://lis.virginia.gov/cgi-bin/legp604.exe?151+ful+CHAP0544; http://lis.virginia.gov/cgi-bin/legp604.exe?151+ful+CHAP0625; http://lis.virginia.gov/cgi-bin/legp604.exe?191+ful+CHAP0458; http://lis.virginia.gov/cgi-bin/legp604.exe?212+ful+CHAP0188', 'SectionNumber': '19.2-10.2', 'SectionTitle': 'Administrative subpoena issued for record from provider of electronic communication service or remote computing service', 'TitleName': 'Criminal Procedure', 'TitleNumber': '19.2', 'seq_num': 1, 'source': '/sfs/weka/scratch/zsk4gm/json_files_updated/19.2-10.2.json'}, page_content=\"the records or other information being sought are relevant to a legitimate law-enforcement investigation concerning violations of §§ <a href='/vacode/18.2-47/'>18.2-47</a>, <a href='/vacode/18.2-48/'>18.2-48</a>, <a href='/vacode/18.2-49/'>18.2-49</a>, <a href='/vacode/18.2-346/'>18.2-346</a>, <a href='/vacode/18.2-346.01/'>18.2-346.01</a>, <a href='/vacode/18.2-347/'>18.2-347</a>, <a href='/vacode/18.2-348/'>18.2-348</a>, <a href='/vacode/18.2-348.1/'>18.2-348.1</a>, <a href='/vacode/18.2-349/'>18.2-349</a>, <a href='/vacode/18.2-355/'>18.2-355</a>, <a href='/vacode/18.2-356/'>18.2-356</a>, <a href='/vacode/18.2-357/'>18.2-357</a>, <a href='/vacode/18.2-374.1/'>18.2-374.1</a>, and <a href='/vacode/18.2-374.1:1/'>18.2-374.1:1</a>, former § <a href='/vacode/18.2-374.1:2/'>18.2-374.1:2</a>, and § <a href='/vacode/18.2-374.3/'>18.2-374.3</a>.</p><p>2. Upon written certification by the attorney for the Commonwealth or the Attorney General that there is a reason to believe that the victim is under the age of 18\"),\n",
       " Document(metadata={'ArticleName': '', 'ArticleNum': '', 'ChapterName': 'Virginia Criminal Sentencing Commission', 'ChapterNum': '8', 'Hrefs': '/vacode/18.2-61/; /vacode/16.1-253.2/; /vacode/18.2-29/; /vacode/18.2-31/; /vacode/18.2-32/; /vacode/18.2-32.1/; /vacode/18.2-32.2/; /vacode/18.2-33/; /vacode/18.2-35/; /vacode/18.2-36.1/; /vacode/18.2-40/; /vacode/18.2-41/; /vacode/18.2-46.3/; /vacode/18.2-46.5/; /vacode/18.2-46.6/; /vacode/18.2-46.7/; /vacode/18.2-47/; /vacode/18.2-48/; /vacode/18.2-48.1/; /vacode/18.2-49/; /vacode/18.2-51/; /vacode/18.2-51.1/; /vacode/18.2-51.2/; /vacode/18.2-51.3/; /vacode/18.2-51.4/; /vacode/18.2-51.6/; /vacode/18.2-52/; /vacode/18.2-52.1/; /vacode/18.2-53/; /vacode/18.2-53.1/; /vacode/18.2-54.1/; /vacode/18.2-54.2/; /vacode/18.2-55/; /vacode/18.2-57/; /vacode/18.2-57.2/; /vacode/18.2-58/; /vacode/18.2-58.1/; /vacode/18.2-60.1/; /vacode/18.2-60.3/; /vacode/18.2-60.4/; /vacode/18.2-61/; /vacode/18.2-64.1/; /vacode/18.2-67.1/; /vacode/18.2-67.2/; /vacode/18.2-67.2:1/; /vacode/18.2-67.3/; /vacode/18.2-67.5/; /vacode/18.2-67.5:1/; /vacode/18.2-67.4/; /vacode/18.2-67.5/; /vacode/18.2-63/; /vacode/18.2-67.4:1/; /vacode/18.2-77/; /vacode/18.2-79/; /vacode/18.2-80/; /vacode/18.2-85/; /vacode/18.2-89/; /vacode/18.2-90/; /vacode/18.2-91/; /vacode/18.2-92/; /vacode/18.2-93/; /vacode/18.2-152.7/; /vacode/18.2-153/; /vacode/18.2-154/; /vacode/18.2-155/; /vacode/18.2-162/; /vacode/18.2-279/; /vacode/18.2-280/; /vacode/18.2-281/; /vacode/18.2-282/; /vacode/18.2-282.1/; /vacode/18.2-286.1/; /vacode/18.2-287.2/; /vacode/18.2-289/; /vacode/18.2-290/; /vacode/18.2-300/; /vacode/18.2-308.1/; /vacode/18.2-308.2/; /vacode/18.2-308.2:1/; /vacode/18.2-308.2:2/; /vacode/18.2-308.3/; /vacode/18.2-312/; /vacode/18.2-346/; /vacode/18.2-346.01/; /vacode/18.2-348/; /vacode/18.2-349/; /vacode/18.2-355/; /vacode/18.2-356/; /vacode/18.2-357/; /vacode/18.2-357.1/; /vacode/18.2-358/; /vacode/18.2-361/; /vacode/18.2-366/; /vacode/18.2-368/; /vacode/18.2-370/; /vacode/18.2-370.1/; /vacode/18.2-371.1/; /vacode/18.2-369/; /vacode/18.2-374.1/; /vacode/18.2-374.1:1/; /vacode/18.2-374.3/; /vacode/18.2-374.4/; /vacode/18.2-379/; /vacode/18.2-381/; /vacode/18.2-405/; /vacode/18.2-406/; /vacode/18.2-408/; /vacode/18.2-413/; /vacode/18.2-414/; /vacode/18.2-423/; /vacode/18.2-423.01/; /vacode/18.2-423.1/; /vacode/18.2-423.2/; /vacode/18.2-433.2/; /vacode/18.2-460/; /vacode/18.2-474.1/; /vacode/18.2-477.1/; /vacode/18.2-477/; /vacode/18.2-478/; /vacode/18.2-480/; /vacode/18.2-481/; /vacode/18.2-485/; /vacode/37.2-917/; /vacode/52-48/; /vacode/53.1-203/; http://lis.virginia.gov/cgi-bin/legp604.exe?941+ful+CHAP0001; http://lis.virginia.gov/cgi-bin/legp604.exe?941+ful+CHAP0002; http://lis.virginia.gov/cgi-bin/legp604.exe?951+ful+CHAP0482; http://lis.virginia.gov/cgi-bin/legp604.exe?981+ful+CHAP0277; http://lis.virginia.gov/cgi-bin/legp604.exe?981+ful+CHAP0872; http://lis.virginia.gov/cgi-bin/legp604.exe?991+ful+CHAP0349; http://lis.virginia.gov/cgi-bin/legp604.exe?041+ful+CHAP0459; http://lis.virginia.gov/cgi-bin/legp604.exe?041+ful+CHAP0866; http://lis.virginia.gov/cgi-bin/legp604.exe?051+ful+CHAP0631; http://lis.virginia.gov/cgi-bin/legp604.exe?111+ful+CHAP0282; http://lis.virginia.gov/cgi-bin/legp604.exe?131+ful+CHAP0424; http://lis.virginia.gov/cgi-bin/legp604.exe?131+ful+CHAP0647; http://lis.virginia.gov/cgi-bin/legp604.exe?151+ful+CHAP0690; http://lis.virginia.gov/cgi-bin/legp604.exe?151+ful+CHAP0691; http://lis.virginia.gov/cgi-bin/legp604.exe?191+ful+CHAP0617; http://lis.virginia.gov/cgi-bin/legp604.exe?212+ful+CHAP0188', 'SectionNumber': '17.1-805', 'SectionTitle': 'Adoption of initial discretionary sentencing guideline midpoints', 'TitleName': 'Courts of Record', 'TitleNumber': '17.1', 'seq_num': 1, 'source': '/sfs/weka/scratch/zsk4gm/json_files_updated/17.1-805.json'}, page_content=\"any violation of § <a href='/vacode/18.2-281/'>18.2-281</a>; any felony violation of subsection A of § <a href='/vacode/18.2-282/'>18.2-282</a>; any felony violation of § <a href='/vacode/18.2-282.1/'>18.2-282.1</a>; any violation of § <a href='/vacode/18.2-286.1/'>18.2-286.1</a>, <a href='/vacode/18.2-287.2/'>18.2-287.2</a>, <a href='/vacode/18.2-289/'>18.2-289</a>, or <a href='/vacode/18.2-290/'>18.2-290</a>; any violation of subsection A of § <a href='/vacode/18.2-300/'>18.2-300</a>; any felony violation of subsection C of § <a href='/vacode/18.2-308.1/'>18.2-308.1</a> or § <a href='/vacode/18.2-308.2/'>18.2-308.2</a>; any violation of § <a href='/vacode/18.2-308.2:1/'>18.2-308.2:1</a> or subsection M or N of § <a href='/vacode/18.2-308.2:2/'>18.2-308.2:2</a>; any violation of § <a href='/vacode/18.2-308.3/'>18.2-308.3</a> or <a href='/vacode/18.2-312/'>18.2-312</a>; any former felony violation of § <a href='/vacode/18.2-346/'>18.2-346</a>; any felony violation of § <a\"),\n",
       " Document(metadata={'ArticleName': 'In General', 'ArticleNum': '1', 'ChapterName': 'Evidence and Witnesses', 'ChapterNum': '16', 'Hrefs': '/vacode/18.2-31/; /vacode/18.2-32/; /vacode/18.2-35/; /vacode/18.2-47/; /vacode/18.2-48/; /vacode/18.2-51/; /vacode/18.2-51.2/; /vacode/18.2-51.6/; /vacode/18.2-52/; /vacode/18.2-54.1/; /vacode/18.2-54.2/; /vacode/18.2-61/; /vacode/18.2-67.1/; /vacode/18.2-67.2/; /vacode/18.2-67.3/; /vacode/18.2-346.01/; /vacode/18.2-355/; /vacode/18.2-356/; /vacode/18.2-357/; /vacode/18.2-357.1/; /vacode/18.2-361/; /vacode/18.2-366/; /vacode/18.2-370/; /vacode/18.2-370.1/; /vacode/18.2-371.1/; /vacode/18.2-374.1/; /vacode/18.2-374.1:1/; /vacode/18.2-374.3/; /vacode/18.2-374.4/; /vacode/18.2-386.1/; /vacode/40.1-103/; http://lis.virginia.gov/cgi-bin/legp604.exe?161+ful+CHAP0542; http://lis.virginia.gov/cgi-bin/legp604.exe?161+ful+CHAP0553; http://lis.virginia.gov/cgi-bin/legp604.exe?212+ful+CHAP0188', 'SectionNumber': '19.2-268.3', 'SectionTitle': 'Admissibility of statements by children in certain cases', 'TitleName': 'Criminal Procedure', 'TitleNumber': '19.2', 'seq_num': 1, 'source': '/sfs/weka/scratch/zsk4gm/json_files_updated/19.2-268.3.json'}, page_content=\"§ <a href='/vacode/18.2-346.01/'>18.2-346.01</a> if punishable as a felony, § <a href='/vacode/18.2-355/'>18.2-355</a>, <a href='/vacode/18.2-356/'>18.2-356</a>, <a href='/vacode/18.2-357/'>18.2-357</a>, or <a href='/vacode/18.2-357.1/'>18.2-357.1</a>, subsection B of § <a href='/vacode/18.2-361/'>18.2-361</a>, subsection B of § <a href='/vacode/18.2-366/'>18.2-366</a>, § <a href='/vacode/18.2-370/'>18.2-370</a>, <a href='/vacode/18.2-370.1/'>18.2-370.1</a>, <a href='/vacode/18.2-371.1/'>18.2-371.1</a>, <a href='/vacode/18.2-374.1/'>18.2-374.1</a>, <a href='/vacode/18.2-374.1:1/'>18.2-374.1:1</a>, <a href='/vacode/18.2-374.3/'>18.2-374.3</a>, or <a href='/vacode/18.2-374.4/'>18.2-374.4</a>, § <a href='/vacode/18.2-386.1/'>18.2-386.1</a> if punishable as a felony, or § <a href='/vacode/40.1-103/'>40.1-103</a>.</p><p>B. An out-of-court statement made by a child who is under 13 years of age at the time of trial or hearing who is the alleged victim of an offense against children describing any act directed\"),\n",
       " Document(metadata={'ArticleName': '', 'ArticleNum': '', 'ChapterName': 'Central Criminal Records Exchange', 'ChapterNum': '23', 'Hrefs': '/vacode/16.1-253.2/; /vacode/18.2-31/; /vacode/18.2-32/; /vacode/18.2-32.1/; /vacode/18.2-32.2/; /vacode/18.2-33/; /vacode/18.2-35/; /vacode/18.2-36/; /vacode/18.2-36.1/; /vacode/18.2-36.2/; /vacode/18.2-41/; /vacode/18.2-42/; /vacode/18.2-46.2/; /vacode/18.2-46.3/; /vacode/18.2-46.3:1/; /vacode/18.2-46.3:3/; /vacode/18.2-46.5/; /vacode/18.2-46.6/; /vacode/18.2-46.7/; /vacode/18.2-47/; /vacode/18.2-48/; /vacode/18.2-49/; /vacode/18.2-50.3/; /vacode/18.2-51/; /vacode/18.2-51.1/; /vacode/18.2-51.2/; /vacode/18.2-51.3/; /vacode/18.2-51.4/; /vacode/18.2-51.5/; /vacode/18.2-51.6/; /vacode/18.2-52/; /vacode/18.2-52.1/; /vacode/18.2-53/; /vacode/18.2-53.1/; /vacode/18.2-54.1/; /vacode/18.2-54.2/; /vacode/18.2-55/; /vacode/18.2-55.1/; /vacode/18.2-56/; /vacode/18.2-56.1/; /vacode/18.2-56.2/; /vacode/18.2-57/; /vacode/18.2-57.01/; /vacode/18.2-57.02/; /vacode/18.2-57.2/; /vacode/18.2-58/; /vacode/18.2-58.1/; /vacode/18.2-59/; /vacode/18.2-60/; /vacode/18.2-60.1/; /vacode/18.2-60.3/; /vacode/18.2-60.4/; /vacode/18.2-61/; /vacode/18.2-63/; /vacode/18.2-64.1/; /vacode/18.2-64.2/; /vacode/18.2-67.1/; /vacode/18.2-67.2/; /vacode/18.2-67.3/; /vacode/18.2-67.4/; /vacode/18.2-67.4:1/; /vacode/18.2-67.4:2/; /vacode/18.2-67.5/; /vacode/18.2-67.5:1/; /vacode/18.2-67.5:2/; /vacode/18.2-67.5:3/; /vacode/18.2-77/; /vacode/18.2-79/; /vacode/18.2-80/; /vacode/18.2-81/; /vacode/18.2-82/; /vacode/18.2-83/; /vacode/18.2-84/; /vacode/18.2-85/; /vacode/18.2-86/; /vacode/18.2-87/; /vacode/18.2-87.1/; /vacode/18.2-88/; /vacode/18.2-279/; /vacode/18.2-280/; /vacode/18.2-281/; /vacode/18.2-282/; /vacode/18.2-282.1/; /vacode/18.2-286.1/; /vacode/18.2-287.2/; /vacode/18.2-289/; /vacode/18.2-290/; /vacode/18.2-300/; /vacode/18.2-308.4/; /vacode/18.2-314/; /vacode/18.2-346.01/; /vacode/18.2-348/; /vacode/18.2-349/; /vacode/18.2-355/; /vacode/18.2-356/; /vacode/18.2-357/; /vacode/18.2-357.1/; /vacode/18.2-361/; /vacode/18.2-366/; /vacode/18.2-369/; /vacode/18.2-370/; /vacode/18.2-370.1/; /vacode/18.2-370.2/; /vacode/18.2-370.3/; /vacode/18.2-370.4/; /vacode/18.2-370.5/; /vacode/18.2-370.6/; /vacode/18.2-371.1/; /vacode/18.2-374.1/; /vacode/18.2-374.1:1/; /vacode/18.2-374.3/; /vacode/18.2-374.4/; /vacode/18.2-379/; /vacode/18.2-386.1/; /vacode/18.2-386.2/; /vacode/18.2-405/; /vacode/18.2-406/; /vacode/18.2-408/; /vacode/18.2-413/; /vacode/18.2-414/; /vacode/18.2-423/; /vacode/18.2-423.01/; /vacode/18.2-423.1/; /vacode/18.2-423.2/; /vacode/18.2-433.2/; /vacode/18.2-472.1/; /vacode/18.2-474.1/; /vacode/18.2-477/; /vacode/18.2-477.1/; /vacode/18.2-477.2/; /vacode/18.2-478/; /vacode/18.2-479/; /vacode/18.2-480/; /vacode/18.2-481/; /vacode/18.2-484/; /vacode/18.2-485/; /vacode/37.2-917/; /vacode/53.1-203/; /vacode/18.2-89/; /vacode/18.2-90/; /vacode/18.2-91/; /vacode/18.2-92/; /vacode/18.2-93/; /vacode/18.2-94/; /vacode/4.1-1101/; /vacode/18.2-248/; /vacode/18.2-248.01/; /vacode/18.2-248.02/; /vacode/18.2-248.03/; /vacode/18.2-248.1/; /vacode/18.2-248.5/; /vacode/18.2-251.2/; /vacode/18.2-251.3/; /vacode/18.2-255/; /vacode/18.2-255.2/; /vacode/18.2-258/; /vacode/18.2-258.02/; /vacode/18.2-258.1/; /vacode/18.2-258.2/; /vacode/18.2-250/; /vacode/9.1-902/; /vacode/9.1-901/; /vacode/19.2-182.2/; /vacode/9.1-902/; /vacode/9.1-901/; /vacode/22.1-289.030/; http://lis.virginia.gov/cgi-bin/legp604.exe?001+ful+CHAP0860; http://lis.virginia.gov/cgi-bin/legp604.exe?051+ful+CHAP0217; http://lis.virginia.gov/cgi-bin/legp604.exe?151+ful+CHAP0758; http://lis.virginia.gov/cgi-bin/legp604.exe?151+ful+CHAP0770; http://lis.virginia.gov/cgi-bin/legp604.exe?171+ful+CHAP0809; http://lis.virginia.gov/cgi-bin/legp604.exe?181+ful+CHAP0009; http://lis.virginia.gov/cgi-bin/legp604.exe?181+ful+CHAP0810; http://lis.virginia.gov/cgi-bin/legp604.exe?191+ful+CHAP0617; http://lis.virginia.gov/cgi-bin/legp604.exe?201+ful+CHAP0860; http://lis.virginia.gov/cgi-bin/legp604.exe?201+ful+CHAP0861; http://lis.virginia.gov/cgi-bin/legp604.exe?212+ful+CHAP0188; http://lis.virginia.gov/cgi-bin/legp604.exe?212+ful+CHAP0550; http://lis.virginia.gov/cgi-bin/legp604.exe?212+ful+CHAP0551', 'SectionNumber': '19.2-392.02', 'SectionTitle': 'National criminal background checks by businesses and organizations regarding employees or volunteers providing care to children or the elderly or disabled', 'TitleName': 'Criminal Procedure', 'TitleNumber': '19.2', 'seq_num': 1, 'source': '/sfs/weka/scratch/zsk4gm/json_files_updated/19.2-392.02.json'}, page_content='<a href=\"/vacode/18.2-485/\" data-mce-href=\\'/vacode/18.2-485/\\'>18.2-485</a>, <a href=\"/vacode/37.2-917/\" data-mce-href=\\'/vacode/37.2-917/\\'>37.2-917</a>, or <a href=\"/vacode/53.1-203/\" data-mce-href=\\'/vacode/53.1-203/\\'>53.1-203</a>; or any substantially similar offense under the laws of another jurisdiction; (ii) any violation of § <a href=\"/vacode/18.2-89/\" data-mce-href=\\'/vacode/18.2-89/\\'>18.2-89</a>, <a href=\"/vacode/18.2-90/\" data-mce-href=\\'/vacode/18.2-90/\\'>18.2-90</a>, <a href=\"/vacode/18.2-91/\" data-mce-href=\\'/vacode/18.2-91/\\'>18.2-91</a>, <a href=\"/vacode/18.2-92/\" data-mce-href=\\'/vacode/18.2-92/\\'>18.2-92</a>, <a href=\"/vacode/18.2-93/\" data-mce-href=\\'/vacode/18.2-93/\\'>18.2-93</a>, or <a href=\"/vacode/18.2-94/\" data-mce-href=\\'/vacode/18.2-94/\\'>18.2-94</a> or any substantially similar offense under the laws of another jurisdiction; (iii) any felony violation of § <a href=\"/vacode/4.1-1101/\" data-mce-href=\\'/vacode/4.1-1101/\\'>4.1-1101</a>, <a href=\"/vacode/18.2-248/\"')]"
      ]
     },
     "execution_count": 117,
     "metadata": {},
     "output_type": "execute_result"
    }
   ],
   "source": [
    "result2['context']"
   ]
  },
  {
   "cell_type": "markdown",
   "id": "fba165e7-8419-4a50-83f7-6bbd754af825",
   "metadata": {},
   "source": [
    "# Trulens Eval"
   ]
  },
  {
   "cell_type": "code",
   "execution_count": 132,
   "id": "15c54d5f-a5ac-4ca2-b438-b69f6dc30246",
   "metadata": {},
   "outputs": [
    {
     "name": "stdout",
     "output_type": "stream",
     "text": [
      "zsh:1: 1.25.2 not found\n"
     ]
    },
    {
     "name": "stderr",
     "output_type": "stream",
     "text": [
      "huggingface/tokenizers: The current process just got forked, after parallelism has already been used. Disabling parallelism to avoid deadlocks...\n",
      "To disable this warning, you can either:\n",
      "\t- Avoid using `tokenizers` before the fork if possible\n",
      "\t- Explicitly set the environment variable TOKENIZERS_PARALLELISM=(true | false)\n"
     ]
    }
   ],
   "source": [
    "!pip install litellm>=1.25.2"
   ]
  },
  {
   "cell_type": "code",
   "execution_count": 128,
   "id": "76780814-bcd5-44d9-abe2-f906f8cf0911",
   "metadata": {},
   "outputs": [
    {
     "name": "stderr",
     "output_type": "stream",
     "text": [
      "huggingface/tokenizers: The current process just got forked, after parallelism has already been used. Disabling parallelism to avoid deadlocks...\n",
      "To disable this warning, you can either:\n",
      "\t- Avoid using `tokenizers` before the fork if possible\n",
      "\t- Explicitly set the environment variable TOKENIZERS_PARALLELISM=(true | false)\n"
     ]
    },
    {
     "name": "stdout",
     "output_type": "stream",
     "text": [
      "2600:6c67:5000:51d0:dcff:823b:1e86:d6d2"
     ]
    }
   ],
   "source": [
    "# Local IP address command \n",
    "!curl ifconfig.me."
   ]
  },
  {
   "cell_type": "code",
   "execution_count": 129,
   "id": "d3e46298-c91d-42b9-bc6e-b77881cfa141",
   "metadata": {},
   "outputs": [],
   "source": [
    "import trulens_eval\n",
    "# Imports main tools:\n",
    "from trulens_eval import TruChain, Tru\n",
    "tru = Tru()\n",
    "tru.reset_database()"
   ]
  },
  {
   "cell_type": "code",
   "execution_count": 130,
   "id": "742d0018-440c-4e13-90d5-282dcc1f71a3",
   "metadata": {},
   "outputs": [],
   "source": [
    "# Initialize LiteLLM-based feedback function collection class:\n",
    "from langchain.llms import Ollama\n",
    "from trulens_eval import LiteLLM\n",
    "import litellm"
   ]
  },
  {
   "cell_type": "code",
   "execution_count": 131,
   "id": "c087dfba-a520-49c3-afea-ebda5b3f925d",
   "metadata": {},
   "outputs": [
    {
     "ename": "ModuleNotFoundError",
     "evalue": "\nlitellm package is required for using LiteLLM models.\nYou should be able to install it with pip:\n\n    ```bash\n    pip install \"litellm>=1.25.2\"\n    ```\n",
     "output_type": "error",
     "traceback": [
      "\u001b[0;31m---------------------------------------------------------------------------\u001b[0m",
      "\u001b[0;31mModuleNotFoundError\u001b[0m                       Traceback (most recent call last)",
      "File \u001b[0;32m~/Desktop/resilience_education/env/lib/python3.10/site-packages/trulens_eval/utils/imports.py:578\u001b[0m, in \u001b[0;36mOptionalImports.__import__\u001b[0;34m(self, name, globals, locals, fromlist, level)\u001b[0m\n\u001b[1;32m    577\u001b[0m \u001b[38;5;28;01mtry\u001b[39;00m:\n\u001b[0;32m--> 578\u001b[0m     mod \u001b[38;5;241m=\u001b[39m \u001b[38;5;28;43mself\u001b[39;49m\u001b[38;5;241;43m.\u001b[39;49m\u001b[43mimp\u001b[49m\u001b[43m(\u001b[49m\u001b[43mname\u001b[49m\u001b[43m,\u001b[49m\u001b[43m \u001b[49m\u001b[38;5;28;43mglobals\u001b[39;49m\u001b[43m,\u001b[49m\u001b[43m \u001b[49m\u001b[38;5;28;43mlocals\u001b[39;49m\u001b[43m,\u001b[49m\u001b[43m \u001b[49m\u001b[43mfromlist\u001b[49m\u001b[43m,\u001b[49m\u001b[43m \u001b[49m\u001b[43mlevel\u001b[49m\u001b[43m)\u001b[49m\n\u001b[1;32m    580\u001b[0m     \u001b[38;5;66;03m# NOTE(piotrm): commented block attempts to check module contents for required\u001b[39;00m\n\u001b[1;32m    581\u001b[0m     \u001b[38;5;66;03m# attributes so we can offer a message without raising an exception later. It is\u001b[39;00m\n\u001b[1;32m    582\u001b[0m     \u001b[38;5;66;03m# commented out for now it is catching some things we don't watch to catch. Need to\u001b[39;00m\n\u001b[1;32m    583\u001b[0m     \u001b[38;5;66;03m# check how attributes are normally looked up in a module to fix this. Specifically, the\u001b[39;00m\n\u001b[1;32m    584\u001b[0m     \u001b[38;5;66;03m# code that raises these messages: \"ImportError: cannot import name ...\"\u001b[39;00m\n",
      "File \u001b[0;32m~/Desktop/resilience_education/env/lib/python3.10/site-packages/trulens_eval/feedback/provider/litellm.py:18\u001b[0m\n\u001b[1;32m     17\u001b[0m \u001b[38;5;66;03m# check that the optional imports are not dummies:\u001b[39;00m\n\u001b[0;32m---> 18\u001b[0m \u001b[43mOptionalImports\u001b[49m\u001b[43m(\u001b[49m\u001b[43mmessages\u001b[49m\u001b[38;5;241;43m=\u001b[39;49m\u001b[43mREQUIREMENT_LITELLM\u001b[49m\u001b[43m)\u001b[49m\u001b[38;5;241;43m.\u001b[39;49m\u001b[43massert_installed\u001b[49m\u001b[43m(\u001b[49m\u001b[43mlitellm\u001b[49m\u001b[43m)\u001b[49m\n\u001b[1;32m     20\u001b[0m logger \u001b[38;5;241m=\u001b[39m logging\u001b[38;5;241m.\u001b[39mgetLogger(\u001b[38;5;18m__name__\u001b[39m)\n",
      "File \u001b[0;32m~/Desktop/resilience_education/env/lib/python3.10/site-packages/trulens_eval/utils/imports.py:547\u001b[0m, in \u001b[0;36mOptionalImports.assert_installed\u001b[0;34m(self, mods)\u001b[0m\n\u001b[1;32m    546\u001b[0m \u001b[38;5;28;01mif\u001b[39;00m \u001b[38;5;28many\u001b[39m(\u001b[38;5;28misinstance\u001b[39m(mod, Dummy) \u001b[38;5;28;01mfor\u001b[39;00m mod \u001b[38;5;129;01min\u001b[39;00m mods):\n\u001b[0;32m--> 547\u001b[0m     \u001b[38;5;28;01mraise\u001b[39;00m \u001b[38;5;167;01mModuleNotFoundError\u001b[39;00m(\u001b[38;5;28mself\u001b[39m\u001b[38;5;241m.\u001b[39mmessages\u001b[38;5;241m.\u001b[39mmodule_not_found)\n",
      "\u001b[0;31mModuleNotFoundError\u001b[0m: \nlitellm package is required for using LiteLLM models.\nYou should be able to install it with pip:\n\n    ```bash\n    pip install \"litellm>=1.25.2\"\n    ```\n",
      "\nThe above exception was the direct cause of the following exception:\n",
      "\u001b[0;31mModuleNotFoundError\u001b[0m                       Traceback (most recent call last)",
      "Cell \u001b[0;32mIn[131], line 2\u001b[0m\n\u001b[1;32m      1\u001b[0m \u001b[38;5;66;03m#'http://localhost:11435' refers to everyone's local device\u001b[39;00m\n\u001b[0;32m----> 2\u001b[0m ollama_provider \u001b[38;5;241m=\u001b[39m \u001b[43mLiteLLM\u001b[49m\u001b[43m(\u001b[49m\u001b[43mmodel_engine\u001b[49m\u001b[38;5;241;43m=\u001b[39;49m\u001b[38;5;124;43m'\u001b[39;49m\u001b[38;5;124;43mollama/llama3\u001b[39;49m\u001b[38;5;124;43m'\u001b[39;49m\u001b[43m,\u001b[49m\u001b[43m \u001b[49m\u001b[43mapi_base\u001b[49m\u001b[38;5;241;43m=\u001b[39;49m\u001b[38;5;124;43m'\u001b[39;49m\u001b[38;5;124;43mhttp://174.20.175.133:11435\u001b[39;49m\u001b[38;5;124;43m'\u001b[39;49m\u001b[43m)\u001b[49m\n",
      "File \u001b[0;32m~/Desktop/resilience_education/env/lib/python3.10/site-packages/trulens_eval/utils/imports.py:447\u001b[0m, in \u001b[0;36mDummy.__call__\u001b[0;34m(self, *args, **kwargs)\u001b[0m\n\u001b[1;32m    446\u001b[0m \u001b[38;5;28;01mdef\u001b[39;00m \u001b[38;5;21m__call__\u001b[39m(\u001b[38;5;28mself\u001b[39m, \u001b[38;5;241m*\u001b[39margs, \u001b[38;5;241m*\u001b[39m\u001b[38;5;241m*\u001b[39mkwargs):\n\u001b[0;32m--> 447\u001b[0m     \u001b[38;5;28;01mraise\u001b[39;00m \u001b[38;5;28mself\u001b[39m\u001b[38;5;241m.\u001b[39mexception_class(\u001b[38;5;28mself\u001b[39m\u001b[38;5;241m.\u001b[39mmessage) \u001b[38;5;28;01mfrom\u001b[39;00m \u001b[38;5;21;01mself\u001b[39;00m\u001b[38;5;21;01m.\u001b[39;00m\u001b[38;5;21;01moriginal_exception\u001b[39;00m\n",
      "\u001b[0;31mModuleNotFoundError\u001b[0m: \nlitellm package is required for using LiteLLM models.\nYou should be able to install it with pip:\n\n    ```bash\n    pip install \"litellm>=1.25.2\"\n    ```\n"
     ]
    }
   ],
   "source": [
    "#'http://localhost:11435' refers to everyone's local device\n",
    "ollama_provider = LiteLLM(model_engine='ollama/llama3', api_base='http://174.20.175.133:11435')"
   ]
  },
  {
   "cell_type": "code",
   "execution_count": null,
   "id": "e3e861c9-7258-4228-82d6-e8d40519149e",
   "metadata": {},
   "outputs": [],
   "source": [
    "import numpy as np\n",
    "from trulens_eval import Feedback, Select\n",
    "\n",
    "context = result['context']\n",
    "context_texts = [doc.page_content for doc in context]\n",
    "\n",
    "# Define a groundedness feedback function\n",
    "f_groundedness = (\n",
    "    Feedback(ollama_provider.groundedness_measure_with_cot_reasons, name=\"Groundedness\")\n",
    "    .on(Select.RecordCalls.args.context)  # This selects the context from the function call\n",
    "    .on_output()\n",
    ")\n",
    "\n",
    "# Question/answer relevance between overall question and answer\n",
    "f_answer_relevance = (\n",
    "    Feedback(ollama_provider.relevance_with_cot_reasons, name=\"Answer Relevance\")\n",
    "    .on(Select.RecordCalls.args.query)  # This selects the query/input\n",
    "    .on_output()  # This selects the output directly\n",
    ")\n",
    "\n",
    "# Context relevance between question and each context chunk\n",
    "f_context_relevance = (\n",
    "    Feedback(ollama_provider.context_relevance_with_cot_reasons, name=\"Context Relevance\")\n",
    "    .on(Select.RecordCalls.args.query)  # This selects the query/input\n",
    "    .on(Select.RecordCalls.args.context)  # This selects the context\n",
    "    .aggregate(np.mean)\n",
    ") "
   ]
  },
  {
   "cell_type": "code",
   "execution_count": null,
   "id": "3dfb9a6a-43b3-4e11-b1a7-1d4ffaba86b7",
   "metadata": {},
   "outputs": [],
   "source": [
    "tru_recorder = TruChain(\n",
    "    app=llm,\n",
    "    app_id='Chain1_ChatApplication',\n",
    "    feedbacks=[f_answer_relevance, f_context_relevance, f_groundedness], \n",
    "    selectors_check_warning=True\n",
    ")"
   ]
  },
  {
   "cell_type": "code",
   "execution_count": null,
   "id": "2c760809-b8de-457e-86fa-2075406fa6ba",
   "metadata": {},
   "outputs": [],
   "source": [
    "with tru_recorder as recording:\n",
    "    llm_response = chain_plain.invoke({\"input\": query})\n",
    "\n",
    "display(llm_response)"
   ]
  },
  {
   "cell_type": "code",
   "execution_count": null,
   "id": "4c415b42-29aa-458c-9710-6a5dd85b41fe",
   "metadata": {},
   "outputs": [],
   "source": []
  }
 ],
 "metadata": {
  "kernelspec": {
   "display_name": "Python 3 (ipykernel)",
   "language": "python",
   "name": "python3"
  },
  "language_info": {
   "codemirror_mode": {
    "name": "ipython",
    "version": 3
   },
   "file_extension": ".py",
   "mimetype": "text/x-python",
   "name": "python",
   "nbconvert_exporter": "python",
   "pygments_lexer": "ipython3",
   "version": "3.10.9"
  }
 },
 "nbformat": 4,
 "nbformat_minor": 5
}
