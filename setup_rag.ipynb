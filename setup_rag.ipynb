{
 "cells": [
  {
   "cell_type": "code",
   "execution_count": 2,
   "id": "c87d51c1-f370-4fad-8c01-c30b1427bf33",
   "metadata": {},
   "outputs": [],
   "source": [
    "import os\n",
    "from langchain_chroma import Chroma"
   ]
  },
  {
   "cell_type": "code",
   "execution_count": 1,
   "id": "71bfbc5a-08cc-4fd2-a642-e6624392234e",
   "metadata": {},
   "outputs": [
    {
     "name": "stdout",
     "output_type": "stream",
     "text": [
      "/Users/zsk4gm/Desktop/resilience_education/env/bin/python3\n"
     ]
    }
   ],
   "source": [
    "import sys\n",
    "print(sys.executable)"
   ]
  },
  {
   "cell_type": "markdown",
   "id": "9b9d6f4c-f514-4e35-bb4d-f7c84529c1e5",
   "metadata": {},
   "source": [
    "## Initiate Chroma DB with saved embeddings"
   ]
  },
  {
   "cell_type": "code",
   "execution_count": 3,
   "id": "abf56ccd-495f-44f7-86d0-e0738f23c887",
   "metadata": {},
   "outputs": [],
   "source": [
    "# Create the file path to the 'embeddings' folder\n",
    "current_directory = os.getcwd()\n",
    "persist_directory = os.path.join(current_directory, 'embeddings')"
   ]
  },
  {
   "cell_type": "code",
   "execution_count": 4,
   "id": "4b2682e8-a8c0-4973-85a3-64e3ee6dfc6b",
   "metadata": {},
   "outputs": [
    {
     "name": "stderr",
     "output_type": "stream",
     "text": [
      "/Users/zsk4gm/Desktop/resilience_education/env/lib/python3.10/site-packages/langchain_core/_api/deprecation.py:139: LangChainDeprecationWarning: The class `HuggingFaceEmbeddings` was deprecated in LangChain 0.2.2 and will be removed in 0.3.0. An updated version of the class exists in the langchain-huggingface package and should be used instead. To use it run `pip install -U langchain-huggingface` and import as `from langchain_huggingface import HuggingFaceEmbeddings`.\n",
      "  warn_deprecated(\n",
      "/Users/zsk4gm/Desktop/resilience_education/env/lib/python3.10/site-packages/sentence_transformers/cross_encoder/CrossEncoder.py:11: TqdmWarning: IProgress not found. Please update jupyter and ipywidgets. See https://ipywidgets.readthedocs.io/en/stable/user_install.html\n",
      "  from tqdm.autonotebook import tqdm, trange\n"
     ]
    }
   ],
   "source": [
    "# Load Embedding Model \n",
    "from langchain_community.embeddings import HuggingFaceEmbeddings\n",
    "\n",
    "model_name = \"multi-qa-mpnet-base-dot-v1\"\n",
    "model_kwargs = {'device': 'cpu'}\n",
    "encode_kwargs = {'normalize_embeddings': False}\n",
    "hf = HuggingFaceEmbeddings(\n",
    "    model_name=model_name,\n",
    "    model_kwargs=model_kwargs,\n",
    "    encode_kwargs=encode_kwargs\n",
    ")"
   ]
  },
  {
   "cell_type": "code",
   "execution_count": 5,
   "id": "b8f1d906-c3bc-4608-a599-04fb34fe08b9",
   "metadata": {},
   "outputs": [],
   "source": [
    "# Create the vector store and specify the persist directory\\n\",\n",
    "vectorstore = Chroma(persist_directory=persist_directory, embedding_function=hf)"
   ]
  },
  {
   "cell_type": "markdown",
   "id": "a613ba7a-ad7d-4452-8717-8153643d575d",
   "metadata": {},
   "source": [
    "## Load LLM"
   ]
  },
  {
   "cell_type": "code",
   "execution_count": 6,
   "id": "55541a77-baf5-4fa4-870e-97f00086edb1",
   "metadata": {},
   "outputs": [],
   "source": [
    "from langchain_community.llms import Ollama\n",
    "from langchain.callbacks.manager import CallbackManager\n",
    "from langchain.callbacks.streaming_stdout import StreamingStdOutCallbackHandler\n",
    "\n",
    "class CustomOllama(Ollama):\n",
    "    def __init__(self, model, callback_manager=None, stop=None, temperature=0.2):\n",
    "        super().__init__(model=model, stop=stop, temperature=temperature)\n",
    "        self.callback_manager = callback_manager\n",
    "\n",
    "# Initialize the CallbackManager\n",
    "callback_manager = CallbackManager([StreamingStdOutCallbackHandler()])\n",
    "\n",
    "# Create an instance of the CustomOllama class\n",
    "llm = CustomOllama(\n",
    "    model=\"llama3\",\n",
    "    callback_manager=callback_manager,\n",
    "    stop=[\"\"]\n",
    ")\n",
    "\n",
    "temperature = 0.2\n",
    "#higher temperature = more creativity "
   ]
  },
  {
   "cell_type": "code",
   "execution_count": 7,
   "id": "9ec7bbeb-55b7-4c46-8fac-c92c47714391",
   "metadata": {},
   "outputs": [],
   "source": [
    "#test \n",
    "prompt = [\"Why is the sky blue?\"]  # Prompt should be a list of strings\n",
    "\n",
    "# Generate text using the Ollama model\n",
    "generated_text = llm.generate(prompts=prompt, temperature=temperature)"
   ]
  },
  {
   "cell_type": "markdown",
   "id": "52f748b9-0393-4ec8-b366-a19d4e4cc35d",
   "metadata": {},
   "source": [
    "## Setup RAG"
   ]
  },
  {
   "cell_type": "markdown",
   "id": "ca1c6a96-82c7-469c-a973-b9bb242a68ec",
   "metadata": {},
   "source": [
    "### Instantiate retriever"
   ]
  },
  {
   "cell_type": "code",
   "execution_count": 8,
   "id": "a6111bb2-f2bc-4825-bbdf-7f1f2183d9a4",
   "metadata": {},
   "outputs": [],
   "source": [
    "plain_retriever = vectorstore.as_retriever()"
   ]
  },
  {
   "cell_type": "markdown",
   "id": "135a3604-4180-4c27-a77f-ceedf51f0ae7",
   "metadata": {},
   "source": [
    "### Prompt Template"
   ]
  },
  {
   "cell_type": "code",
   "execution_count": 9,
   "id": "846fd790-b1d1-4d0f-bab9-0eb311cee5f8",
   "metadata": {},
   "outputs": [
    {
     "name": "stdout",
     "output_type": "stream",
     "text": [
      "================================\u001b[1m System Message \u001b[0m================================\n",
      "\n",
      "You're a helpful AI assistant for a jobseeker with a criminal conviction trying to understand what legal restrictions exist for jobs and certifications.Given a user question and sections of Virginia law code, answer the user question. If none of the sections of the law code from Virginia answer the questionJust say you don't know.\n",
      "\n",
      "Use only the following sections of the law code to answer the question. Provide the source from the context: \u001b[33;1m\u001b[1;3m{context}\u001b[0m\n",
      "\n",
      "================================\u001b[1m Human Message \u001b[0m=================================\n",
      "\n",
      "\u001b[33;1m\u001b[1;3m{input}\u001b[0m\n"
     ]
    }
   ],
   "source": [
    "from langchain_core.prompts import ChatPromptTemplate\n",
    "\n",
    "system_prompt = (\n",
    "    \"You're a helpful AI assistant for a jobseeker with a criminal conviction trying to understand what legal restrictions exist for jobs and certifications.\"\n",
    "    \"Given a user question and sections of Virginia law code, answer the user question. If none of the sections of the law code from Virginia answer the question\"\n",
    "    \"Just say you don't know.\"\n",
    "    \"\\n\\nUse only the following sections of the law code to answer the question. Provide the source from the context: \"\n",
    "    \"{context}\"\n",
    "    )\n",
    "\n",
    "prompt_plain = ChatPromptTemplate.from_messages(\n",
    "    [\n",
    "        (\"system\", system_prompt),\n",
    "        (\"human\", \"{input}\"),\n",
    "    ]\n",
    ")\n",
    "prompt_plain.pretty_print()"
   ]
  },
  {
   "cell_type": "markdown",
   "id": "6845879c-6d08-4a5f-bcfd-3d4bbf2bdeda",
   "metadata": {},
   "source": [
    "### Chain"
   ]
  },
  {
   "cell_type": "code",
   "execution_count": 37,
   "id": "1baa8d58-5baf-477d-8381-325bd04a3059",
   "metadata": {},
   "outputs": [],
   "source": [
    "from typing import List, Dict\n",
    "from langchain_core.documents import Document\n",
    "from langchain_core.output_parsers import StrOutputParser\n",
    "from langchain_core.runnables import RunnablePassthrough, RunnableMap\n",
    "\n",
    "# Function to format documents with their metadata\n",
    "def format_docs(docs: List[Document]):\n",
    "    formatted_docs = []\n",
    "    for doc in docs:\n",
    "        metadata_str = \"\\n\".join(f\"{key}: {value}\" for key, value in doc.metadata.items())\n",
    "        formatted_doc = f\"Metadata:\\n{metadata_str}\\n\\nContent:\\n{doc.page_content}\"\n",
    "        formatted_docs.append(formatted_doc)\n",
    "    return \"\\n\\n\".join(formatted_docs)\n",
    "\n",
    "# Chain to format documents, process with LLM, and parse the output\n",
    "rag_chain_from_docs = (\n",
    "    RunnablePassthrough.assign(context=(lambda x: format_docs(x[\"context\"])))\n",
    "    | prompt_plain  # Assuming 'prompt' is defined somewhere in your setup\n",
    "    | llm  # Assuming 'llm' is defined somewhere in your setup\n",
    "    | StrOutputParser()\n",
    ")\n",
    "\n",
    "# Function to retrieve documents based on a query\n",
    "retrieve_docs = (lambda x: x[\"input\"]) | plain_retriever  # Assuming 'retriever' is defined somewhere in your setup\n",
    "\n",
    "# Define the final chain\n",
    "chain_plain = RunnablePassthrough.assign(context=retrieve_docs).assign(\n",
    "    answer=rag_chain_from_docs\n",
    ")"
   ]
  },
  {
   "cell_type": "markdown",
   "id": "7fc9acce-4e20-4f05-8748-f8640197afc7",
   "metadata": {},
   "source": [
    "### Test with prompt"
   ]
  },
  {
   "cell_type": "code",
   "execution_count": 38,
   "id": "915069f7-955e-471c-927b-febe087b4dbc",
   "metadata": {},
   "outputs": [],
   "source": [
    "# Assuming you have a string for your prompt template\n",
    "query = \"What job restrictions exist for someone convicted of a crime?\""
   ]
  },
  {
   "cell_type": "code",
   "execution_count": 39,
   "id": "c8ad1a6f-7337-4ee0-8cc0-f10617c83eae",
   "metadata": {},
   "outputs": [],
   "source": [
    "result = chain_plain.invoke({\"input\": query})"
   ]
  },
  {
   "cell_type": "code",
   "execution_count": 40,
   "id": "526550af-1c8a-412d-8e40-5228fbb35174",
   "metadata": {},
   "outputs": [
    {
     "data": {
      "text/plain": [
       "[Document(metadata={'ArticleName': 'The Department and the Commissioner', 'ArticleNum': '1', 'ChapterName': 'Department of Behavioral Health and Developmental Services', 'ChapterNum': '3', 'Hrefs': '/vacode/19.2-392.02/; /vacode/19.2-392.02/; /vacode/19.2-392.02/; /vacode/18.2-57/; /vacode/18.2-248/; /vacode/18.2-250/; /vacode/18.2-258.1/; /vacode/18.2-248/; /vacode/18.2-51.3/; /vacode/18.2-56/; /vacode/18.2-56.1/; /vacode/18.2-57.2/; /vacode/18.2-60/; /vacode/18.2-89/; /vacode/18.2-92/; /vacode/18.2-94/; /vacode/18.2-282/; /vacode/18.2-346/; /vacode/18.2-346.01/; /vacode/19.2-392.02/; /vacode/18.2-248/; /vacode/19.2-392.02/; /vacode/63.2-1515/; http://lis.virginia.gov/cgi-bin/legp604.exe?961+ful+CHAP0881; http://lis.virginia.gov/cgi-bin/legp604.exe?961+ful+CHAP0927; http://lis.virginia.gov/cgi-bin/legp604.exe?991+ful+CHAP0685; http://lis.virginia.gov/cgi-bin/legp604.exe?051+ful+CHAP0716; http://lis.virginia.gov/cgi-bin/legp604.exe?121+ful+CHAP0383; http://lis.virginia.gov/cgi-bin/legp604.exe?121+ful+CHAP0476; http://lis.virginia.gov/cgi-bin/legp604.exe?121+ful+CHAP0507; http://lis.virginia.gov/cgi-bin/legp604.exe?171+ful+CHAP0809; http://lis.virginia.gov/cgi-bin/legp604.exe?201+ful+CHAP1092; http://lis.virginia.gov/cgi-bin/legp604.exe?212+ful+CHAP0188; http://lis.virginia.gov/cgi-bin/legp604.exe?231+ful+CHAP0138; http://lis.virginia.gov/cgi-bin/legp604.exe?231+ful+CHAP0139; http://lis.virginia.gov/cgi-bin/legp604.exe?241+ful+CHAP0651; http://lis.virginia.gov/cgi-bin/legp604.exe?241+ful+CHAP0683', 'SectionNumber': '37.2-314', 'SectionTitle': 'Background check required', 'TitleName': 'Behavioral Health and Developmental Services', 'TitleNumber': '37.2', 'seq_num': 1, 'source': '/sfs/weka/scratch/zsk4gm/json_files_updated/37.2-314.json'}, page_content=\"employment at an adult substance abuse or adult mental health treatment program a person who was convicted of any violation of § <a href='/vacode/18.2-51.3/'>18.2-51.3</a>; any misdemeanor violation of § <a href='/vacode/18.2-56/'>18.2-56</a> or <a href='/vacode/18.2-56.1/'>18.2-56.1</a>; any first offense misdemeanor violation of § <a href='/vacode/18.2-57.2/'>18.2-57.2</a>; any violation of § <a href='/vacode/18.2-60/'>18.2-60</a>, <a href='/vacode/18.2-89/'>18.2-89</a>, <a href='/vacode/18.2-92/'>18.2-92</a>, or <a href='/vacode/18.2-94/'>18.2-94</a>; any misdemeanor violation of § <a href='/vacode/18.2-282/'>18.2-282</a>, <a href='/vacode/18.2-346/'>18.2-346</a>, or <a href='/vacode/18.2-346.01/'>18.2-346.01</a>; any offense set forth in clause (iii) of the definition of barrier crime in § <a href='/vacode/19.2-392.02/'>19.2-392.02</a>, except an offense pursuant to subsection H1 or H2 of § <a href='/vacode/18.2-248/'>18.2-248</a>; or any substantially similar offense under the laws of another\"),\n",
       " Document(metadata={'ArticleName': 'Local Departments and Local Directors of Social Services', 'ArticleNum': '2', 'ChapterName': 'Local Social Services', 'ChapterNum': '3', 'Hrefs': 'http://lis.virginia.gov/cgi-bin/legp604.exe?241+ful+CHAP0555', 'SectionNumber': '63.2-325.1', 'SectionTitle': 'Criminal background checks required', 'TitleName': 'Welfare (Social Services)', 'TitleNumber': '63.2', 'seq_num': 1, 'source': '/sfs/weka/scratch/zsk4gm/json_files_updated/63.2-325.1.json'}, page_content='report the results of such search to:</p><p>1. The local board or its designee if the search request concerns a local director or an applicant for local director; or</p><p>2. The local director if the search request concerns any other employment position at the local department.</p><p>C. No local department shall hire for compensated employment or continue to employ any person who has been convicted of any criminal offense that relates to an employment position under a policy that includes the following determining criteria: (i) the nature and seriousness of the crime; (ii) the relationship of the crime to the work to be performed in the position applied for; (iii) the extent to which the position applied for might offer an opportunity to engage in further criminal activity of the same type as that in which the person has been involved; (iv) the relationship of the crime to the ability, capacity, or fitness required to perform the duties and discharge the responsibilities of the position being sought; (v)'),\n",
       " Document(metadata={'ArticleName': 'Licensing Providers of Behavioral Health and Developmental Services', 'ArticleNum': '2', 'ChapterName': 'Protection of Consumers', 'ChapterNum': '4', 'Hrefs': '/vacode/19.2-392.02/; /vacode/19.2-392.02/; /vacode/19.2-392.02/; /vacode/19.2-392.02/; /vacode/19.2-392.02/; /vacode/19.2-392.02/; /vacode/18.2-57/; /vacode/18.2-248/; /vacode/18.2-250/; /vacode/18.2-258.1/; /vacode/18.2-248/; /vacode/18.2-51.3/; /vacode/18.2-56/; /vacode/18.2-56.1/; /vacode/18.2-57.2/; /vacode/18.2-60/; /vacode/18.2-89/; /vacode/18.2-92/; /vacode/18.2-94/; /vacode/18.2-282/; /vacode/18.2-346/; /vacode/18.2-346.01/; /vacode/19.2-392.02/; /vacode/18.2-248/; /vacode/19.2-392.02/; /vacode/18.2-57/; /vacode/18.2-57.2/; /vacode/18.2-57.2/; /vacode/63.2-1515/; /vacode/19.2-389/; /vacode/63.2-1515/; /vacode/19.2-392.02/; /vacode/19.2-392.02/; /vacode/19.2-392.02/; http://lis.virginia.gov/cgi-bin/legp604.exe?231+ful+CHAP0236; http://lis.virginia.gov/cgi-bin/legp604.exe?241+ful+CHAP0651; http://lis.virginia.gov/cgi-bin/legp604.exe?241+ful+CHAP0683', 'SectionNumber': '37.2-416.1', 'SectionTitle': 'Background checks required; adult substance abuse and mental health services', 'TitleName': 'Behavioral Health and Developmental Services', 'TitleNumber': '37.2', 'seq_num': 1, 'source': '/sfs/weka/scratch/zsk4gm/json_files_updated/37.2-416.1.json'}, page_content=\"any first offense misdemeanor violation of § <a href='/vacode/18.2-57.2/'>18.2-57.2</a>; any violation of § <a href='/vacode/18.2-60/'>18.2-60</a>, <a href='/vacode/18.2-89/'>18.2-89</a>, <a href='/vacode/18.2-92/'>18.2-92</a>, or <a href='/vacode/18.2-94/'>18.2-94</a>; any misdemeanor violation of § <a href='/vacode/18.2-282/'>18.2-282</a>, <a href='/vacode/18.2-346/'>18.2-346</a>, or <a href='/vacode/18.2-346.01/'>18.2-346.01</a>; any offense set forth in clause (iii) of the definition of barrier crime in § <a href='/vacode/19.2-392.02/'>19.2-392.02</a>, except an offense pursuant to subsections H1 and H2 of § <a href='/vacode/18.2-248/'>18.2-248</a>; or any substantially similar offense under the laws of another jurisdiction, if the hiring provider determines, based upon a screening assessment, that the criminal behavior was substantially related to the applicant's substance abuse or mental illness and that the person has been successfully rehabilitated and is not a risk to individuals receiving services\"),\n",
       " Document(metadata={'ArticleName': 'General Powers; County Manager Plan', 'ArticleNum': '2', 'ChapterName': 'County Manager Plan of Government', 'ChapterNum': '7', 'Hrefs': 'http://law.lis.virginia.gov/vacode/19.2-389/; http://lis.virginia.gov/cgi-bin/legp604.exe?021+ful+CHAP0670; http://lis.virginia.gov/cgi-bin/legp604.exe?021+ful+CHAP0730; http://lis.virginia.gov/cgi-bin/legp604.exe?031+ful+CHAP0739', 'SectionNumber': '15.2-709.1', 'SectionTitle': 'Applicant preemployment information in Arlington County', 'TitleName': 'Counties, Cities and Towns', 'TitleNumber': '15.2', 'seq_num': 1, 'source': '/sfs/weka/scratch/zsk4gm/json_files_updated/15.2-709.1.json'}, page_content=\"that no record exists, shall make a report to the county manager or his designee, who must belong to a governmental entity. In determining whether a criminal conviction directly relates to a position, the locality shall consider the following criteria: (i) the nature and seriousness of the crime; (ii) the relationship of the crime to the work to be performed in the position applied for; (iii) the extent to which the position applied for might offer an opportunity to engage in further criminal activity of the same type as that in which the person had been involved; (iv) the relationship of the crime to the ability, capacity or fitness required to perform the duties and discharge the responsibilities of the position being sought; (v) the extent and nature of the person's past criminal activity; (vi) the age of the person at the time of the commission of the crime; (vii) the amount of time that has elapsed since the person's last involvement in the commission of a crime; (viii) the conduct and work activity of\")]"
      ]
     },
     "execution_count": 40,
     "metadata": {},
     "output_type": "execute_result"
    }
   ],
   "source": [
    "result['context']"
   ]
  },
  {
   "cell_type": "markdown",
   "id": "fba165e7-8419-4a50-83f7-6bbd754af825",
   "metadata": {},
   "source": [
    "# Trulens Eval"
   ]
  },
  {
   "cell_type": "code",
   "execution_count": null,
   "id": "76780814-bcd5-44d9-abe2-f906f8cf0911",
   "metadata": {},
   "outputs": [],
   "source": [
    "# Local IP address command \n",
    "# !curl ifconfig.me."
   ]
  },
  {
   "cell_type": "code",
   "execution_count": 24,
   "id": "d3e46298-c91d-42b9-bc6e-b77881cfa141",
   "metadata": {},
   "outputs": [
    {
     "ename": "ModuleNotFoundError",
     "evalue": "No module named 'trulens_eval'",
     "output_type": "error",
     "traceback": [
      "\u001b[0;31m---------------------------------------------------------------------------\u001b[0m",
      "\u001b[0;31mModuleNotFoundError\u001b[0m                       Traceback (most recent call last)",
      "Cell \u001b[0;32mIn[24], line 1\u001b[0m\n\u001b[0;32m----> 1\u001b[0m \u001b[38;5;28;01mimport\u001b[39;00m \u001b[38;5;21;01mtrulens_eval\u001b[39;00m\n\u001b[1;32m      2\u001b[0m \u001b[38;5;66;03m# Imports main tools:\u001b[39;00m\n\u001b[1;32m      3\u001b[0m \u001b[38;5;28;01mfrom\u001b[39;00m \u001b[38;5;21;01mtrulens_eval\u001b[39;00m \u001b[38;5;28;01mimport\u001b[39;00m TruChain, Tru\n",
      "\u001b[0;31mModuleNotFoundError\u001b[0m: No module named 'trulens_eval'"
     ]
    }
   ],
   "source": [
    "import trulens_eval\n",
    "# Imports main tools:\n",
    "from trulens_eval import TruChain, Tru\n",
    "tru = Tru()\n",
    "tru.reset_database()"
   ]
  },
  {
   "cell_type": "code",
   "execution_count": null,
   "id": "742d0018-440c-4e13-90d5-282dcc1f71a3",
   "metadata": {},
   "outputs": [],
   "source": [
    "# Initialize LiteLLM-based feedback function collection class:\n",
    "from langchain.llms import Ollama\n",
    "from trulens_eval import LiteLLM\n",
    "import litellm"
   ]
  },
  {
   "cell_type": "code",
   "execution_count": null,
   "id": "c087dfba-a520-49c3-afea-ebda5b3f925d",
   "metadata": {},
   "outputs": [],
   "source": [
    "#'http://localhost:11435' refers to everyone's local device\n",
    "ollama_provider = LiteLLM(model_engine='ollama/llama3', api_base='http://174.20.175.133:11435')"
   ]
  },
  {
   "cell_type": "code",
   "execution_count": null,
   "id": "e3e861c9-7258-4228-82d6-e8d40519149e",
   "metadata": {},
   "outputs": [],
   "source": [
    "import numpy as np\n",
    "from trulens_eval import Feedback, Select\n",
    "\n",
    "context = result['context']\n",
    "context_texts = [doc.page_content for doc in context]\n",
    "\n",
    "# Define a groundedness feedback function\n",
    "f_groundedness = (\n",
    "    Feedback(ollama_provider.groundedness_measure_with_cot_reasons, name=\"Groundedness\")\n",
    "    .on(Select.RecordCalls.args.context)  # This selects the context from the function call\n",
    "    .on_output()\n",
    ")\n",
    "\n",
    "# Question/answer relevance between overall question and answer\n",
    "f_answer_relevance = (\n",
    "    Feedback(ollama_provider.relevance_with_cot_reasons, name=\"Answer Relevance\")\n",
    "    .on(Select.RecordCalls.args.query)  # This selects the query/input\n",
    "    .on_output()  # This selects the output directly\n",
    ")\n",
    "\n",
    "# Context relevance between question and each context chunk\n",
    "f_context_relevance = (\n",
    "    Feedback(ollama_provider.context_relevance_with_cot_reasons, name=\"Context Relevance\")\n",
    "    .on(Select.RecordCalls.args.query)  # This selects the query/input\n",
    "    .on(Select.RecordCalls.args.context)  # This selects the context\n",
    "    .aggregate(np.mean)\n",
    ") "
   ]
  },
  {
   "cell_type": "code",
   "execution_count": null,
   "id": "3dfb9a6a-43b3-4e11-b1a7-1d4ffaba86b7",
   "metadata": {},
   "outputs": [],
   "source": [
    "tru_recorder = TruChain(\n",
    "    app=llm,\n",
    "    app_id='Chain1_ChatApplication',\n",
    "    feedbacks=[f_answer_relevance, f_context_relevance, f_groundedness], \n",
    "    selectors_check_warning=True\n",
    ")"
   ]
  },
  {
   "cell_type": "code",
   "execution_count": null,
   "id": "2c760809-b8de-457e-86fa-2075406fa6ba",
   "metadata": {},
   "outputs": [],
   "source": [
    "with tru_recorder as recording:\n",
    "    llm_response = chain_plain.invoke({\"input\": query})\n",
    "\n",
    "display(llm_response)"
   ]
  },
  {
   "cell_type": "code",
   "execution_count": null,
   "id": "4c415b42-29aa-458c-9710-6a5dd85b41fe",
   "metadata": {},
   "outputs": [],
   "source": []
  }
 ],
 "metadata": {
  "kernelspec": {
   "display_name": "Python 3 (ipykernel)",
   "language": "python",
   "name": "python3"
  },
  "language_info": {
   "codemirror_mode": {
    "name": "ipython",
    "version": 3
   },
   "file_extension": ".py",
   "mimetype": "text/x-python",
   "name": "python",
   "nbconvert_exporter": "python",
   "pygments_lexer": "ipython3",
   "version": "3.10.9"
  }
 },
 "nbformat": 4,
 "nbformat_minor": 5
}
