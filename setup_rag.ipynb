{
 "cells": [
  {
   "cell_type": "code",
   "execution_count": 1,
   "id": "c87d51c1-f370-4fad-8c01-c30b1427bf33",
   "metadata": {},
   "outputs": [],
   "source": [
    "import os\n",
    "from langchain_chroma import Chroma"
   ]
  },
  {
   "cell_type": "code",
   "execution_count": 13,
   "id": "e182d156-7fbe-4385-adba-504d3d4860cd",
   "metadata": {},
   "outputs": [
    {
     "name": "stdout",
     "output_type": "stream",
     "text": [
      "Collecting Ollama\n",
      "  Using cached ollama-0.2.1-py3-none-any.whl.metadata (4.2 kB)\n",
      "Requirement already satisfied: httpx<0.28.0,>=0.27.0 in ./env/lib/python3.10/site-packages (from Ollama) (0.27.0)\n",
      "Requirement already satisfied: anyio in ./env/lib/python3.10/site-packages (from httpx<0.28.0,>=0.27.0->Ollama) (4.4.0)\n",
      "Requirement already satisfied: certifi in ./env/lib/python3.10/site-packages (from httpx<0.28.0,>=0.27.0->Ollama) (2024.7.4)\n",
      "Requirement already satisfied: httpcore==1.* in ./env/lib/python3.10/site-packages (from httpx<0.28.0,>=0.27.0->Ollama) (1.0.5)\n",
      "Requirement already satisfied: idna in ./env/lib/python3.10/site-packages (from httpx<0.28.0,>=0.27.0->Ollama) (3.7)\n",
      "Requirement already satisfied: sniffio in ./env/lib/python3.10/site-packages (from httpx<0.28.0,>=0.27.0->Ollama) (1.3.1)\n",
      "Requirement already satisfied: h11<0.15,>=0.13 in ./env/lib/python3.10/site-packages (from httpcore==1.*->httpx<0.28.0,>=0.27.0->Ollama) (0.14.0)\n",
      "Requirement already satisfied: exceptiongroup>=1.0.2 in ./env/lib/python3.10/site-packages (from anyio->httpx<0.28.0,>=0.27.0->Ollama) (1.2.1)\n",
      "Requirement already satisfied: typing-extensions>=4.1 in ./env/lib/python3.10/site-packages (from anyio->httpx<0.28.0,>=0.27.0->Ollama) (4.12.2)\n",
      "Using cached ollama-0.2.1-py3-none-any.whl (9.7 kB)\n",
      "Installing collected packages: Ollama\n",
      "Successfully installed Ollama-0.2.1\n"
     ]
    }
   ],
   "source": [
    "!pip install Ollama"
   ]
  },
  {
   "cell_type": "code",
   "execution_count": 158,
   "id": "71bfbc5a-08cc-4fd2-a642-e6624392234e",
   "metadata": {},
   "outputs": [
    {
     "name": "stdout",
     "output_type": "stream",
     "text": [
      "/Users/zsk4gm/Desktop/resilience_education/env/bin/python3\n"
     ]
    }
   ],
   "source": [
    "import sys\n",
    "print(sys.executable)"
   ]
  },
  {
   "cell_type": "markdown",
   "id": "9b9d6f4c-f514-4e35-bb4d-f7c84529c1e5",
   "metadata": {},
   "source": [
    "## Initiate Chroma DB with saved embeddings"
   ]
  },
  {
   "cell_type": "code",
   "execution_count": 4,
   "id": "abf56ccd-495f-44f7-86d0-e0738f23c887",
   "metadata": {},
   "outputs": [],
   "source": [
    "# Create the file path to the 'embeddings' folder\n",
    "current_directory = os.getcwd()\n",
    "persist_directory = os.path.join(current_directory, 'embeddings')"
   ]
  },
  {
   "cell_type": "code",
   "execution_count": 5,
   "id": "4b2682e8-a8c0-4973-85a3-64e3ee6dfc6b",
   "metadata": {},
   "outputs": [
    {
     "name": "stderr",
     "output_type": "stream",
     "text": [
      "/Users/zsk4gm/Desktop/resilience_education/env/lib/python3.10/site-packages/langchain_core/_api/deprecation.py:139: LangChainDeprecationWarning: The class `HuggingFaceEmbeddings` was deprecated in LangChain 0.2.2 and will be removed in 0.3.0. An updated version of the class exists in the langchain-huggingface package and should be used instead. To use it run `pip install -U langchain-huggingface` and import as `from langchain_huggingface import HuggingFaceEmbeddings`.\n",
      "  warn_deprecated(\n",
      "/Users/zsk4gm/Desktop/resilience_education/env/lib/python3.10/site-packages/sentence_transformers/cross_encoder/CrossEncoder.py:11: TqdmWarning: IProgress not found. Please update jupyter and ipywidgets. See https://ipywidgets.readthedocs.io/en/stable/user_install.html\n",
      "  from tqdm.autonotebook import tqdm, trange\n"
     ]
    }
   ],
   "source": [
    "# Load Embedding Model \n",
    "from langchain_community.embeddings import HuggingFaceEmbeddings\n",
    "\n",
    "model_name = \"multi-qa-mpnet-base-dot-v1\"\n",
    "model_kwargs = {'device': 'cpu'}\n",
    "encode_kwargs = {'normalize_embeddings': False}\n",
    "hf = HuggingFaceEmbeddings(\n",
    "    model_name=model_name,\n",
    "    model_kwargs=model_kwargs,\n",
    "    encode_kwargs=encode_kwargs\n",
    ")"
   ]
  },
  {
   "cell_type": "code",
   "execution_count": 6,
   "id": "b8f1d906-c3bc-4608-a599-04fb34fe08b9",
   "metadata": {},
   "outputs": [],
   "source": [
    "# Create the vector store and specify the persist directory\\n\",\n",
    "vectorstore = Chroma(persist_directory=persist_directory, embedding_function=hf)"
   ]
  },
  {
   "cell_type": "markdown",
   "id": "a613ba7a-ad7d-4452-8717-8153643d575d",
   "metadata": {},
   "source": [
    "## Load LLM"
   ]
  },
  {
   "cell_type": "code",
   "execution_count": 46,
   "id": "55541a77-baf5-4fa4-870e-97f00086edb1",
   "metadata": {},
   "outputs": [],
   "source": [
    "from langchain_community.llms import Ollama\n",
    "from langchain.callbacks.manager import CallbackManager\n",
    "from langchain.callbacks.streaming_stdout import StreamingStdOutCallbackHandler\n",
    "\n",
    "class CustomOllama(Ollama):\n",
    "    def __init__(self, model, callback_manager=None, stop=None, temperature=0.2):\n",
    "        super().__init__(model=model, stop=stop, temperature=temperature)\n",
    "        self.callback_manager = callback_manager\n",
    "\n",
    "# Initialize the CallbackManager\n",
    "callback_manager = CallbackManager([StreamingStdOutCallbackHandler()])\n",
    "\n",
    "# Create an instance of the CustomOllama class\n",
    "llm = CustomOllama(\n",
    "    model=\"llama3\",\n",
    "    callback_manager=callback_manager\n",
    ")"
   ]
  },
  {
   "cell_type": "code",
   "execution_count": 61,
   "id": "9ec7bbeb-55b7-4c46-8fac-c92c47714391",
   "metadata": {},
   "outputs": [],
   "source": [
    "#test \n",
    "prompt = [\"Why is the sky blue?\"]  # Prompt should be a list of strings\n",
    "\n",
    "# Generate text using the Ollama model\n",
    "generated_text = llm.generate(prompts=prompt)\n"
   ]
  },
  {
   "cell_type": "code",
   "execution_count": 62,
   "id": "af04d1ef-0120-4f02-804f-e64214f11e03",
   "metadata": {},
   "outputs": [
    {
     "name": "stdout",
     "output_type": "stream",
     "text": [
      "The sky appears blue because of a phenomenon called scattering, which involves the interaction between light, tiny molecules of gases in the atmosphere, and particles like dust and water droplets.\n",
      "\n",
      "Here's a simplified explanation:\n",
      "\n",
      "1. **Sunlight enters Earth's atmosphere**: When sunlight travels from the sun to our planet, it contains all the colors of the visible spectrum (red, orange, yellow, green, blue, indigo, and violet).\n",
      "2. **Scattering occurs**: As sunlight encounters tiny molecules of gases like nitrogen (N2) and oxygen (O2), as well as particles like dust, water droplets, and pollutants, it gets scattered in all directions.\n",
      "3. **Short wavelengths are scattered more**: The shorter the wavelength of light (i.e., the bluer or violet end of the spectrum), the more it is scattered by these tiny molecules and particles. This is known as Rayleigh scattering, named after the British physicist Lord Rayleigh, who first described the phenomenon in the late 19th century.\n",
      "4. **Long wavelengths pass through**: The longer wavelengths of light (i.e., the red or orange end of the spectrum), which contain less energy than the shorter wavelengths, are able to travel longer distances without being scattered as much. This is why we see more red and orange hues during sunrise and sunset, when the sun's rays have to travel longer distances through the atmosphere.\n",
      "5. **Our eyes perceive blue**: As a result of this scattering, the blue light (with its shorter wavelength) is distributed evenly throughout the sky, making it appear blue to our eyes.\n",
      "\n",
      "So, to summarize: the sky appears blue because the short wavelengths of light are scattered in all directions by tiny molecules and particles in the atmosphere, while longer wavelengths pass through relatively unscattered.\n"
     ]
    }
   ],
   "source": [
    "response = generated_text.generations[0][0].text\n",
    "print(response)"
   ]
  },
  {
   "cell_type": "markdown",
   "id": "52f748b9-0393-4ec8-b366-a19d4e4cc35d",
   "metadata": {},
   "source": [
    "## Setup RAG"
   ]
  },
  {
   "cell_type": "markdown",
   "id": "ca1c6a96-82c7-469c-a973-b9bb242a68ec",
   "metadata": {},
   "source": [
    "### Instantiate retriever"
   ]
  },
  {
   "cell_type": "code",
   "execution_count": 63,
   "id": "a6111bb2-f2bc-4825-bbdf-7f1f2183d9a4",
   "metadata": {},
   "outputs": [],
   "source": [
    "plain_retriever = vectorstore.as_retriever()"
   ]
  },
  {
   "cell_type": "markdown",
   "id": "074c373e-f720-4059-8da3-c2522ba08807",
   "metadata": {},
   "source": [
    "Meeting Notes 7/3/24\n",
    "Sophia wants to add levels of certainty ('we do not know the answer and you might need to do my research/need to provide more information')\n",
    "USE felony or misdemeanor instead of crime.\n",
    "To check accuracy of model try making small changes to prompts and see if it gives us different answers. \n",
    "Maybe run 2 prompts as the same time e.g. 'what can I do and what am I not allowed to do'"
   ]
  },
  {
   "cell_type": "markdown",
   "id": "135a3604-4180-4c27-a77f-ceedf51f0ae7",
   "metadata": {},
   "source": [
    "### Prompt Template"
   ]
  },
  {
   "cell_type": "code",
   "execution_count": 139,
   "id": "846fd790-b1d1-4d0f-bab9-0eb311cee5f8",
   "metadata": {},
   "outputs": [
    {
     "name": "stdout",
     "output_type": "stream",
     "text": [
      "================================\u001b[1m System Message \u001b[0m================================\n",
      "\n",
      "\n",
      "    You are a compassionate legal expert tasked with translating Virginia legal restrictions into helpful plaintext for jobseekers with felony or misdemeanor convictions. Your goal is to help them understand what jobs or certifications they can pursue while maintaining a supportive and encouraging tone.\n",
      "\n",
      "1. Begin with a brief disclaimer: Remind the user that you cannot provide personalized legal advice and that all information is general. Emphasize the importance of consulting with a legal professional for specific guidance.\n",
      "\n",
      "2. If not provided, ask for relevant details about the user's specific situation (e.g., type of conviction, how long ago it occurred) to provide more accurate information.\n",
      "\n",
      "3. Use only the following sections of the Virginia legal code to answer the user's query:\n",
      "   \u001b[33;1m\u001b[1;3m{context}\u001b[0m\n",
      "\n",
      "4. Provide a clear and concise answer addressing the user's query, including as many relevant details as possible from the context. Always cite the specific section of the code you're referencing.\n",
      "\n",
      "5. If there are restrictions that employers can waive, describe those options clearly.\n",
      "\n",
      "6. If you are uncertain about any of the restrictions or if none of the sections of the code answer the query, state your uncertainty and recommend consulting a legal professional.\n",
      "\n",
      "7. Suggest similar jobs or certifications that the user can legally pursue with their conviction in Virginia. Provide a brief explanation for each suggestion.\n",
      "\n",
      "8. Encourage the user to conduct further research and provide suggestions for additional resources they can consult (e.g., state employment agencies, legal aid organizations).\n",
      "\n",
      "9. Conclude with a supportive message, reminding the user that there are often pathways to employment despite past convictions.\n",
      "\n",
      "Remember to maintain a balance between providing accurate information and offering encouragement to the jobseeker.\n",
      "    \n",
      "\n",
      "================================\u001b[1m Human Message \u001b[0m=================================\n",
      "\n",
      "\u001b[33;1m\u001b[1;3m{input}\u001b[0m\n"
     ]
    }
   ],
   "source": [
    "from langchain_core.prompts import ChatPromptTemplate\n",
    "\n",
    "system_prompt = (\n",
    "    '''\n",
    "    You are a compassionate legal expert tasked with translating Virginia legal restrictions into helpful plaintext for jobseekers with felony or misdemeanor convictions. Your goal is to help them understand what jobs or certifications they can pursue while maintaining a supportive and encouraging tone.\n",
    "\n",
    "1. Begin with a brief disclaimer: Remind the user that you cannot provide personalized legal advice and that all information is general. Emphasize the importance of consulting with a legal professional for specific guidance.\n",
    "\n",
    "2. If not provided, ask for relevant details about the user's specific situation (e.g., type of conviction, how long ago it occurred) to provide more accurate information.\n",
    "\n",
    "3. Use only the following sections of the Virginia legal code to answer the user's query:\n",
    "   {context}\n",
    "\n",
    "4. Provide a clear and concise answer addressing the user's query, including as many relevant details as possible from the context. Always cite the specific section of the code you're referencing.\n",
    "\n",
    "5. If there are restrictions that employers can waive, describe those options clearly.\n",
    "\n",
    "6. If you are uncertain about any of the restrictions or if none of the sections of the code answer the query, state your uncertainty and recommend consulting a legal professional.\n",
    "\n",
    "7. Suggest similar jobs or certifications that the user can legally pursue with their conviction in Virginia. Provide a brief explanation for each suggestion.\n",
    "\n",
    "8. Encourage the user to conduct further research and provide suggestions for additional resources they can consult (e.g., state employment agencies, legal aid organizations).\n",
    "\n",
    "9. Conclude with a supportive message, reminding the user that there are often pathways to employment despite past convictions.\n",
    "\n",
    "Remember to maintain a balance between providing accurate information and offering encouragement to the jobseeker.\n",
    "    '''\n",
    ")\n",
    "\n",
    "prompt_plain = ChatPromptTemplate.from_messages(\n",
    "    [\n",
    "        (\"system\", system_prompt),\n",
    "        (\"human\", \"{input}\"),\n",
    "    ]\n",
    ")\n",
    "prompt_plain.pretty_print()"
   ]
  },
  {
   "cell_type": "markdown",
   "id": "6845879c-6d08-4a5f-bcfd-3d4bbf2bdeda",
   "metadata": {},
   "source": [
    "### Chain"
   ]
  },
  {
   "cell_type": "code",
   "execution_count": 140,
   "id": "1baa8d58-5baf-477d-8381-325bd04a3059",
   "metadata": {},
   "outputs": [],
   "source": [
    "from typing import List, Dict\n",
    "from langchain_core.documents import Document\n",
    "from langchain_core.output_parsers import StrOutputParser\n",
    "from langchain_core.runnables import RunnablePassthrough, RunnableMap\n",
    "\n",
    "# Function to format documents with their metadata\n",
    "def format_docs(docs: List[Document]):\n",
    "    formatted_docs = []\n",
    "    for doc in docs:\n",
    "        metadata_str = \"\\n\".join(f\"{key}: {value}\" for key, value in doc.metadata.items())\n",
    "        formatted_doc = f\"Metadata:\\n{metadata_str}\\n\\nContent:\\n{doc.page_content}\"\n",
    "        formatted_docs.append(formatted_doc)\n",
    "    return \"\\n\\n\".join(formatted_docs)\n",
    "\n",
    "# Chain to format documents, process with LLM, and parse the output\n",
    "rag_chain_from_docs = (\n",
    "    RunnablePassthrough.assign(context=(lambda x: format_docs(x[\"context\"])))\n",
    "    | prompt_plain  # Assuming 'prompt' is defined somewhere in your setup\n",
    "    | llm  # Assuming 'llm' is defined somewhere in your setup\n",
    "    | StrOutputParser()\n",
    ")\n",
    "\n",
    "# Function to retrieve documents based on a query\n",
    "retrieve_docs = (lambda x: x[\"input\"]) | plain_retriever  # Assuming 'retriever' is defined somewhere in your setup\n",
    "\n",
    "# Define the final chain\n",
    "chain_plain = RunnablePassthrough.assign(context=retrieve_docs).assign(\n",
    "    answer=rag_chain_from_docs\n",
    ")"
   ]
  },
  {
   "cell_type": "markdown",
   "id": "7fc9acce-4e20-4f05-8748-f8640197afc7",
   "metadata": {},
   "source": [
    "### Test with prompt"
   ]
  },
  {
   "cell_type": "code",
   "execution_count": 141,
   "id": "915069f7-955e-471c-927b-febe087b4dbc",
   "metadata": {},
   "outputs": [],
   "source": [
    "# Assuming you have a string for your prompt template\n",
    "query = \"Can I be a teacher with a violent crime on my record?\""
   ]
  },
  {
   "cell_type": "code",
   "execution_count": 142,
   "id": "c8ad1a6f-7337-4ee0-8cc0-f10617c83eae",
   "metadata": {},
   "outputs": [],
   "source": [
    "result = chain_plain.invoke({\"input\": query})"
   ]
  },
  {
   "cell_type": "code",
   "execution_count": 143,
   "id": "649a8028-204d-4d58-b637-1fe1dd510edc",
   "metadata": {},
   "outputs": [
    {
     "name": "stdout",
     "output_type": "stream",
     "text": [
      "I'm here to help you navigate the complexities of Virginia's laws regarding teaching and criminal records. According to § 63.2-1505, a founded case of child abuse or neglect is grounds for revoking a person's license to teach. This means that if you have been found guilty of child abuse or neglect, your teaching license may be revoked.\n",
      "\n",
      "However, the code also states that employers can require certification that an applicant has not been the subject of a founded case of child abuse and neglect as a condition of employment (§ 63.2-1505 D). This means that if you have a violent crime on your record, it's unlikely that you would be eligible to become a teacher in Virginia.\n",
      "\n",
      "If you're interested in exploring alternative career paths, there are a few options to consider:\n",
      "\n",
      "1. Social Work: With a background in social work, you can help people who have experienced trauma and abuse. While this job may not involve direct contact with children, it can still provide a fulfilling career path.\n",
      "2. Counseling: As a counselor, you can help individuals overcome their challenges and achieve personal growth. This role may also involve working with children or families, but the primary focus is on individual counseling.\n",
      "\n",
      "When searching for these types of jobs or certifications, remember to research local regulations and requirements. For example, social workers in Virginia need to be certified by the Virginia Social Work Licensing Board (§ 54.1-3400 et seq.).\n",
      "\n",
      "Additionally, I recommend consulting with state employment agencies like the Virginia Employment Commission (VEC) or legal aid organizations such as the Legal Aid Justice Center for guidance on your specific situation.\n",
      "\n",
      "Remember that there are often pathways to employment despite past convictions. Your unique experiences and skills can still be valuable assets in a new career.\n"
     ]
    }
   ],
   "source": [
    "print(result['answer'])"
   ]
  },
  {
   "cell_type": "code",
   "execution_count": 144,
   "id": "526550af-1c8a-412d-8e40-5228fbb35174",
   "metadata": {},
   "outputs": [
    {
     "data": {
      "text/plain": [
       "[Document(metadata={'ArticleName': 'Terms of Employment Generally', 'ArticleNum': '2', 'ChapterName': 'Teachers, Officers and Employees', 'ChapterNum': '15', 'Hrefs': '/vacode/19.2-392.02/; /vacode/19.2-392.02/; /vacode/19.2-392.02/; /vacode/19.2-392.02/; /vacode/19.2-392.02/; /vacode/19.2-392.02/; http://lis.virginia.gov/cgi-bin/legp604.exe?961+ful+CHAP0960; http://lis.virginia.gov/cgi-bin/legp604.exe?971+ful+CHAP0103; http://lis.virginia.gov/cgi-bin/legp604.exe?031+ful+CHAP0723; http://lis.virginia.gov/cgi-bin/legp604.exe?061+ful+CHAP0790; http://lis.virginia.gov/cgi-bin/legp604.exe?071+ful+CHAP0245; http://lis.virginia.gov/cgi-bin/legp604.exe?071+ful+CHAP0431; http://lis.virginia.gov/cgi-bin/legp604.exe?081+ful+CHAP0555; http://lis.virginia.gov/cgi-bin/legp604.exe?201+ful+CHAP0877; http://lis.virginia.gov/cgi-bin/legp604.exe?231+ful+CHAP0670; http://lis.virginia.gov/cgi-bin/legp604.exe?231+ful+CHAP0703', 'SectionNumber': '22.1-296.1', 'SectionTitle': 'Data on convictions for certain crimes and child abuse and neglect required; penalty', 'TitleName': 'Education', 'TitleNumber': '22.1', 'seq_num': 1, 'source': '/sfs/weka/scratch/zsk4gm/json_files_updated/22.1-296.1.json'}, page_content=\"<p>A. As a condition of employment for all of its public school employees, whether full-time or part-time, permanent, or temporary, every school board shall require on its application for employment certification of whether the applicant has been convicted of any violent felony set forth in the definition of barrier crime in subsection A of § <a href='/vacode/19.2-392.02/'>19.2-392.02</a>; any offense involving the sexual molestation, physical or sexual abuse, or rape of a child, or the solicitation of any such offense; or any crime of moral turpitude. Any individual making a materially false statement regarding any such offense is guilty of a Class 1 misdemeanor and, in the case of a teacher, upon conviction, the fact of such conviction is grounds for the Board to revoke his license to teach.</p><p>B. No school board shall employ any individual who has been convicted of any violent felony set forth in the definition of barrier crime in subsection A of § <a href='/vacode/19.2-392.02/'>19.2-392.02</a> or any\"),\n",
       " Document(metadata={'ArticleName': 'Terms of Employment Generally', 'ArticleNum': '2', 'ChapterName': 'Teachers, Officers and Employees', 'ChapterNum': '15', 'Hrefs': '/vacode/19.2-392.02/; /vacode/19.2-392.02/; /vacode/19.2-392.02/; /vacode/19.2-392.02/; /vacode/19.2-392.02/; /vacode/19.2-392.02/; http://lis.virginia.gov/cgi-bin/legp604.exe?961+ful+CHAP0960; http://lis.virginia.gov/cgi-bin/legp604.exe?971+ful+CHAP0103; http://lis.virginia.gov/cgi-bin/legp604.exe?031+ful+CHAP0723; http://lis.virginia.gov/cgi-bin/legp604.exe?061+ful+CHAP0790; http://lis.virginia.gov/cgi-bin/legp604.exe?071+ful+CHAP0245; http://lis.virginia.gov/cgi-bin/legp604.exe?071+ful+CHAP0431; http://lis.virginia.gov/cgi-bin/legp604.exe?081+ful+CHAP0555; http://lis.virginia.gov/cgi-bin/legp604.exe?201+ful+CHAP0877; http://lis.virginia.gov/cgi-bin/legp604.exe?231+ful+CHAP0670; http://lis.virginia.gov/cgi-bin/legp604.exe?231+ful+CHAP0703', 'SectionNumber': '22.1-296.1', 'SectionTitle': 'Data on convictions for certain crimes and child abuse and neglect required; penalty', 'TitleName': 'Education', 'TitleNumber': '22.1', 'seq_num': 1, 'source': '/sfs/weka/scratch/zsk4gm/json_files_updated/22.1-296.1.json'}, page_content=\"fact of such conviction is grounds for the Board to revoke his license to teach.</p><p>B. No school board shall employ any individual who has been convicted of any violent felony set forth in the definition of barrier crime in subsection A of § <a href='/vacode/19.2-392.02/'>19.2-392.02</a> or any offense involving the sexual molestation of, physical or sexual abuse, or rape of a child, or the solicitation of any such offense.</p><p>C. Any school board may employ any individual who has been convicted of any felony or crime of moral turpitude that is not set forth in the definition of barrier crime in subsection A of § <a href='/vacode/19.2-392.02/'>19.2-392.02</a> and does not involve the sexual molestation, physical or sexual abuse, or rape of a child, or the solicitation of any such offense, provided that in the case of a felony conviction, such individual has had his civil rights restored by the Governor.</p><p>D. Every school board shall also require on its application for employment, as a condition of\"),\n",
       " Document(metadata={'ArticleName': 'Grievances; Dismissal, Etc., of Teachers', 'ArticleNum': '3', 'ChapterName': 'Teachers, Officers and Employees', 'ChapterNum': '15', 'Hrefs': '/vacode/63.2-1505/; /vacode/63.2-1526/; /vacode/63.2-1526/; http://lis.virginia.gov/cgi-bin/legp604.exe?961+ful+CHAP0961; http://lis.virginia.gov/cgi-bin/legp604.exe?081+ful+CHAP0555; http://lis.virginia.gov/cgi-bin/legp604.exe?131+ful+CHAP0588; http://lis.virginia.gov/cgi-bin/legp604.exe?131+ful+CHAP0650; http://lis.virginia.gov/cgi-bin/legp604.exe?171+ful+CHAP0240; http://lis.virginia.gov/cgi-bin/legp604.exe?201+ful+CHAP0056; http://lis.virginia.gov/cgi-bin/legp604.exe?201+ful+CHAP0168', 'SectionNumber': '22.1-307', 'SectionTitle': 'Dismissal of teacher; grounds', 'TitleName': 'Education', 'TitleNumber': '22.1', 'seq_num': 1, 'source': '/sfs/weka/scratch/zsk4gm/json_files_updated/22.1-307.json'}, page_content=\"<p>Teachers may be dismissed for incompetency, immorality, noncompliance with school laws and regulations, disability as shown by competent medical evidence when in compliance with federal law, conviction of a felony or a crime of moral turpitude, or other good and just cause. A teacher shall be dismissed if such teacher is or becomes the subject of a founded complaint of child abuse and neglect, pursuant to § <a href='/vacode/63.2-1505/'>63.2-1505</a>, and after all rights to any administrative appeal provided by § <a href='/vacode/63.2-1526/'>63.2-1526</a> have been exhausted. The fact of such finding, after all rights to any administrative appeal provided by § <a href='/vacode/63.2-1526/'>63.2-1526</a> have been exhausted, shall be grounds for the local school division to recommend that the Board of Education revoke such person's license to teach. No teacher shall be dismissed or placed on probation solely on the basis of the teacher's refusal to submit to a polygraph examination requested by the school\"),\n",
       " Document(metadata={'ArticleName': 'Terms of Employment Generally', 'ArticleNum': '2', 'ChapterName': 'Teachers, Officers and Employees', 'ChapterNum': '15', 'Hrefs': '/vacode/19.2-392.02/; /vacode/19.2-392.02/; /vacode/19.2-392.02/; /vacode/19.2-392.02/; /vacode/19.2-392.02/; /vacode/19.2-392.02/; http://lis.virginia.gov/cgi-bin/legp604.exe?961+ful+CHAP0960; http://lis.virginia.gov/cgi-bin/legp604.exe?971+ful+CHAP0103; http://lis.virginia.gov/cgi-bin/legp604.exe?031+ful+CHAP0723; http://lis.virginia.gov/cgi-bin/legp604.exe?061+ful+CHAP0790; http://lis.virginia.gov/cgi-bin/legp604.exe?071+ful+CHAP0245; http://lis.virginia.gov/cgi-bin/legp604.exe?071+ful+CHAP0431; http://lis.virginia.gov/cgi-bin/legp604.exe?081+ful+CHAP0555; http://lis.virginia.gov/cgi-bin/legp604.exe?201+ful+CHAP0877; http://lis.virginia.gov/cgi-bin/legp604.exe?231+ful+CHAP0670; http://lis.virginia.gov/cgi-bin/legp604.exe?231+ful+CHAP0703', 'SectionNumber': '22.1-296.1', 'SectionTitle': 'Data on convictions for certain crimes and child abuse and neglect required; penalty', 'TitleName': 'Education', 'TitleNumber': '22.1', 'seq_num': 1, 'source': '/sfs/weka/scratch/zsk4gm/json_files_updated/22.1-296.1.json'}, page_content=\"or sexual abuse, or rape of a child, or the solicitation of any such offense, provided that in the case of a felony conviction, such individual has had his civil rights restored by the Governor.</p><p>D. Every school board shall also require on its application for employment, as a condition of employment requiring direct contact with students, whether full-time or part-time, permanent, or temporary, certification that the applicant has not been the subject of a founded case of child abuse and neglect. Any person making a materially false statement regarding a finding of child abuse and neglect is guilty of a Class 1 misdemeanor and upon conviction, the fact of such conviction is grounds for the Board to revoke such person's license to teach.</p><p>E. As a condition of awarding a contract for the provision of services that require the contractor or his employees to have direct contact with students on school property during regular school hours or during school-sponsored activities, the school board shall\")]"
      ]
     },
     "execution_count": 144,
     "metadata": {},
     "output_type": "execute_result"
    }
   ],
   "source": [
    "result['context']"
   ]
  },
  {
   "cell_type": "code",
   "execution_count": 145,
   "id": "90e2aaab-5e64-41be-81bd-23d988c57be2",
   "metadata": {},
   "outputs": [],
   "source": [
    "query2 = \"What jobs can I get in healthcare if I've been convicted of a drug offense?\"\n",
    "result2 = chain_plain.invoke({\"input\": query2})"
   ]
  },
  {
   "cell_type": "code",
   "execution_count": 146,
   "id": "92558ecd-8cb7-4e19-87fb-c72f0bdf7967",
   "metadata": {},
   "outputs": [
    {
     "name": "stdout",
     "output_type": "stream",
     "text": [
      "I'm happy to help you explore your options! According to Virginia Code, Section 19.2-392.02, national criminal background checks are required for businesses and organizations that provide care to children or the elderly/disabled, including those in the healthcare industry.\n",
      "\n",
      "While having a conviction for a drug offense may present some challenges, there are still many jobs you can pursue in healthcare. Here are a few options:\n",
      "\n",
      "1. **Medical Records Technician**: You can work in medical records departments, hospitals, or clinics, responsible for maintaining and organizing patient records.\n",
      "2. **Healthcare Administrator**: With an administrative background, you can manage healthcare facilities, clinics, or organizations, overseeing day-to-day operations.\n",
      "3. **Clinical Research Coordinator**: In this role, you'll assist with conducting clinical trials, gathering data, and ensuring compliance with regulations.\n",
      "4. **Medical Billing Specialist**: You can work in medical billing departments, hospitals, or clinics, responsible for preparing and submitting insurance claims.\n",
      "\n",
      "Regarding employment restrictions, employers may waive certain requirements under Virginia Code § 19.2-392.02 (ii) and (iii). However, it's crucial to understand that some jobs may require specific certifications or licenses that may be affected by your conviction.\n",
      "\n",
      "If you're uncertain about any of these options or need guidance on how to navigate the healthcare industry with a conviction, I recommend consulting a legal professional who specializes in employment law. Additionally, you can reach out to state employment agencies, such as the Virginia Employment Commission (VEC), for support and resources.\n",
      "\n",
      "Remember that having a conviction does not define your entire life. With the right mindset and preparation, many people have successfully transitioned into new careers despite past convictions.\n",
      "\n",
      "To learn more about healthcare jobs in Virginia, I suggest visiting the VEC website or reaching out to organizations like the Virginia Nurses Association or the Medical Society of Virginia. You can also explore online resources such as the Virginia Department of Health's (VDH) website, which provides information on various healthcare professions and job opportunities.\n",
      "\n",
      "Remember that there are many pathways to employment in healthcare despite past convictions. With determination and a willingness to learn, you can find a fulfilling career that aligns with your skills and passions.\n",
      "\n",
      "Keep in mind that it's essential to be honest about your conviction when applying for jobs or seeking certifications. Honesty is always the best policy, and being open about your past can help you build trust with potential employers.\n",
      "\n",
      "I hope this information helps you get started on your healthcare career journey!\n"
     ]
    }
   ],
   "source": [
    "print(result2['answer'])"
   ]
  },
  {
   "cell_type": "code",
   "execution_count": 147,
   "id": "dcee91db-408d-47ea-b89a-ae004951afee",
   "metadata": {},
   "outputs": [
    {
     "data": {
      "text/plain": [
       "[Document(metadata={'ArticleName': '', 'ArticleNum': '', 'ChapterName': 'General Provisions', 'ChapterNum': '1', 'Hrefs': '/vacode/19.2-70.3/; /vacode/18.2-47/; /vacode/18.2-48/; /vacode/18.2-49/; /vacode/18.2-346/; /vacode/18.2-346.01/; /vacode/18.2-347/; /vacode/18.2-348/; /vacode/18.2-348.1/; /vacode/18.2-349/; /vacode/18.2-355/; /vacode/18.2-356/; /vacode/18.2-357/; /vacode/18.2-374.1/; /vacode/18.2-374.1:1/; /vacode/18.2-374.1:2/; /vacode/18.2-374.3/; http://lis.virginia.gov/cgi-bin/legp604.exe?071+ful+CHAP0802; http://lis.virginia.gov/cgi-bin/legp604.exe?071+ful+CHAP0814; http://lis.virginia.gov/cgi-bin/legp604.exe?141+ful+CHAP0166; http://lis.virginia.gov/cgi-bin/legp604.exe?151+ful+CHAP0544; http://lis.virginia.gov/cgi-bin/legp604.exe?151+ful+CHAP0625; http://lis.virginia.gov/cgi-bin/legp604.exe?191+ful+CHAP0458; http://lis.virginia.gov/cgi-bin/legp604.exe?212+ful+CHAP0188', 'SectionNumber': '19.2-10.2', 'SectionTitle': 'Administrative subpoena issued for record from provider of electronic communication service or remote computing service', 'TitleName': 'Criminal Procedure', 'TitleNumber': '19.2', 'seq_num': 1, 'source': '/sfs/weka/scratch/zsk4gm/json_files_updated/19.2-10.2.json'}, page_content=\"the records or other information being sought are relevant to a legitimate law-enforcement investigation concerning violations of §§ <a href='/vacode/18.2-47/'>18.2-47</a>, <a href='/vacode/18.2-48/'>18.2-48</a>, <a href='/vacode/18.2-49/'>18.2-49</a>, <a href='/vacode/18.2-346/'>18.2-346</a>, <a href='/vacode/18.2-346.01/'>18.2-346.01</a>, <a href='/vacode/18.2-347/'>18.2-347</a>, <a href='/vacode/18.2-348/'>18.2-348</a>, <a href='/vacode/18.2-348.1/'>18.2-348.1</a>, <a href='/vacode/18.2-349/'>18.2-349</a>, <a href='/vacode/18.2-355/'>18.2-355</a>, <a href='/vacode/18.2-356/'>18.2-356</a>, <a href='/vacode/18.2-357/'>18.2-357</a>, <a href='/vacode/18.2-374.1/'>18.2-374.1</a>, and <a href='/vacode/18.2-374.1:1/'>18.2-374.1:1</a>, former § <a href='/vacode/18.2-374.1:2/'>18.2-374.1:2</a>, and § <a href='/vacode/18.2-374.3/'>18.2-374.3</a>.</p><p>2. Upon written certification by the attorney for the Commonwealth or the Attorney General that there is a reason to believe that the victim is under the age of 18\"),\n",
       " Document(metadata={'ArticleName': '', 'ArticleNum': '', 'ChapterName': 'Virginia Criminal Sentencing Commission', 'ChapterNum': '8', 'Hrefs': '/vacode/18.2-61/; /vacode/16.1-253.2/; /vacode/18.2-29/; /vacode/18.2-31/; /vacode/18.2-32/; /vacode/18.2-32.1/; /vacode/18.2-32.2/; /vacode/18.2-33/; /vacode/18.2-35/; /vacode/18.2-36.1/; /vacode/18.2-40/; /vacode/18.2-41/; /vacode/18.2-46.3/; /vacode/18.2-46.5/; /vacode/18.2-46.6/; /vacode/18.2-46.7/; /vacode/18.2-47/; /vacode/18.2-48/; /vacode/18.2-48.1/; /vacode/18.2-49/; /vacode/18.2-51/; /vacode/18.2-51.1/; /vacode/18.2-51.2/; /vacode/18.2-51.3/; /vacode/18.2-51.4/; /vacode/18.2-51.6/; /vacode/18.2-52/; /vacode/18.2-52.1/; /vacode/18.2-53/; /vacode/18.2-53.1/; /vacode/18.2-54.1/; /vacode/18.2-54.2/; /vacode/18.2-55/; /vacode/18.2-57/; /vacode/18.2-57.2/; /vacode/18.2-58/; /vacode/18.2-58.1/; /vacode/18.2-60.1/; /vacode/18.2-60.3/; /vacode/18.2-60.4/; /vacode/18.2-61/; /vacode/18.2-64.1/; /vacode/18.2-67.1/; /vacode/18.2-67.2/; /vacode/18.2-67.2:1/; /vacode/18.2-67.3/; /vacode/18.2-67.5/; /vacode/18.2-67.5:1/; /vacode/18.2-67.4/; /vacode/18.2-67.5/; /vacode/18.2-63/; /vacode/18.2-67.4:1/; /vacode/18.2-77/; /vacode/18.2-79/; /vacode/18.2-80/; /vacode/18.2-85/; /vacode/18.2-89/; /vacode/18.2-90/; /vacode/18.2-91/; /vacode/18.2-92/; /vacode/18.2-93/; /vacode/18.2-152.7/; /vacode/18.2-153/; /vacode/18.2-154/; /vacode/18.2-155/; /vacode/18.2-162/; /vacode/18.2-279/; /vacode/18.2-280/; /vacode/18.2-281/; /vacode/18.2-282/; /vacode/18.2-282.1/; /vacode/18.2-286.1/; /vacode/18.2-287.2/; /vacode/18.2-289/; /vacode/18.2-290/; /vacode/18.2-300/; /vacode/18.2-308.1/; /vacode/18.2-308.2/; /vacode/18.2-308.2:1/; /vacode/18.2-308.2:2/; /vacode/18.2-308.3/; /vacode/18.2-312/; /vacode/18.2-346/; /vacode/18.2-346.01/; /vacode/18.2-348/; /vacode/18.2-349/; /vacode/18.2-355/; /vacode/18.2-356/; /vacode/18.2-357/; /vacode/18.2-357.1/; /vacode/18.2-358/; /vacode/18.2-361/; /vacode/18.2-366/; /vacode/18.2-368/; /vacode/18.2-370/; /vacode/18.2-370.1/; /vacode/18.2-371.1/; /vacode/18.2-369/; /vacode/18.2-374.1/; /vacode/18.2-374.1:1/; /vacode/18.2-374.3/; /vacode/18.2-374.4/; /vacode/18.2-379/; /vacode/18.2-381/; /vacode/18.2-405/; /vacode/18.2-406/; /vacode/18.2-408/; /vacode/18.2-413/; /vacode/18.2-414/; /vacode/18.2-423/; /vacode/18.2-423.01/; /vacode/18.2-423.1/; /vacode/18.2-423.2/; /vacode/18.2-433.2/; /vacode/18.2-460/; /vacode/18.2-474.1/; /vacode/18.2-477.1/; /vacode/18.2-477/; /vacode/18.2-478/; /vacode/18.2-480/; /vacode/18.2-481/; /vacode/18.2-485/; /vacode/37.2-917/; /vacode/52-48/; /vacode/53.1-203/; http://lis.virginia.gov/cgi-bin/legp604.exe?941+ful+CHAP0001; http://lis.virginia.gov/cgi-bin/legp604.exe?941+ful+CHAP0002; http://lis.virginia.gov/cgi-bin/legp604.exe?951+ful+CHAP0482; http://lis.virginia.gov/cgi-bin/legp604.exe?981+ful+CHAP0277; http://lis.virginia.gov/cgi-bin/legp604.exe?981+ful+CHAP0872; http://lis.virginia.gov/cgi-bin/legp604.exe?991+ful+CHAP0349; http://lis.virginia.gov/cgi-bin/legp604.exe?041+ful+CHAP0459; http://lis.virginia.gov/cgi-bin/legp604.exe?041+ful+CHAP0866; http://lis.virginia.gov/cgi-bin/legp604.exe?051+ful+CHAP0631; http://lis.virginia.gov/cgi-bin/legp604.exe?111+ful+CHAP0282; http://lis.virginia.gov/cgi-bin/legp604.exe?131+ful+CHAP0424; http://lis.virginia.gov/cgi-bin/legp604.exe?131+ful+CHAP0647; http://lis.virginia.gov/cgi-bin/legp604.exe?151+ful+CHAP0690; http://lis.virginia.gov/cgi-bin/legp604.exe?151+ful+CHAP0691; http://lis.virginia.gov/cgi-bin/legp604.exe?191+ful+CHAP0617; http://lis.virginia.gov/cgi-bin/legp604.exe?212+ful+CHAP0188', 'SectionNumber': '17.1-805', 'SectionTitle': 'Adoption of initial discretionary sentencing guideline midpoints', 'TitleName': 'Courts of Record', 'TitleNumber': '17.1', 'seq_num': 1, 'source': '/sfs/weka/scratch/zsk4gm/json_files_updated/17.1-805.json'}, page_content=\"any violation of § <a href='/vacode/18.2-281/'>18.2-281</a>; any felony violation of subsection A of § <a href='/vacode/18.2-282/'>18.2-282</a>; any felony violation of § <a href='/vacode/18.2-282.1/'>18.2-282.1</a>; any violation of § <a href='/vacode/18.2-286.1/'>18.2-286.1</a>, <a href='/vacode/18.2-287.2/'>18.2-287.2</a>, <a href='/vacode/18.2-289/'>18.2-289</a>, or <a href='/vacode/18.2-290/'>18.2-290</a>; any violation of subsection A of § <a href='/vacode/18.2-300/'>18.2-300</a>; any felony violation of subsection C of § <a href='/vacode/18.2-308.1/'>18.2-308.1</a> or § <a href='/vacode/18.2-308.2/'>18.2-308.2</a>; any violation of § <a href='/vacode/18.2-308.2:1/'>18.2-308.2:1</a> or subsection M or N of § <a href='/vacode/18.2-308.2:2/'>18.2-308.2:2</a>; any violation of § <a href='/vacode/18.2-308.3/'>18.2-308.3</a> or <a href='/vacode/18.2-312/'>18.2-312</a>; any former felony violation of § <a href='/vacode/18.2-346/'>18.2-346</a>; any felony violation of § <a\"),\n",
       " Document(metadata={'ArticleName': 'In General', 'ArticleNum': '1', 'ChapterName': 'Evidence and Witnesses', 'ChapterNum': '16', 'Hrefs': '/vacode/18.2-31/; /vacode/18.2-32/; /vacode/18.2-35/; /vacode/18.2-47/; /vacode/18.2-48/; /vacode/18.2-51/; /vacode/18.2-51.2/; /vacode/18.2-51.6/; /vacode/18.2-52/; /vacode/18.2-54.1/; /vacode/18.2-54.2/; /vacode/18.2-61/; /vacode/18.2-67.1/; /vacode/18.2-67.2/; /vacode/18.2-67.3/; /vacode/18.2-346.01/; /vacode/18.2-355/; /vacode/18.2-356/; /vacode/18.2-357/; /vacode/18.2-357.1/; /vacode/18.2-361/; /vacode/18.2-366/; /vacode/18.2-370/; /vacode/18.2-370.1/; /vacode/18.2-371.1/; /vacode/18.2-374.1/; /vacode/18.2-374.1:1/; /vacode/18.2-374.3/; /vacode/18.2-374.4/; /vacode/18.2-386.1/; /vacode/40.1-103/; http://lis.virginia.gov/cgi-bin/legp604.exe?161+ful+CHAP0542; http://lis.virginia.gov/cgi-bin/legp604.exe?161+ful+CHAP0553; http://lis.virginia.gov/cgi-bin/legp604.exe?212+ful+CHAP0188', 'SectionNumber': '19.2-268.3', 'SectionTitle': 'Admissibility of statements by children in certain cases', 'TitleName': 'Criminal Procedure', 'TitleNumber': '19.2', 'seq_num': 1, 'source': '/sfs/weka/scratch/zsk4gm/json_files_updated/19.2-268.3.json'}, page_content=\"§ <a href='/vacode/18.2-346.01/'>18.2-346.01</a> if punishable as a felony, § <a href='/vacode/18.2-355/'>18.2-355</a>, <a href='/vacode/18.2-356/'>18.2-356</a>, <a href='/vacode/18.2-357/'>18.2-357</a>, or <a href='/vacode/18.2-357.1/'>18.2-357.1</a>, subsection B of § <a href='/vacode/18.2-361/'>18.2-361</a>, subsection B of § <a href='/vacode/18.2-366/'>18.2-366</a>, § <a href='/vacode/18.2-370/'>18.2-370</a>, <a href='/vacode/18.2-370.1/'>18.2-370.1</a>, <a href='/vacode/18.2-371.1/'>18.2-371.1</a>, <a href='/vacode/18.2-374.1/'>18.2-374.1</a>, <a href='/vacode/18.2-374.1:1/'>18.2-374.1:1</a>, <a href='/vacode/18.2-374.3/'>18.2-374.3</a>, or <a href='/vacode/18.2-374.4/'>18.2-374.4</a>, § <a href='/vacode/18.2-386.1/'>18.2-386.1</a> if punishable as a felony, or § <a href='/vacode/40.1-103/'>40.1-103</a>.</p><p>B. An out-of-court statement made by a child who is under 13 years of age at the time of trial or hearing who is the alleged victim of an offense against children describing any act directed\"),\n",
       " Document(metadata={'ArticleName': '', 'ArticleNum': '', 'ChapterName': 'Central Criminal Records Exchange', 'ChapterNum': '23', 'Hrefs': '/vacode/16.1-253.2/; /vacode/18.2-31/; /vacode/18.2-32/; /vacode/18.2-32.1/; /vacode/18.2-32.2/; /vacode/18.2-33/; /vacode/18.2-35/; /vacode/18.2-36/; /vacode/18.2-36.1/; /vacode/18.2-36.2/; /vacode/18.2-41/; /vacode/18.2-42/; /vacode/18.2-46.2/; /vacode/18.2-46.3/; /vacode/18.2-46.3:1/; /vacode/18.2-46.3:3/; /vacode/18.2-46.5/; /vacode/18.2-46.6/; /vacode/18.2-46.7/; /vacode/18.2-47/; /vacode/18.2-48/; /vacode/18.2-49/; /vacode/18.2-50.3/; /vacode/18.2-51/; /vacode/18.2-51.1/; /vacode/18.2-51.2/; /vacode/18.2-51.3/; /vacode/18.2-51.4/; /vacode/18.2-51.5/; /vacode/18.2-51.6/; /vacode/18.2-52/; /vacode/18.2-52.1/; /vacode/18.2-53/; /vacode/18.2-53.1/; /vacode/18.2-54.1/; /vacode/18.2-54.2/; /vacode/18.2-55/; /vacode/18.2-55.1/; /vacode/18.2-56/; /vacode/18.2-56.1/; /vacode/18.2-56.2/; /vacode/18.2-57/; /vacode/18.2-57.01/; /vacode/18.2-57.02/; /vacode/18.2-57.2/; /vacode/18.2-58/; /vacode/18.2-58.1/; /vacode/18.2-59/; /vacode/18.2-60/; /vacode/18.2-60.1/; /vacode/18.2-60.3/; /vacode/18.2-60.4/; /vacode/18.2-61/; /vacode/18.2-63/; /vacode/18.2-64.1/; /vacode/18.2-64.2/; /vacode/18.2-67.1/; /vacode/18.2-67.2/; /vacode/18.2-67.3/; /vacode/18.2-67.4/; /vacode/18.2-67.4:1/; /vacode/18.2-67.4:2/; /vacode/18.2-67.5/; /vacode/18.2-67.5:1/; /vacode/18.2-67.5:2/; /vacode/18.2-67.5:3/; /vacode/18.2-77/; /vacode/18.2-79/; /vacode/18.2-80/; /vacode/18.2-81/; /vacode/18.2-82/; /vacode/18.2-83/; /vacode/18.2-84/; /vacode/18.2-85/; /vacode/18.2-86/; /vacode/18.2-87/; /vacode/18.2-87.1/; /vacode/18.2-88/; /vacode/18.2-279/; /vacode/18.2-280/; /vacode/18.2-281/; /vacode/18.2-282/; /vacode/18.2-282.1/; /vacode/18.2-286.1/; /vacode/18.2-287.2/; /vacode/18.2-289/; /vacode/18.2-290/; /vacode/18.2-300/; /vacode/18.2-308.4/; /vacode/18.2-314/; /vacode/18.2-346.01/; /vacode/18.2-348/; /vacode/18.2-349/; /vacode/18.2-355/; /vacode/18.2-356/; /vacode/18.2-357/; /vacode/18.2-357.1/; /vacode/18.2-361/; /vacode/18.2-366/; /vacode/18.2-369/; /vacode/18.2-370/; /vacode/18.2-370.1/; /vacode/18.2-370.2/; /vacode/18.2-370.3/; /vacode/18.2-370.4/; /vacode/18.2-370.5/; /vacode/18.2-370.6/; /vacode/18.2-371.1/; /vacode/18.2-374.1/; /vacode/18.2-374.1:1/; /vacode/18.2-374.3/; /vacode/18.2-374.4/; /vacode/18.2-379/; /vacode/18.2-386.1/; /vacode/18.2-386.2/; /vacode/18.2-405/; /vacode/18.2-406/; /vacode/18.2-408/; /vacode/18.2-413/; /vacode/18.2-414/; /vacode/18.2-423/; /vacode/18.2-423.01/; /vacode/18.2-423.1/; /vacode/18.2-423.2/; /vacode/18.2-433.2/; /vacode/18.2-472.1/; /vacode/18.2-474.1/; /vacode/18.2-477/; /vacode/18.2-477.1/; /vacode/18.2-477.2/; /vacode/18.2-478/; /vacode/18.2-479/; /vacode/18.2-480/; /vacode/18.2-481/; /vacode/18.2-484/; /vacode/18.2-485/; /vacode/37.2-917/; /vacode/53.1-203/; /vacode/18.2-89/; /vacode/18.2-90/; /vacode/18.2-91/; /vacode/18.2-92/; /vacode/18.2-93/; /vacode/18.2-94/; /vacode/4.1-1101/; /vacode/18.2-248/; /vacode/18.2-248.01/; /vacode/18.2-248.02/; /vacode/18.2-248.03/; /vacode/18.2-248.1/; /vacode/18.2-248.5/; /vacode/18.2-251.2/; /vacode/18.2-251.3/; /vacode/18.2-255/; /vacode/18.2-255.2/; /vacode/18.2-258/; /vacode/18.2-258.02/; /vacode/18.2-258.1/; /vacode/18.2-258.2/; /vacode/18.2-250/; /vacode/9.1-902/; /vacode/9.1-901/; /vacode/19.2-182.2/; /vacode/9.1-902/; /vacode/9.1-901/; /vacode/22.1-289.030/; http://lis.virginia.gov/cgi-bin/legp604.exe?001+ful+CHAP0860; http://lis.virginia.gov/cgi-bin/legp604.exe?051+ful+CHAP0217; http://lis.virginia.gov/cgi-bin/legp604.exe?151+ful+CHAP0758; http://lis.virginia.gov/cgi-bin/legp604.exe?151+ful+CHAP0770; http://lis.virginia.gov/cgi-bin/legp604.exe?171+ful+CHAP0809; http://lis.virginia.gov/cgi-bin/legp604.exe?181+ful+CHAP0009; http://lis.virginia.gov/cgi-bin/legp604.exe?181+ful+CHAP0810; http://lis.virginia.gov/cgi-bin/legp604.exe?191+ful+CHAP0617; http://lis.virginia.gov/cgi-bin/legp604.exe?201+ful+CHAP0860; http://lis.virginia.gov/cgi-bin/legp604.exe?201+ful+CHAP0861; http://lis.virginia.gov/cgi-bin/legp604.exe?212+ful+CHAP0188; http://lis.virginia.gov/cgi-bin/legp604.exe?212+ful+CHAP0550; http://lis.virginia.gov/cgi-bin/legp604.exe?212+ful+CHAP0551', 'SectionNumber': '19.2-392.02', 'SectionTitle': 'National criminal background checks by businesses and organizations regarding employees or volunteers providing care to children or the elderly or disabled', 'TitleName': 'Criminal Procedure', 'TitleNumber': '19.2', 'seq_num': 1, 'source': '/sfs/weka/scratch/zsk4gm/json_files_updated/19.2-392.02.json'}, page_content='<a href=\"/vacode/18.2-485/\" data-mce-href=\\'/vacode/18.2-485/\\'>18.2-485</a>, <a href=\"/vacode/37.2-917/\" data-mce-href=\\'/vacode/37.2-917/\\'>37.2-917</a>, or <a href=\"/vacode/53.1-203/\" data-mce-href=\\'/vacode/53.1-203/\\'>53.1-203</a>; or any substantially similar offense under the laws of another jurisdiction; (ii) any violation of § <a href=\"/vacode/18.2-89/\" data-mce-href=\\'/vacode/18.2-89/\\'>18.2-89</a>, <a href=\"/vacode/18.2-90/\" data-mce-href=\\'/vacode/18.2-90/\\'>18.2-90</a>, <a href=\"/vacode/18.2-91/\" data-mce-href=\\'/vacode/18.2-91/\\'>18.2-91</a>, <a href=\"/vacode/18.2-92/\" data-mce-href=\\'/vacode/18.2-92/\\'>18.2-92</a>, <a href=\"/vacode/18.2-93/\" data-mce-href=\\'/vacode/18.2-93/\\'>18.2-93</a>, or <a href=\"/vacode/18.2-94/\" data-mce-href=\\'/vacode/18.2-94/\\'>18.2-94</a> or any substantially similar offense under the laws of another jurisdiction; (iii) any felony violation of § <a href=\"/vacode/4.1-1101/\" data-mce-href=\\'/vacode/4.1-1101/\\'>4.1-1101</a>, <a href=\"/vacode/18.2-248/\"')]"
      ]
     },
     "execution_count": 147,
     "metadata": {},
     "output_type": "execute_result"
    }
   ],
   "source": [
    "result2['context']"
   ]
  },
  {
   "cell_type": "code",
   "execution_count": 148,
   "id": "d1d27541-a25d-4e2f-a307-ede93296c9c2",
   "metadata": {},
   "outputs": [
    {
     "name": "stdout",
     "output_type": "stream",
     "text": [
      "I'm happy to help you with your query! However, I have to say that this question doesn't seem related to Virginia legal restrictions or employment. As a compassionate legal expert, my primary goal is to provide accurate information and guidance on legal matters.\n",
      "\n",
      "If you'd like to ask about employment opportunities in Virginia despite past convictions, I'd be happy to help with that! Please feel free to rephrase your question or ask something new, and I'll do my best to assist you.\n"
     ]
    }
   ],
   "source": [
    "query3 = \"What is Taylor Swift's latest album called?\"\n",
    "result3 = chain_plain.invoke({\"input\": query3})\n",
    "print(result3['answer'])"
   ]
  },
  {
   "cell_type": "code",
   "execution_count": null,
   "id": "c6983fe9-396b-4aea-982c-e4f9688180da",
   "metadata": {},
   "outputs": [],
   "source": []
  },
  {
   "cell_type": "code",
   "execution_count": 156,
   "id": "2d55c5d0-58c4-47b5-95ba-6bfa5fe0c267",
   "metadata": {},
   "outputs": [
    {
     "ename": "ImportError",
     "evalue": "cannot import name 'tool_call_chunk' from 'langchain_core.messages.tool' (/Users/zsk4gm/Desktop/resilience_education/env/lib/python3.10/site-packages/langchain_core/messages/tool.py)",
     "output_type": "error",
     "traceback": [
      "\u001b[0;31m---------------------------------------------------------------------------\u001b[0m",
      "\u001b[0;31mImportError\u001b[0m                               Traceback (most recent call last)",
      "Cell \u001b[0;32mIn[156], line 1\u001b[0m\n\u001b[0;32m----> 1\u001b[0m \u001b[38;5;28;01mfrom\u001b[39;00m \u001b[38;5;21;01mragas\u001b[39;00m\u001b[38;5;21;01m.\u001b[39;00m\u001b[38;5;21;01mmetrics\u001b[39;00m \u001b[38;5;28;01mimport\u001b[39;00m faithfulness, answer_relevancy, context_relevancy, context_recall\n\u001b[1;32m      2\u001b[0m \u001b[38;5;28;01mfrom\u001b[39;00m \u001b[38;5;21;01mragas\u001b[39;00m\u001b[38;5;21;01m.\u001b[39;00m\u001b[38;5;21;01mlangchain\u001b[39;00m \u001b[38;5;28;01mimport\u001b[39;00m RagasEvaluatorChain\n",
      "File \u001b[0;32m~/Desktop/resilience_education/env/lib/python3.10/site-packages/ragas/__init__.py:1\u001b[0m\n\u001b[0;32m----> 1\u001b[0m \u001b[38;5;28;01mfrom\u001b[39;00m \u001b[38;5;21;01mragas\u001b[39;00m\u001b[38;5;21;01m.\u001b[39;00m\u001b[38;5;21;01madaptation\u001b[39;00m \u001b[38;5;28;01mimport\u001b[39;00m adapt\n\u001b[1;32m      2\u001b[0m \u001b[38;5;28;01mfrom\u001b[39;00m \u001b[38;5;21;01mragas\u001b[39;00m\u001b[38;5;21;01m.\u001b[39;00m\u001b[38;5;21;01mevaluation\u001b[39;00m \u001b[38;5;28;01mimport\u001b[39;00m evaluate\n\u001b[1;32m      3\u001b[0m \u001b[38;5;28;01mfrom\u001b[39;00m \u001b[38;5;21;01mragas\u001b[39;00m\u001b[38;5;21;01m.\u001b[39;00m\u001b[38;5;21;01mrun_config\u001b[39;00m \u001b[38;5;28;01mimport\u001b[39;00m RunConfig\n",
      "File \u001b[0;32m~/Desktop/resilience_education/env/lib/python3.10/site-packages/ragas/adaptation.py:5\u001b[0m\n\u001b[1;32m      1\u001b[0m \u001b[38;5;28;01mimport\u001b[39;00m \u001b[38;5;21;01mtyping\u001b[39;00m \u001b[38;5;28;01mas\u001b[39;00m \u001b[38;5;21;01mt\u001b[39;00m\n\u001b[1;32m      3\u001b[0m \u001b[38;5;28;01mfrom\u001b[39;00m \u001b[38;5;21;01mlangchain_core\u001b[39;00m\u001b[38;5;21;01m.\u001b[39;00m\u001b[38;5;21;01mlanguage_models\u001b[39;00m \u001b[38;5;28;01mimport\u001b[39;00m BaseLanguageModel\n\u001b[0;32m----> 5\u001b[0m \u001b[38;5;28;01mfrom\u001b[39;00m \u001b[38;5;21;01mragas\u001b[39;00m\u001b[38;5;21;01m.\u001b[39;00m\u001b[38;5;21;01mllms\u001b[39;00m \u001b[38;5;28;01mimport\u001b[39;00m llm_factory\n\u001b[1;32m      6\u001b[0m \u001b[38;5;28;01mfrom\u001b[39;00m \u001b[38;5;21;01mragas\u001b[39;00m\u001b[38;5;21;01m.\u001b[39;00m\u001b[38;5;21;01mllms\u001b[39;00m\u001b[38;5;21;01m.\u001b[39;00m\u001b[38;5;21;01mbase\u001b[39;00m \u001b[38;5;28;01mimport\u001b[39;00m BaseRagasLLM, LangchainLLMWrapper\n\u001b[1;32m      7\u001b[0m \u001b[38;5;28;01mfrom\u001b[39;00m \u001b[38;5;21;01mragas\u001b[39;00m\u001b[38;5;21;01m.\u001b[39;00m\u001b[38;5;21;01mmetrics\u001b[39;00m\u001b[38;5;21;01m.\u001b[39;00m\u001b[38;5;21;01mbase\u001b[39;00m \u001b[38;5;28;01mimport\u001b[39;00m MetricWithLLM\n",
      "File \u001b[0;32m~/Desktop/resilience_education/env/lib/python3.10/site-packages/ragas/llms/__init__.py:1\u001b[0m\n\u001b[0;32m----> 1\u001b[0m \u001b[38;5;28;01mfrom\u001b[39;00m \u001b[38;5;21;01mragas\u001b[39;00m\u001b[38;5;21;01m.\u001b[39;00m\u001b[38;5;21;01mllms\u001b[39;00m\u001b[38;5;21;01m.\u001b[39;00m\u001b[38;5;21;01mbase\u001b[39;00m \u001b[38;5;28;01mimport\u001b[39;00m (\n\u001b[1;32m      2\u001b[0m     BaseRagasLLM,\n\u001b[1;32m      3\u001b[0m     LangchainLLMWrapper,\n\u001b[1;32m      4\u001b[0m     LlamaIndexLLMWrapper,\n\u001b[1;32m      5\u001b[0m     llm_factory,\n\u001b[1;32m      6\u001b[0m )\n\u001b[1;32m      8\u001b[0m __all__ \u001b[38;5;241m=\u001b[39m [\n\u001b[1;32m      9\u001b[0m     \u001b[38;5;124m\"\u001b[39m\u001b[38;5;124mBaseRagasLLM\u001b[39m\u001b[38;5;124m\"\u001b[39m,\n\u001b[1;32m     10\u001b[0m     \u001b[38;5;124m\"\u001b[39m\u001b[38;5;124mLangchainLLMWrapper\u001b[39m\u001b[38;5;124m\"\u001b[39m,\n\u001b[1;32m     11\u001b[0m     \u001b[38;5;124m\"\u001b[39m\u001b[38;5;124mLlamaIndexLLMWrapper\u001b[39m\u001b[38;5;124m\"\u001b[39m,\n\u001b[1;32m     12\u001b[0m     \u001b[38;5;124m\"\u001b[39m\u001b[38;5;124mllm_factory\u001b[39m\u001b[38;5;124m\"\u001b[39m,\n\u001b[1;32m     13\u001b[0m ]\n",
      "File \u001b[0;32m~/Desktop/resilience_education/env/lib/python3.10/site-packages/ragas/llms/base.py:14\u001b[0m\n\u001b[1;32m     12\u001b[0m \u001b[38;5;28;01mfrom\u001b[39;00m \u001b[38;5;21;01mlangchain_core\u001b[39;00m\u001b[38;5;21;01m.\u001b[39;00m\u001b[38;5;21;01mlanguage_models\u001b[39;00m \u001b[38;5;28;01mimport\u001b[39;00m BaseLanguageModel\n\u001b[1;32m     13\u001b[0m \u001b[38;5;28;01mfrom\u001b[39;00m \u001b[38;5;21;01mlangchain_core\u001b[39;00m\u001b[38;5;21;01m.\u001b[39;00m\u001b[38;5;21;01moutputs\u001b[39;00m \u001b[38;5;28;01mimport\u001b[39;00m Generation, LLMResult\n\u001b[0;32m---> 14\u001b[0m \u001b[38;5;28;01mfrom\u001b[39;00m \u001b[38;5;21;01mlangchain_openai\u001b[39;00m\u001b[38;5;21;01m.\u001b[39;00m\u001b[38;5;21;01mchat_models\u001b[39;00m \u001b[38;5;28;01mimport\u001b[39;00m AzureChatOpenAI, ChatOpenAI\n\u001b[1;32m     15\u001b[0m \u001b[38;5;28;01mfrom\u001b[39;00m \u001b[38;5;21;01mlangchain_openai\u001b[39;00m\u001b[38;5;21;01m.\u001b[39;00m\u001b[38;5;21;01mllms\u001b[39;00m \u001b[38;5;28;01mimport\u001b[39;00m AzureOpenAI, OpenAI\n\u001b[1;32m     16\u001b[0m \u001b[38;5;28;01mfrom\u001b[39;00m \u001b[38;5;21;01mlangchain_openai\u001b[39;00m\u001b[38;5;21;01m.\u001b[39;00m\u001b[38;5;21;01mllms\u001b[39;00m\u001b[38;5;21;01m.\u001b[39;00m\u001b[38;5;21;01mbase\u001b[39;00m \u001b[38;5;28;01mimport\u001b[39;00m BaseOpenAI\n",
      "File \u001b[0;32m~/Desktop/resilience_education/env/lib/python3.10/site-packages/langchain_openai/__init__.py:1\u001b[0m\n\u001b[0;32m----> 1\u001b[0m \u001b[38;5;28;01mfrom\u001b[39;00m \u001b[38;5;21;01mlangchain_openai\u001b[39;00m\u001b[38;5;21;01m.\u001b[39;00m\u001b[38;5;21;01mchat_models\u001b[39;00m \u001b[38;5;28;01mimport\u001b[39;00m AzureChatOpenAI, ChatOpenAI\n\u001b[1;32m      2\u001b[0m \u001b[38;5;28;01mfrom\u001b[39;00m \u001b[38;5;21;01mlangchain_openai\u001b[39;00m\u001b[38;5;21;01m.\u001b[39;00m\u001b[38;5;21;01membeddings\u001b[39;00m \u001b[38;5;28;01mimport\u001b[39;00m AzureOpenAIEmbeddings, OpenAIEmbeddings\n\u001b[1;32m      3\u001b[0m \u001b[38;5;28;01mfrom\u001b[39;00m \u001b[38;5;21;01mlangchain_openai\u001b[39;00m\u001b[38;5;21;01m.\u001b[39;00m\u001b[38;5;21;01mllms\u001b[39;00m \u001b[38;5;28;01mimport\u001b[39;00m AzureOpenAI, OpenAI\n",
      "File \u001b[0;32m~/Desktop/resilience_education/env/lib/python3.10/site-packages/langchain_openai/chat_models/__init__.py:1\u001b[0m\n\u001b[0;32m----> 1\u001b[0m \u001b[38;5;28;01mfrom\u001b[39;00m \u001b[38;5;21;01mlangchain_openai\u001b[39;00m\u001b[38;5;21;01m.\u001b[39;00m\u001b[38;5;21;01mchat_models\u001b[39;00m\u001b[38;5;21;01m.\u001b[39;00m\u001b[38;5;21;01mazure\u001b[39;00m \u001b[38;5;28;01mimport\u001b[39;00m AzureChatOpenAI\n\u001b[1;32m      2\u001b[0m \u001b[38;5;28;01mfrom\u001b[39;00m \u001b[38;5;21;01mlangchain_openai\u001b[39;00m\u001b[38;5;21;01m.\u001b[39;00m\u001b[38;5;21;01mchat_models\u001b[39;00m\u001b[38;5;21;01m.\u001b[39;00m\u001b[38;5;21;01mbase\u001b[39;00m \u001b[38;5;28;01mimport\u001b[39;00m ChatOpenAI\n\u001b[1;32m      4\u001b[0m __all__ \u001b[38;5;241m=\u001b[39m [\u001b[38;5;124m\"\u001b[39m\u001b[38;5;124mChatOpenAI\u001b[39m\u001b[38;5;124m\"\u001b[39m, \u001b[38;5;124m\"\u001b[39m\u001b[38;5;124mAzureChatOpenAI\u001b[39m\u001b[38;5;124m\"\u001b[39m]\n",
      "File \u001b[0;32m~/Desktop/resilience_education/env/lib/python3.10/site-packages/langchain_openai/chat_models/azure.py:40\u001b[0m\n\u001b[1;32m     37\u001b[0m \u001b[38;5;28;01mfrom\u001b[39;00m \u001b[38;5;21;01mlangchain_core\u001b[39;00m\u001b[38;5;21;01m.\u001b[39;00m\u001b[38;5;21;01mutils\u001b[39;00m \u001b[38;5;28;01mimport\u001b[39;00m convert_to_secret_str, get_from_dict_or_env\n\u001b[1;32m     38\u001b[0m \u001b[38;5;28;01mfrom\u001b[39;00m \u001b[38;5;21;01mlangchain_core\u001b[39;00m\u001b[38;5;21;01m.\u001b[39;00m\u001b[38;5;21;01mutils\u001b[39;00m\u001b[38;5;21;01m.\u001b[39;00m\u001b[38;5;21;01mfunction_calling\u001b[39;00m \u001b[38;5;28;01mimport\u001b[39;00m convert_to_openai_tool\n\u001b[0;32m---> 40\u001b[0m \u001b[38;5;28;01mfrom\u001b[39;00m \u001b[38;5;21;01mlangchain_openai\u001b[39;00m\u001b[38;5;21;01m.\u001b[39;00m\u001b[38;5;21;01mchat_models\u001b[39;00m\u001b[38;5;21;01m.\u001b[39;00m\u001b[38;5;21;01mbase\u001b[39;00m \u001b[38;5;28;01mimport\u001b[39;00m BaseChatOpenAI\n\u001b[1;32m     42\u001b[0m logger \u001b[38;5;241m=\u001b[39m logging\u001b[38;5;241m.\u001b[39mgetLogger(\u001b[38;5;18m__name__\u001b[39m)\n\u001b[1;32m     45\u001b[0m _BM \u001b[38;5;241m=\u001b[39m TypeVar(\u001b[38;5;124m\"\u001b[39m\u001b[38;5;124m_BM\u001b[39m\u001b[38;5;124m\"\u001b[39m, bound\u001b[38;5;241m=\u001b[39mBaseModel)\n",
      "File \u001b[0;32m~/Desktop/resilience_education/env/lib/python3.10/site-packages/langchain_openai/chat_models/base.py:66\u001b[0m\n\u001b[1;32m     47\u001b[0m \u001b[38;5;28;01mfrom\u001b[39;00m \u001b[38;5;21;01mlangchain_core\u001b[39;00m\u001b[38;5;21;01m.\u001b[39;00m\u001b[38;5;21;01mmessages\u001b[39;00m \u001b[38;5;28;01mimport\u001b[39;00m (\n\u001b[1;32m     48\u001b[0m     AIMessage,\n\u001b[1;32m     49\u001b[0m     AIMessageChunk,\n\u001b[0;32m   (...)\u001b[0m\n\u001b[1;32m     63\u001b[0m     ToolMessageChunk,\n\u001b[1;32m     64\u001b[0m )\n\u001b[1;32m     65\u001b[0m \u001b[38;5;28;01mfrom\u001b[39;00m \u001b[38;5;21;01mlangchain_core\u001b[39;00m\u001b[38;5;21;01m.\u001b[39;00m\u001b[38;5;21;01mmessages\u001b[39;00m\u001b[38;5;21;01m.\u001b[39;00m\u001b[38;5;21;01mai\u001b[39;00m \u001b[38;5;28;01mimport\u001b[39;00m UsageMetadata\n\u001b[0;32m---> 66\u001b[0m \u001b[38;5;28;01mfrom\u001b[39;00m \u001b[38;5;21;01mlangchain_core\u001b[39;00m\u001b[38;5;21;01m.\u001b[39;00m\u001b[38;5;21;01mmessages\u001b[39;00m\u001b[38;5;21;01m.\u001b[39;00m\u001b[38;5;21;01mtool\u001b[39;00m \u001b[38;5;28;01mimport\u001b[39;00m tool_call_chunk\n\u001b[1;32m     67\u001b[0m \u001b[38;5;28;01mfrom\u001b[39;00m \u001b[38;5;21;01mlangchain_core\u001b[39;00m\u001b[38;5;21;01m.\u001b[39;00m\u001b[38;5;21;01moutput_parsers\u001b[39;00m \u001b[38;5;28;01mimport\u001b[39;00m JsonOutputParser, PydanticOutputParser\n\u001b[1;32m     68\u001b[0m \u001b[38;5;28;01mfrom\u001b[39;00m \u001b[38;5;21;01mlangchain_core\u001b[39;00m\u001b[38;5;21;01m.\u001b[39;00m\u001b[38;5;21;01moutput_parsers\u001b[39;00m\u001b[38;5;21;01m.\u001b[39;00m\u001b[38;5;21;01mbase\u001b[39;00m \u001b[38;5;28;01mimport\u001b[39;00m OutputParserLike\n",
      "\u001b[0;31mImportError\u001b[0m: cannot import name 'tool_call_chunk' from 'langchain_core.messages.tool' (/Users/zsk4gm/Desktop/resilience_education/env/lib/python3.10/site-packages/langchain_core/messages/tool.py)"
     ]
    }
   ],
   "source": [
    "from ragas.metrics import faithfulness, answer_relevancy, context_relevancy, context_recall\n",
    "from ragas.langchain import RagasEvaluatorChain"
   ]
  },
  {
   "cell_type": "code",
   "execution_count": null,
   "id": "9d38d541-1e98-46a0-b7d8-ab3159ce4255",
   "metadata": {},
   "outputs": [],
   "source": [
    "\n",
    "# make eval chains\n",
    "eval_chains = {\n",
    "    m.name: RagasEvaluatorChain(metric=m) \n",
    "    for m in [faithfulness, answer_relevancy, context_relevancy, context_recall]\n",
    "}\n",
    "\n",
    "# evaluate\n",
    "for name, eval_chain in eval_chains.items():\n",
    "    score_name = f\"{name}_score\"\n",
    "    print(f\"{score_name}: {eval_chain(result)[score_name]}\")"
   ]
  },
  {
   "cell_type": "markdown",
   "id": "fba165e7-8419-4a50-83f7-6bbd754af825",
   "metadata": {},
   "source": [
    "# Trulens Eval"
   ]
  },
  {
   "cell_type": "code",
   "execution_count": 133,
   "id": "15c54d5f-a5ac-4ca2-b438-b69f6dc30246",
   "metadata": {},
   "outputs": [
    {
     "name": "stdout",
     "output_type": "stream",
     "text": [
      "zsh:1: 1.25.2 not found\n"
     ]
    },
    {
     "name": "stderr",
     "output_type": "stream",
     "text": [
      "huggingface/tokenizers: The current process just got forked, after parallelism has already been used. Disabling parallelism to avoid deadlocks...\n",
      "To disable this warning, you can either:\n",
      "\t- Avoid using `tokenizers` before the fork if possible\n",
      "\t- Explicitly set the environment variable TOKENIZERS_PARALLELISM=(true | false)\n"
     ]
    }
   ],
   "source": [
    "!pip install litellm>=1.25.2"
   ]
  },
  {
   "cell_type": "code",
   "execution_count": 134,
   "id": "76780814-bcd5-44d9-abe2-f906f8cf0911",
   "metadata": {},
   "outputs": [
    {
     "name": "stdout",
     "output_type": "stream",
     "text": [
      "2600:6c67:5000:51d0:dcff:823b:1e86:d6d2"
     ]
    },
    {
     "name": "stderr",
     "output_type": "stream",
     "text": [
      "huggingface/tokenizers: The current process just got forked, after parallelism has already been used. Disabling parallelism to avoid deadlocks...\n",
      "To disable this warning, you can either:\n",
      "\t- Avoid using `tokenizers` before the fork if possible\n",
      "\t- Explicitly set the environment variable TOKENIZERS_PARALLELISM=(true | false)\n"
     ]
    }
   ],
   "source": [
    "# Local IP address command \n",
    "!curl ifconfig.me."
   ]
  },
  {
   "cell_type": "code",
   "execution_count": 135,
   "id": "d3e46298-c91d-42b9-bc6e-b77881cfa141",
   "metadata": {},
   "outputs": [],
   "source": [
    "import trulens_eval\n",
    "# Imports main tools:\n",
    "from trulens_eval import TruChain, Tru\n",
    "tru = Tru()\n",
    "tru.reset_database()"
   ]
  },
  {
   "cell_type": "code",
   "execution_count": 136,
   "id": "742d0018-440c-4e13-90d5-282dcc1f71a3",
   "metadata": {},
   "outputs": [],
   "source": [
    "# Initialize LiteLLM-based feedback function collection class:\n",
    "from langchain.llms import Ollama\n",
    "from trulens_eval import LiteLLM\n",
    "import litellm"
   ]
  },
  {
   "cell_type": "code",
   "execution_count": 137,
   "id": "c087dfba-a520-49c3-afea-ebda5b3f925d",
   "metadata": {},
   "outputs": [
    {
     "ename": "ModuleNotFoundError",
     "evalue": "\nlitellm package is required for using LiteLLM models.\nYou should be able to install it with pip:\n\n    ```bash\n    pip install \"litellm>=1.25.2\"\n    ```\n",
     "output_type": "error",
     "traceback": [
      "\u001b[0;31m---------------------------------------------------------------------------\u001b[0m",
      "\u001b[0;31mModuleNotFoundError\u001b[0m                       Traceback (most recent call last)",
      "File \u001b[0;32m~/Desktop/resilience_education/env/lib/python3.10/site-packages/trulens_eval/utils/imports.py:578\u001b[0m, in \u001b[0;36mOptionalImports.__import__\u001b[0;34m(self, name, globals, locals, fromlist, level)\u001b[0m\n\u001b[1;32m    577\u001b[0m \u001b[38;5;28;01mtry\u001b[39;00m:\n\u001b[0;32m--> 578\u001b[0m     mod \u001b[38;5;241m=\u001b[39m \u001b[38;5;28;43mself\u001b[39;49m\u001b[38;5;241;43m.\u001b[39;49m\u001b[43mimp\u001b[49m\u001b[43m(\u001b[49m\u001b[43mname\u001b[49m\u001b[43m,\u001b[49m\u001b[43m \u001b[49m\u001b[38;5;28;43mglobals\u001b[39;49m\u001b[43m,\u001b[49m\u001b[43m \u001b[49m\u001b[38;5;28;43mlocals\u001b[39;49m\u001b[43m,\u001b[49m\u001b[43m \u001b[49m\u001b[43mfromlist\u001b[49m\u001b[43m,\u001b[49m\u001b[43m \u001b[49m\u001b[43mlevel\u001b[49m\u001b[43m)\u001b[49m\n\u001b[1;32m    580\u001b[0m     \u001b[38;5;66;03m# NOTE(piotrm): commented block attempts to check module contents for required\u001b[39;00m\n\u001b[1;32m    581\u001b[0m     \u001b[38;5;66;03m# attributes so we can offer a message without raising an exception later. It is\u001b[39;00m\n\u001b[1;32m    582\u001b[0m     \u001b[38;5;66;03m# commented out for now it is catching some things we don't watch to catch. Need to\u001b[39;00m\n\u001b[1;32m    583\u001b[0m     \u001b[38;5;66;03m# check how attributes are normally looked up in a module to fix this. Specifically, the\u001b[39;00m\n\u001b[1;32m    584\u001b[0m     \u001b[38;5;66;03m# code that raises these messages: \"ImportError: cannot import name ...\"\u001b[39;00m\n",
      "File \u001b[0;32m~/Desktop/resilience_education/env/lib/python3.10/site-packages/trulens_eval/feedback/provider/litellm.py:18\u001b[0m\n\u001b[1;32m     17\u001b[0m \u001b[38;5;66;03m# check that the optional imports are not dummies:\u001b[39;00m\n\u001b[0;32m---> 18\u001b[0m \u001b[43mOptionalImports\u001b[49m\u001b[43m(\u001b[49m\u001b[43mmessages\u001b[49m\u001b[38;5;241;43m=\u001b[39;49m\u001b[43mREQUIREMENT_LITELLM\u001b[49m\u001b[43m)\u001b[49m\u001b[38;5;241;43m.\u001b[39;49m\u001b[43massert_installed\u001b[49m\u001b[43m(\u001b[49m\u001b[43mlitellm\u001b[49m\u001b[43m)\u001b[49m\n\u001b[1;32m     20\u001b[0m logger \u001b[38;5;241m=\u001b[39m logging\u001b[38;5;241m.\u001b[39mgetLogger(\u001b[38;5;18m__name__\u001b[39m)\n",
      "File \u001b[0;32m~/Desktop/resilience_education/env/lib/python3.10/site-packages/trulens_eval/utils/imports.py:547\u001b[0m, in \u001b[0;36mOptionalImports.assert_installed\u001b[0;34m(self, mods)\u001b[0m\n\u001b[1;32m    546\u001b[0m \u001b[38;5;28;01mif\u001b[39;00m \u001b[38;5;28many\u001b[39m(\u001b[38;5;28misinstance\u001b[39m(mod, Dummy) \u001b[38;5;28;01mfor\u001b[39;00m mod \u001b[38;5;129;01min\u001b[39;00m mods):\n\u001b[0;32m--> 547\u001b[0m     \u001b[38;5;28;01mraise\u001b[39;00m \u001b[38;5;167;01mModuleNotFoundError\u001b[39;00m(\u001b[38;5;28mself\u001b[39m\u001b[38;5;241m.\u001b[39mmessages\u001b[38;5;241m.\u001b[39mmodule_not_found)\n",
      "\u001b[0;31mModuleNotFoundError\u001b[0m: \nlitellm package is required for using LiteLLM models.\nYou should be able to install it with pip:\n\n    ```bash\n    pip install \"litellm>=1.25.2\"\n    ```\n",
      "\nThe above exception was the direct cause of the following exception:\n",
      "\u001b[0;31mModuleNotFoundError\u001b[0m                       Traceback (most recent call last)",
      "Cell \u001b[0;32mIn[137], line 2\u001b[0m\n\u001b[1;32m      1\u001b[0m \u001b[38;5;66;03m#'http://localhost:11435' refers to everyone's local device\u001b[39;00m\n\u001b[0;32m----> 2\u001b[0m ollama_provider \u001b[38;5;241m=\u001b[39m \u001b[43mLiteLLM\u001b[49m\u001b[43m(\u001b[49m\u001b[43mmodel_engine\u001b[49m\u001b[38;5;241;43m=\u001b[39;49m\u001b[38;5;124;43m'\u001b[39;49m\u001b[38;5;124;43mollama/llama3\u001b[39;49m\u001b[38;5;124;43m'\u001b[39;49m\u001b[43m,\u001b[49m\u001b[43m \u001b[49m\u001b[43mapi_base\u001b[49m\u001b[38;5;241;43m=\u001b[39;49m\u001b[38;5;124;43m'\u001b[39;49m\u001b[38;5;124;43mhttp://174.20.175.133:11435\u001b[39;49m\u001b[38;5;124;43m'\u001b[39;49m\u001b[43m)\u001b[49m\n",
      "File \u001b[0;32m~/Desktop/resilience_education/env/lib/python3.10/site-packages/trulens_eval/utils/imports.py:447\u001b[0m, in \u001b[0;36mDummy.__call__\u001b[0;34m(self, *args, **kwargs)\u001b[0m\n\u001b[1;32m    446\u001b[0m \u001b[38;5;28;01mdef\u001b[39;00m \u001b[38;5;21m__call__\u001b[39m(\u001b[38;5;28mself\u001b[39m, \u001b[38;5;241m*\u001b[39margs, \u001b[38;5;241m*\u001b[39m\u001b[38;5;241m*\u001b[39mkwargs):\n\u001b[0;32m--> 447\u001b[0m     \u001b[38;5;28;01mraise\u001b[39;00m \u001b[38;5;28mself\u001b[39m\u001b[38;5;241m.\u001b[39mexception_class(\u001b[38;5;28mself\u001b[39m\u001b[38;5;241m.\u001b[39mmessage) \u001b[38;5;28;01mfrom\u001b[39;00m \u001b[38;5;21;01mself\u001b[39;00m\u001b[38;5;21;01m.\u001b[39;00m\u001b[38;5;21;01moriginal_exception\u001b[39;00m\n",
      "\u001b[0;31mModuleNotFoundError\u001b[0m: \nlitellm package is required for using LiteLLM models.\nYou should be able to install it with pip:\n\n    ```bash\n    pip install \"litellm>=1.25.2\"\n    ```\n"
     ]
    }
   ],
   "source": [
    "#'http://localhost:11435' refers to everyone's local device\n",
    "ollama_provider = LiteLLM(model_engine='ollama/llama3', api_base='http://174.20.175.133:11435')"
   ]
  },
  {
   "cell_type": "code",
   "execution_count": null,
   "id": "e3e861c9-7258-4228-82d6-e8d40519149e",
   "metadata": {},
   "outputs": [],
   "source": [
    "import numpy as np\n",
    "from trulens_eval import Feedback, Select\n",
    "\n",
    "context = result['context']\n",
    "context_texts = [doc.page_content for doc in context]\n",
    "\n",
    "# Define a groundedness feedback function\n",
    "f_groundedness = (\n",
    "    Feedback(ollama_provider.groundedness_measure_with_cot_reasons, name=\"Groundedness\")\n",
    "    .on(Select.RecordCalls.args.context)  # This selects the context from the function call\n",
    "    .on_output()\n",
    ")\n",
    "\n",
    "# Question/answer relevance between overall question and answer\n",
    "f_answer_relevance = (\n",
    "    Feedback(ollama_provider.relevance_with_cot_reasons, name=\"Answer Relevance\")\n",
    "    .on(Select.RecordCalls.args.query)  # This selects the query/input\n",
    "    .on_output()  # This selects the output directly\n",
    ")\n",
    "\n",
    "# Context relevance between question and each context chunk\n",
    "f_context_relevance = (\n",
    "    Feedback(ollama_provider.context_relevance_with_cot_reasons, name=\"Context Relevance\")\n",
    "    .on(Select.RecordCalls.args.query)  # This selects the query/input\n",
    "    .on(Select.RecordCalls.args.context)  # This selects the context\n",
    "    .aggregate(np.mean)\n",
    ") "
   ]
  },
  {
   "cell_type": "code",
   "execution_count": null,
   "id": "3dfb9a6a-43b3-4e11-b1a7-1d4ffaba86b7",
   "metadata": {},
   "outputs": [],
   "source": [
    "tru_recorder = TruChain(\n",
    "    app=llm,\n",
    "    app_id='Chain1_ChatApplication',\n",
    "    feedbacks=[f_answer_relevance, f_context_relevance, f_groundedness], \n",
    "    selectors_check_warning=True\n",
    ")"
   ]
  },
  {
   "cell_type": "code",
   "execution_count": null,
   "id": "2c760809-b8de-457e-86fa-2075406fa6ba",
   "metadata": {},
   "outputs": [],
   "source": [
    "with tru_recorder as recording:\n",
    "    llm_response = chain_plain.invoke({\"input\": query})\n",
    "\n",
    "display(llm_response)"
   ]
  },
  {
   "cell_type": "code",
   "execution_count": null,
   "id": "4c415b42-29aa-458c-9710-6a5dd85b41fe",
   "metadata": {},
   "outputs": [],
   "source": []
  }
 ],
 "metadata": {
  "kernelspec": {
   "display_name": "Python 3 (ipykernel)",
   "language": "python",
   "name": "python3"
  },
  "language_info": {
   "codemirror_mode": {
    "name": "ipython",
    "version": 3
   },
   "file_extension": ".py",
   "mimetype": "text/x-python",
   "name": "python",
   "nbconvert_exporter": "python",
   "pygments_lexer": "ipython3",
   "version": "3.10.9"
  }
 },
 "nbformat": 4,
 "nbformat_minor": 5
}
