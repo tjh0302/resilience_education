{
 "cells": [
  {
   "cell_type": "code",
   "execution_count": 6,
   "id": "a3b2618b-f6cf-4a49-a5da-d4c6b97a7e7e",
   "metadata": {},
   "outputs": [],
   "source": [
    "import os\n",
    "\n",
    "# Define the path to the JSON files\n",
    "# Get the current directory\n",
    "current_directory = os.getcwd()\n",
    "\n",
    "# Create the file path to the 'json_files_updated' folder\n",
    "json_files_updated_path = os.path.join(current_directory, 'json_files_updated')"
   ]
  },
  {
   "cell_type": "code",
   "execution_count": 1,
   "id": "047ec96a-3305-4c9c-99be-5c57b7e5bc14",
   "metadata": {},
   "outputs": [],
   "source": [
    "from langchain_community.document_loaders import DirectoryLoader\n",
    "from langchain_community.document_loaders import JSONLoader"
   ]
  },
  {
   "cell_type": "code",
   "execution_count": 2,
   "id": "7187ea0d-b18e-4784-9d64-017700d4c3d3",
   "metadata": {},
   "outputs": [],
   "source": [
    "from bs4 import BeautifulSoup\n",
    "\n",
    "def metadata_func(record: dict, metadata: dict) -> dict:\n",
    "    metadata[\"TitleNumber\"] = record.get(\"TitleNumber\")\n",
    "    metadata[\"TitleName\"] = record.get(\"TitleName\")\n",
    "    \n",
    "    chapter_list = record.get(\"ChapterList\", [])\n",
    "    hrefs = []\n",
    "    for chapter in chapter_list:\n",
    "        metadata['ChapterNum'] = chapter.get('ChapterNum')\n",
    "        metadata['ChapterName'] = chapter.get('ChapterName')\n",
    "        metadata['ArticleNum'] = chapter.get('ArticleNum')\n",
    "        metadata['ArticleName'] = chapter.get('ArticleName')\n",
    "        metadata['SectionNumber'] = chapter.get('SectionNumber')\n",
    "        metadata['SectionTitle'] = chapter.get('SectionTitle')\n",
    "        \n",
    "        # Extract href from Body if available\n",
    "        body_content = chapter.get(\"Body\", \"\")\n",
    "        soup = BeautifulSoup(body_content, 'html.parser')\n",
    "        links = soup.find_all('a', href=True)\n",
    "        for link in links:\n",
    "            hrefs.append(link['href'])\n",
    "            \n",
    "    # Convert hrefs list into a single string\n",
    "    metadata['Hrefs'] = \"; \".join(hrefs) \n",
    "    \n",
    "    # Extract all 'Body' contents\n",
    "    body_contents = [chapter.get(\"Body\", \"\") for chapter in chapter_list]\n",
    "    \n",
    "    return {\n",
    "        \"metadata\": metadata,\n",
    "        \"page_content\": \"\\n\".join(body_contents)\n",
    "    } "
   ]
  },
  {
   "cell_type": "code",
   "execution_count": 7,
   "id": "15fe0e59-384c-4097-a882-5ae31999ff1e",
   "metadata": {},
   "outputs": [],
   "source": [
    "loader = DirectoryLoader(\n",
    "    json_files_updated_path,\n",
    "    glob='*.json',\n",
    "    loader_cls=JSONLoader,\n",
    "    loader_kwargs={\n",
    "        'jq_schema': '.', \n",
    "        'content_key': None,\n",
    "        'metadata_func': metadata_func,\n",
    "        'text_content': False\n",
    "    }\n",
    ")\n",
    "\n",
    "# Load documents directly\n",
    "documents = loader.load()"
   ]
  },
  {
   "cell_type": "markdown",
   "id": "6dc0dc17-4eb9-4976-a4f3-dcb2e3239818",
   "metadata": {},
   "source": [
    "### Generate Test Set"
   ]
  },
  {
   "cell_type": "code",
   "execution_count": 10,
   "id": "3e784c8d-dc0d-48eb-81b6-84d11f8aca76",
   "metadata": {},
   "outputs": [],
   "source": [
    "from ragas.testset.generator import TestsetGenerator\n",
    "from ragas.testset.evolutions import simple, reasoning, multi_context\n",
    "from langchain_community.llms import Ollama\n",
    "from langchain_community.embeddings import HuggingFaceEmbeddings\n",
    "\n",
    "critic_llm = Ollama(\n",
    "    model=\"llama2\"\n",
    ") \n",
    "\n",
    "\n",
    "generator_llm = Ollama(\n",
    "    model=\"llama3\"\n",
    ")  \n",
    "\n",
    "\n",
    "model_name = \"multi-qa-mpnet-base-dot-v1\"\n",
    "model_kwargs = {'device': 'cpu'}\n",
    "encode_kwargs = {'normalize_embeddings': False}\n",
    "hf = HuggingFaceEmbeddings(\n",
    "    model_name=model_name,\n",
    "    model_kwargs=model_kwargs,\n",
    "    encode_kwargs=encode_kwargs)"
   ]
  },
  {
   "cell_type": "code",
   "execution_count": 12,
   "id": "ba3ee35a-8f24-4b3a-9e88-39a9aacb2ea2",
   "metadata": {},
   "outputs": [],
   "source": [
    "generator = TestsetGenerator.from_langchain(\n",
    "    generator_llm,\n",
    "    critic_llm,\n",
    "    hf)"
   ]
  },
  {
   "cell_type": "code",
   "execution_count": null,
   "id": "1cdb5d38-c5d8-4e1e-b3a4-2444cfae6f4a",
   "metadata": {},
   "outputs": [],
   "source": []
  }
 ],
 "metadata": {
  "kernelspec": {
   "display_name": "Python 3 (ipykernel)",
   "language": "python",
   "name": "python3"
  },
  "language_info": {
   "codemirror_mode": {
    "name": "ipython",
    "version": 3
   },
   "file_extension": ".py",
   "mimetype": "text/x-python",
   "name": "python",
   "nbconvert_exporter": "python",
   "pygments_lexer": "ipython3",
   "version": "3.10.9"
  }
 },
 "nbformat": 4,
 "nbformat_minor": 5
}
