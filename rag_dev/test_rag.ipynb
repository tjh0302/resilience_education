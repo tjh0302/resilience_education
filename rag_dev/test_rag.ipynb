{
 "cells": [
  {
   "cell_type": "markdown",
   "id": "264d278e-46a4-49de-832b-b15f76776c03",
   "metadata": {},
   "source": [
    "## Set pythonpath to root directory"
   ]
  },
  {
   "cell_type": "code",
   "execution_count": null,
   "id": "7c14f5ff-7012-4c27-8b41-766252ac2207",
   "metadata": {},
   "outputs": [],
   "source": [
    "import os\n",
    "import sys\n",
    "\n",
    "# Get the parent directory\n",
    "parent_directory = os.path.abspath(os.path.join(os.getcwd(), '..'))\n",
    "\n",
    "# Add the parent directory to the PYTHONPATH\n",
    "if parent_directory not in sys.path:\n",
    "    sys.path.append(parent_directory)\n",
    "\n",
    "print(f\"Parent Directory added to PYTHONPATH: {parent_directory}\")"
   ]
  },
  {
   "cell_type": "markdown",
   "id": "b51da461-b299-464a-93d9-8d8be01b581b",
   "metadata": {},
   "source": [
    "### Tests that ONLY one instance of llm and vectorstore is initialized"
   ]
  },
  {
   "cell_type": "code",
   "execution_count": 3,
   "id": "8ca47602-3ff1-4d62-91b0-e493e33bf156",
   "metadata": {},
   "outputs": [],
   "source": [
    "import pytest\n",
    "import tempfile\n",
    "import pytest\n",
    "from ragsilience.setup_rag import OllamaSingleton, VectorstoreSingleton\n",
    "from ragsilience.setup_rag import create_rag_chain\n",
    "from ragsilience.setup_rag import RAGSession\n",
    "\n",
    "def test_ollama_singleton():\n",
    "    instance1 = OllamaSingleton.get_instance()\n",
    "    instance2 = OllamaSingleton.get_instance()\n",
    "    assert instance1 is instance2\n",
    "\n",
    "def test_vectorstore_singleton():\n",
    "    # Use a temporary directory for the persist_directory\n",
    "    with tempfile.TemporaryDirectory() as persist_directory:\n",
    "        instance1 = VectorstoreSingleton.get_instance(persist_directory)\n",
    "        instance2 = VectorstoreSingleton.get_instance(persist_directory)\n",
    "        assert instance1 is instance2"
   ]
  },
  {
   "cell_type": "markdown",
   "id": "16b29c94-8b42-4dc2-b9ba-a4af6a29d982",
   "metadata": {},
   "source": [
    "### Tests that exception is raised if one instance of llm and vectorstore is already intialized"
   ]
  },
  {
   "cell_type": "code",
   "execution_count": 4,
   "id": "9d586bd3-cbc2-4320-882c-8f6121b57f7b",
   "metadata": {},
   "outputs": [],
   "source": [
    "def test_ollama_singleton_exception():\n",
    "    with pytest.raises(Exception):\n",
    "        OllamaSingleton()  # Should raise an exception if already initialized\n",
    "\n",
    "def test_vectorstore_singleton_exception():\n",
    "    persist_directory = \"test_directory\"\n",
    "    instance1 = VectorstoreSingleton.get_instance(persist_directory)\n",
    "    with pytest.raises(Exception):\n",
    "        VectorstoreSingleton(persist_directory)  # Should raise an exception if already initialized"
   ]
  },
  {
   "cell_type": "markdown",
   "id": "7b54d0d9-e228-470c-b60c-5a454df8b67c",
   "metadata": {},
   "source": [
    "### Tests that rag chain is created"
   ]
  },
  {
   "cell_type": "code",
   "execution_count": 5,
   "id": "8c0595c2-39da-4615-8ece-5485e3398e0b",
   "metadata": {},
   "outputs": [],
   "source": [
    "def test_create_rag_chain():\n",
    "    # Use a temporary directory for the persist_directory\n",
    "    with tempfile.TemporaryDirectory() as persist_directory:\n",
    "        # Create the RAG chain\n",
    "        chain = create_rag_chain(persist_directory)\n",
    "        # Assert that the chain is created and is not None\n",
    "        assert chain is not None"
   ]
  },
  {
   "cell_type": "markdown",
   "id": "f3750a60-e1a0-4571-ae59-9e2606a711df",
   "metadata": {},
   "source": [
    "### Tests that rag session is created with appropriate instance variables"
   ]
  },
  {
   "cell_type": "code",
   "execution_count": 6,
   "id": "68932cad-7210-4b8b-9adb-c0af646e9330",
   "metadata": {},
   "outputs": [],
   "source": [
    "def test_rag_session_initialization():\n",
    "    session_id = \"test_session\"\n",
    "    # Use a temporary directory for the persist_directory\n",
    "    with tempfile.TemporaryDirectory() as persist_directory:\n",
    "        rag_session = RAGSession(session_id, persist_directory)\n",
    "        assert rag_session.session_id == session_id\n",
    "        assert rag_session.persist_directory == persist_directory\n",
    "        assert rag_session.chain is not None\n",
    "        assert rag_session.history is not None\n",
    "        assert rag_session.runnable_with_history is not None"
   ]
  },
  {
   "cell_type": "markdown",
   "id": "96130166-5955-4ddf-968d-ca54e3085580",
   "metadata": {},
   "source": [
    "### Tests that vectorstore is initialized from vectorstore singleton"
   ]
  },
  {
   "cell_type": "code",
   "execution_count": 8,
   "id": "4dffcb39-e857-4ac7-ba26-d037195457f8",
   "metadata": {},
   "outputs": [],
   "source": [
    "def test_vectorstore_configuration():\n",
    "    # Use a temporary directory for the persist_directory\n",
    "    with tempfile.TemporaryDirectory() as persist_directory:\n",
    "        vectorstore = VectorstoreSingleton.get_instance(persist_directory).vectorstore\n",
    "        assert vectorstore is not None\n",
    "        # Add more assertions based on your configuration requirements"
   ]
  }
 ],
 "metadata": {
  "kernelspec": {
   "display_name": "Python 3 (ipykernel)",
   "language": "python",
   "name": "python3"
  },
  "language_info": {
   "codemirror_mode": {
    "name": "ipython",
    "version": 3
   },
   "file_extension": ".py",
   "mimetype": "text/x-python",
   "name": "python",
   "nbconvert_exporter": "python",
   "pygments_lexer": "ipython3",
   "version": "3.10.9"
  }
 },
 "nbformat": 4,
 "nbformat_minor": 5
}
