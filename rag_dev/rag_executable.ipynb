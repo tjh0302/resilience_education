{
 "cells": [
  {
   "cell_type": "markdown",
   "id": "b86fc139-ef4c-4655-ac80-7bb49a923a1f",
   "metadata": {},
   "source": [
    "## Set pythonpath to root directory"
   ]
  },
  {
   "cell_type": "code",
   "execution_count": 1,
   "id": "95476b05-03ff-479d-8df7-345c26b4464a",
   "metadata": {},
   "outputs": [
    {
     "name": "stdout",
     "output_type": "stream",
     "text": [
      "Parent Directory added to PYTHONPATH: /Users/zsk4gm/Desktop/resilience_education\n"
     ]
    }
   ],
   "source": [
    "import os\n",
    "import sys\n",
    "\n",
    "# Get the parent directory\n",
    "parent_directory = os.path.abspath(os.path.join(os.getcwd(), '..'))\n",
    "\n",
    "# Add the parent directory to the PYTHONPATH\n",
    "if parent_directory not in sys.path:\n",
    "    sys.path.append(parent_directory)\n",
    "\n",
    "print(f\"Parent Directory added to PYTHONPATH: {parent_directory}\")"
   ]
  },
  {
   "cell_type": "markdown",
   "id": "e55d8acc-b8db-4a55-8c56-377f012feeed",
   "metadata": {},
   "source": [
    "## Import module and define session with configurations"
   ]
  },
  {
   "cell_type": "code",
   "execution_count": 3,
   "id": "fc526f7b-3a30-44cc-8008-3676f8b27911",
   "metadata": {},
   "outputs": [],
   "source": [
    "from ragsilience.setup_rag import create_rag_session\n",
    "\n",
    "def main():\n",
    "    # Create a session\n",
    "    session_id = \"testing2\"\n",
    "    embeddings_path = os.path.join(parent_directory, 'embeddings')\n",
    "    \n",
    "    rag_session = create_rag_session(session_id, embeddings_path)\n",
    "\n",
    "    def user_asks():\n",
    "        # Ask questions interactively\n",
    "        while True:\n",
    "            response = rag_session.ask()\n",
    "\n",
    "    user_asks()"
   ]
  },
  {
   "cell_type": "markdown",
   "id": "9b49ff77-aa67-4e9a-ba33-33a776210599",
   "metadata": {},
   "source": [
    "## Run session"
   ]
  },
  {
   "cell_type": "code",
   "execution_count": null,
   "id": "9cffae5d-9b00-411c-a93d-508057de173f",
   "metadata": {},
   "outputs": [
    {
     "name": "stderr",
     "output_type": "stream",
     "text": [
      "/Users/zsk4gm/Desktop/resilience_education/env/lib/python3.10/site-packages/langchain_core/_api/deprecation.py:139: LangChainDeprecationWarning: The class `HuggingFaceEmbeddings` was deprecated in LangChain 0.2.2 and will be removed in 0.3.0. An updated version of the class exists in the langchain-huggingface package and should be used instead. To use it run `pip install -U langchain-huggingface` and import as `from langchain_huggingface import HuggingFaceEmbeddings`.\n",
      "  warn_deprecated(\n",
      "/Users/zsk4gm/Desktop/resilience_education/env/lib/python3.10/site-packages/sentence_transformers/cross_encoder/CrossEncoder.py:11: TqdmWarning: IProgress not found. Please update jupyter and ipywidgets. See https://ipywidgets.readthedocs.io/en/stable/user_install.html\n",
      "  from tqdm.autonotebook import tqdm, trange\n",
      "/Users/zsk4gm/Desktop/resilience_education/env/lib/python3.10/site-packages/langchain_community/chat_message_histories/sql.py:140: LangChainDeprecationWarning: `connection_string` was deprecated in LangChain 0.2.2 and will be removed in 0.3.0. Use Use connection instead instead.\n",
      "  warn_deprecated(\n"
     ]
    },
    {
     "name": "stdin",
     "output_type": "stream",
     "text": [
      "Please type your query:  Can I be a business owner with a drug offense?\n"
     ]
    },
    {
     "name": "stdout",
     "output_type": "stream",
     "text": [
      "I'm a compassionate legal expert tasked with translating Virginia legal restrictions into helpful plaintext for job seekers. My goal is to provide general information on Virginia's legal restrictions, emphasizing the importance of consulting with a legal professional for specific guidance tailored to your situation.\n",
      "\n",
      "To better understand the limitations, can you please share more details about your drug offense? The type of conviction, how long ago it occurred, and any relevant circumstances would be helpful in providing a more accurate response.\n",
      "\n",
      "**Answer:** In Virginia, having a drug offense conviction does not automatically disqualify you from becoming a business owner. However, the specific requirements for starting or maintaining a business may vary depending on the type of business and local regulations.\n",
      "\n",
      "**Restrictions:** As a result, it's essential to research and understand any relevant state laws, regulations, or professional certifications required for your desired business venture. For example, certain businesses like pharmacies, medical marijuana dispensaries, or drug testing services might be restricted or require special licenses.\n",
      "\n",
      "**Options:** If you're interested in starting a business, consider consulting with an attorney who can help guide you through the process and identify any potential legal hurdles related to your drug offense conviction.\n",
      "\n",
      "**Uncertainty:** I must emphasize that my understanding is based on the provided context, and it's essential to consult a legal professional for personalized guidance.\n",
      "\n",
      "**Suggestions:**\n",
      "\n",
      "1. **Research local regulations:** Look into local zoning laws, business permits, and licenses required for your desired venture.\n",
      "2. **Explore alternative business ideas:** Consider entrepreneurship opportunities that don't require direct involvement in the drug trade or related industries.\n",
      "3. **Seek professional guidance:** Consult with an attorney to better understand the legal implications of your drug offense conviction on your business aspirations.\n",
      "\n",
      "**Conclusion:** While having a drug offense conviction may present some challenges, it's not a barrier to becoming a business owner in Virginia. By researching local regulations and seeking professional guidance, you can navigate these complexities and find opportunities that align with your goals and passions.\n",
      "\n",
      "Remember, you can always ask follow-up questions if you have further concerns!I'm a compassionate legal expert tasked with translating Virginia legal restrictions into helpful plaintext for job seekers. My goal is to provide general information on Virginia's legal restrictions, emphasizing the importance of consulting with a legal professional for specific guidance tailored to your situation.\n",
      "\n",
      "To better understand the limitations, can you please share more details about your drug offense? The type of conviction, how long ago it occurred, and any relevant circumstances would be helpful in providing a more accurate response.\n",
      "\n",
      "**Answer:** While Virginia law does not explicitly prohibit business ownership with a drug offense conviction (§18.2-247 et seq.), there are certain restrictions to consider:\n",
      "\n",
      "* **Professional licensure:** Certain professional licenses, such as real estate or insurance, may be affected by a drug offense conviction. Check with the relevant licensing board for specific requirements.\n",
      "* **Financing and loans:** Some lenders may view a drug offense conviction as a risk factor, affecting your ability to secure financing or obtain loans for your business.\n",
      "* **Reputation and trust:** A drug offense conviction can impact how customers, suppliers, or partners perceive you and your business. Your reputation may be affected, potentially impacting your business's success.\n",
      "\n",
      "**Options:**\n",
      "\n",
      "1. **Seek guidance from a legal professional:** Consult with an attorney to better understand the specific implications of your drug offense conviction on your business goals.\n",
      "2. **Explore alternative financing options:** Research alternative lenders or investors who may not consider a drug offense conviction as a significant factor in their decision-making process.\n",
      "3. **Highlight personal and professional growth:** Emphasize any positive changes you've made since your conviction, such as completing rehabilitation programs or demonstrating significant progress in your personal and professional life.\n",
      "\n",
      "**Uncertainty:** As with my previous response, it's essential to remember that individual circumstances can affect the outcome. I encourage you to consult a legal professional for personalized guidance on how your drug offense conviction may impact your business goals.\n",
      "\n",
      "**Suggestions:**\n",
      "\n",
      "1. **Research relevant state agencies:** Contact the Virginia Secretary of State's office and the Virginia Department of Professional and Occupational Regulation (DPOR) to learn more about their policies regarding business ownership and licensure.\n",
      "2. **Explore alternative career paths:** Consider jobs or certifications that may not require business licenses, such as entrepreneurship in a different field or non-profit work.\n",
      "\n",
      "**Conclusion:** While there may be challenges in becoming a business owner with a drug offense conviction in Virginia, it's essential to remember that there are often pathways to success despite past convictions. I encourage you to continue exploring options and seeking guidance from legal professionals or relevant state agencies.\n",
      "\n",
      "Remember, you can always ask follow-up questions if you have further concerns!"
     ]
    }
   ],
   "source": [
    "if __name__ == '__main__':\n",
    "    main()"
   ]
  }
 ],
 "metadata": {
  "kernelspec": {
   "display_name": "Python 3 (ipykernel)",
   "language": "python",
   "name": "python3"
  },
  "language_info": {
   "codemirror_mode": {
    "name": "ipython",
    "version": 3
   },
   "file_extension": ".py",
   "mimetype": "text/x-python",
   "name": "python",
   "nbconvert_exporter": "python",
   "pygments_lexer": "ipython3",
   "version": "3.10.9"
  }
 },
 "nbformat": 4,
 "nbformat_minor": 5
}
