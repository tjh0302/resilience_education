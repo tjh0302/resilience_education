{
 "cells": [
  {
   "cell_type": "code",
   "execution_count": null,
   "id": "95476b05-03ff-479d-8df7-345c26b4464a",
   "metadata": {},
   "outputs": [
    {
     "name": "stderr",
     "output_type": "stream",
     "text": [
      "/Users/zsk4gm/Desktop/resilience_education/env/lib/python3.10/site-packages/langchain_core/_api/deprecation.py:139: LangChainDeprecationWarning: The class `HuggingFaceEmbeddings` was deprecated in LangChain 0.2.2 and will be removed in 0.3.0. An updated version of the class exists in the langchain-huggingface package and should be used instead. To use it run `pip install -U langchain-huggingface` and import as `from langchain_huggingface import HuggingFaceEmbeddings`.\n",
      "  warn_deprecated(\n",
      "/Users/zsk4gm/Desktop/resilience_education/env/lib/python3.10/site-packages/langchain_community/chat_message_histories/sql.py:140: LangChainDeprecationWarning: `connection_string` was deprecated in LangChain 0.2.2 and will be removed in 0.3.0. Use Use connection instead instead.\n",
      "  warn_deprecated(\n"
     ]
    },
    {
     "name": "stdin",
     "output_type": "stream",
     "text": [
      "Please type your query:  Can I be a teacher with a drug offense?\n"
     ]
    },
    {
     "name": "stdout",
     "output_type": "stream",
     "text": [
      "The original question is: \"Can I be a teacher with a drug offense?\"According to Section 22.1-296.1(B) of the Virginia Code, having a conviction related to controlled substances may affect your ability to become a teacher in Virginia.\n",
      "\n",
      "It is essential to consult with a legal professional to understand the specific implications of your conviction and explore potential pathways forward.\n",
      "\n",
      "As a general overview, I would like to clarify that while there is no direct mention of \"drug offenses\" in the context of teacher dismissals, having a criminal record may indeed impact your ability to become a teacher in Virginia.\n",
      "\n",
      "Teachers may be dismissed for various grounds, including conviction of a felony or crime of moral turpitude (Section 22.1-307).\n",
      "\n",
      "If you're interested in exploring alternative career paths or certifications, there are options available to you. For example:\n",
      "\n",
      "* Consider roles outside the education sector, such as customer service representatives, administrative assistants, or sales professionals.\n",
      "* Look into certification programs in fields like healthcare, technology, or business management.\n",
      "\n",
      "Remember that there may be other factors at play beyond your conviction that could impact your employment opportunities. I recommend consulting with a legal professional to better understand the specific implications of your conviction and explore potential pathways forward.\n",
      "\n",
      "Additionally, you can consult with state employment agencies, legal aid organizations, or job placement services for more information on available resources and guidance.\n",
      "\n",
      "Please remember that there are often ways to overcome past convictions and find fulfilling careers. Keep an open mind, stay positive, and don't hesitate to reach out if you have any further questions or concerns!None\n"
     ]
    },
    {
     "name": "stdin",
     "output_type": "stream",
     "text": [
      "Please type your query:  Can I be a accountant with a drug offense?\n"
     ]
    },
    {
     "name": "stdout",
     "output_type": "stream",
     "text": [
      "I cannot provide legal advice. However, the impact of a drug offense on your ability to become an accountant will depend on various factors, including the specific circumstances of your conviction and the laws governing accounting in Virginia.\n",
      "\n",
      "In general, having a criminal record may not necessarily disqualify you from becoming an accountant. However, it's essential to consult with a legal professional to understand the specific implications of your conviction and explore potential pathways forward.\n",
      "\n",
      "Additionally, you can consider alternative career paths or certifications that are less likely to be impacted by your conviction. For example:\n",
      "\n",
      "* Consider roles outside the accounting sector, such as customer service representatives, administrative assistants, or sales professionals.\n",
      "* Look into certification programs in fields like healthcare, technology, or business management.\n",
      "\n",
      "Remember that there may be other factors at play beyond your conviction that could impact your employment opportunities. I recommend consulting with a legal professional to better understand the specific implications of your conviction and explore potential pathways forward.\n",
      "\n",
      "Additionally, you can consult with state employment agencies, legal aid organizations, or job placement services for more information on available resources and guidance.\n",
      "\n",
      "Please remember that there are often ways to overcome past convictions and find fulfilling careers. Keep an open mind, stay positive, and don't hesitate to reach out if you have any further questions or concerns!I'm glad you're considering alternative career paths! Having a conviction related to controlled substances may affect your ability to become a teacher in Virginia, but it's essential to understand that the same legal restrictions might not apply to other professions.\n",
      "\n",
      "Regarding accounting specifically, there is no direct mention of \"drug offenses\" or \"controlled substances\" in the context of accountant qualifications. In Virginia, accountants are typically certified by the Virginia State Board of Accountancy (VSBAC), which has its own set of requirements for certification and licensure.\n",
      "\n",
      "To pursue a career as an accountant in Virginia with a drug offense conviction, I recommend consulting with a legal professional to understand the specific implications of your conviction on your ability to obtain accounting certifications or licenses. Additionally, you can explore certification programs offered by reputable organizations like the American Institute of Certified Public Accountants (AICPA) or the Institute of Management Accountants (IMA).\n",
      "\n",
      "While having a criminal record may affect certain employment opportunities, it's not necessarily a barrier to entry in all professions. Many employers and industries are willing to consider candidates with past convictions who demonstrate their rehabilitation and commitment to their chosen career path.\n",
      "\n",
      "Remember that there are often ways to overcome past convictions and find fulfilling careers. Keep an open mind, stay positive, and don't hesitate to reach out if you have any further questions or concerns!None\n"
     ]
    },
    {
     "name": "stdin",
     "output_type": "stream",
     "text": [
      "Please type your query:  What jobs can I get with a drug offense?\n"
     ]
    },
    {
     "name": "stdout",
     "output_type": "stream",
     "text": [
      "I'm glad you're considering alternative career paths! While having a conviction related to controlled substances may affect certain employment opportunities, it's not necessarily a barrier to entry in all professions. Here are some examples of jobs that may be more accessible:\n",
      "\n",
      "1. Customer Service Representative: You can consider roles in customer-facing industries like retail, hospitality, or telecommunications.\n",
      "2. Administrative Assistant: With the right training and certifications, you can excel as an administrative assistant in various sectors like finance, healthcare, or technology.\n",
      "3. Sales Professional: Many companies value sales professionals who are good communicators and have strong interpersonal skills. You can explore opportunities in industries like retail, real estate, or insurance.\n",
      "4. Food Service Manager: With experience in the food industry, you can move up to management roles in restaurants, cafes, or catering services.\n",
      "5. Warehouse Worker: If you're comfortable with physical labor, you can consider warehouse jobs in industries like logistics, manufacturing, or e-commerce.\n",
      "6. Landscaping/Lawn Care: Many people enjoy working outdoors and have the skills to start their own landscaping or lawn care business.\n",
      "7. Housekeeping/Janitorial Services: You can provide essential services for residential or commercial properties, keeping them clean and well-maintained.\n",
      "8. Data Entry Clerk: With basic computer skills, you can work as a data entry clerk in various industries like finance, healthcare, or government.\n",
      "9. Call Center Agent: Your communication skills will serve you well in call center roles, handling customer inquiries and resolving issues.\n",
      "10. Delivery/Transportation Driver: Many companies need reliable drivers for delivery services, logistics, or transportation.\n",
      "\n",
      "Keep in mind that while a drug offense conviction may not bar you from these jobs, some positions might require special licenses, certifications, or background checks. It's essential to research the specific requirements for each job and consider how your skills and experience align with those opportunities.\n",
      "\n",
      "Remember, it's crucial to consult with a legal professional to better understand the specific implications of your conviction on your ability to pursue certain careers. Additionally, you can explore resources like state employment agencies, legal aid organizations, or job placement services for more information on available guidance and support.\n",
      "\n",
      "Stay positive, keep an open mind, and don't hesitate to reach out if you have any further questions or concerns!While having a conviction related to controlled substances may affect certain employment opportunities in Virginia, it's not necessarily a barrier to entry in all professions. With the right guidance and support, individuals with a drug offense conviction can explore various career paths that don't require specific certifications or licenses.\n",
      "\n",
      "Here are some job options you might consider:\n",
      "\n",
      "1. Customer Service Representative: Many companies value customer service skills, which can be developed through training programs or previous work experience.\n",
      "2. Administrative Assistant: These roles often involve administrative tasks, such as data entry, scheduling, and communication with colleagues and clients.\n",
      "3. Sales Professional: Sales is a field that focuses on building relationships and negotiating deals, which can be an excellent fit for individuals who have strong interpersonal skills.\n",
      "4. Retail Associate: Retail jobs often require attention to detail, good customer service skills, and the ability to work effectively in a team environment.\n",
      "5. Food Service Worker: Roles in food service, such as servers, hosts/hostesses, or cooks, can be an excellent way to gain experience working with people while developing valuable soft skills.\n",
      "6. Warehouse Associate: These roles involve receiving, organizing, and shipping goods, which requires attention to detail, physical stamina, and the ability to work efficiently.\n",
      "7. Data Entry Clerk: With strong typing skills and attention to detail, individuals can excel in data entry positions.\n",
      "8. Landscaping or Maintenance Worker: Physical labor jobs like landscaping, maintenance, or janitorial work can be an excellent way to get back on your feet while developing valuable physical stamina.\n",
      "\n",
      "Keep in mind that these are just a few examples of job opportunities that may not require specific certifications or licenses. When exploring new career paths, it's essential to consider factors like:\n",
      "\n",
      "* Your skills and strengths\n",
      "* The job market and demand for certain roles\n",
      "* Any necessary training or certification programs\n",
      "* Your personal goals and interests\n",
      "\n",
      "Remember, having a criminal record is just one aspect of your overall profile as a candidate. Many employers are willing to consider candidates with past convictions who demonstrate their rehabilitation and commitment to their chosen career path.\n",
      "\n",
      "To get started, I recommend consulting with a legal professional to understand the specific implications of your conviction on your ability to pursue certain careers. Additionally, you can explore resources from state employment agencies, legal aid organizations, or job placement services for guidance and support.\n",
      "\n",
      "Stay positive, keep an open mind, and don't hesitate to reach out if you have any further questions or concerns!None\n"
     ]
    }
   ],
   "source": [
    "#Minimum Reproducible Code\n",
    "#RAGsilience\n",
    "\n",
    "from setup_rag import create_rag_session\n",
    "\n",
    "# Create a session\n",
    "session_id = \"testing2\"\n",
    "embeddings_path = \"/Users/zsk4gm/Desktop/resilience_education/embeddings\"\n",
    "\n",
    "rag_session = create_rag_session(session_id, embeddings_path)\n",
    "\n",
    "def user_asks():         \n",
    "    # Ask questions interactively\n",
    "    while True:\n",
    "        response = rag_session.ask()\n",
    "        print(response)\n",
    "\n",
    "if __name__ == '__main__': \n",
    "    user_asks()"
   ]
  }
 ],
 "metadata": {
  "kernelspec": {
   "display_name": "Python 3 (ipykernel)",
   "language": "python",
   "name": "python3"
  },
  "language_info": {
   "codemirror_mode": {
    "name": "ipython",
    "version": 3
   },
   "file_extension": ".py",
   "mimetype": "text/x-python",
   "name": "python",
   "nbconvert_exporter": "python",
   "pygments_lexer": "ipython3",
   "version": "3.10.9"
  }
 },
 "nbformat": 4,
 "nbformat_minor": 5
}
