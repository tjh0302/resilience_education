{
 "cells": [
  {
   "cell_type": "markdown",
   "id": "492cf0b3-a960-4d72-8a5a-7675ce95a9b0",
   "metadata": {},
   "source": [
    "# Generating Embeddings for RAG"
   ]
  },
  {
   "cell_type": "code",
   "execution_count": 3,
   "id": "fd18a231-123d-49e0-b350-407f47fb2f76",
   "metadata": {},
   "outputs": [
    {
     "name": "stdout",
     "output_type": "stream",
     "text": [
      "/Users/zsk4gm/Desktop/resilience_education/env/bin/python3\n"
     ]
    }
   ],
   "source": [
    "import sys\n",
    "print(sys.executable)"
   ]
  },
  {
   "cell_type": "markdown",
   "id": "6b87fe4b-4a41-4279-b719-4e355787c533",
   "metadata": {},
   "source": [
    "# Imports"
   ]
  },
  {
   "cell_type": "code",
   "execution_count": 4,
   "id": "0dcf5b9d-72db-483c-b016-55816fda89d8",
   "metadata": {},
   "outputs": [],
   "source": [
    "import os\n",
    "import json"
   ]
  },
  {
   "cell_type": "markdown",
   "id": "bf0932bf-fbc7-4598-a790-d0954e27e0e7",
   "metadata": {},
   "source": [
    "### Examine a JSON"
   ]
  },
  {
   "cell_type": "code",
   "execution_count": 5,
   "id": "6cf01b7e-21e5-4191-8d5e-57a9177c9fcb",
   "metadata": {},
   "outputs": [
    {
     "name": "stdout",
     "output_type": "stream",
     "text": [
      "/Users/zsk4gm/Desktop/resilience_education/json_files_updated\n"
     ]
    }
   ],
   "source": [
    "# Define the path to the JSON files\n",
    "# Get the current directory\n",
    "current_directory = os.getcwd()\n",
    "\n",
    "# Create the file path to the 'json_files_updated' folder\n",
    "json_files_updated_path = os.path.join(current_directory, 'json_files_updated')\n",
    "\n",
    "# Print the path to verify\n",
    "print(json_files_updated_path)"
   ]
  },
  {
   "cell_type": "code",
   "execution_count": 6,
   "id": "398b34cb-52be-44ed-96a9-e32dee8682cb",
   "metadata": {},
   "outputs": [
    {
     "name": "stdout",
     "output_type": "stream",
     "text": [
      "/Users/zsk4gm/Desktop/resilience_education/json_files_updated/1-608.json\n"
     ]
    }
   ],
   "source": [
    "json_exfile_updated_path = os.path.join(json_files_updated_path, '1-608.json')\n",
    "print(json_exfile_updated_path)"
   ]
  },
  {
   "cell_type": "code",
   "execution_count": 7,
   "id": "d0be2a35-c169-4cd1-8934-4bbd742fcefc",
   "metadata": {},
   "outputs": [
    {
     "name": "stdout",
     "output_type": "stream",
     "text": [
      "Loaded JSON data: {'TitleNumber': '1', 'TitleName': 'General Provisions', 'ChapterList': [{'SubtitleNum': '', 'SubtitleName': '', 'PartNum': '', 'PartName': '', 'ChapterNum': '6', 'ChapterName': 'Virginia Coordinate Systems', 'SubPartNum': '', 'SubPartName': '', 'ArticleNum': '', 'ArticleName': '', 'SectionRange': '§ 1-608', 'SectionNumber': '1-608', 'SectionTitle': 'Limitation on use of name of systems', 'SectionText': None, 'Body': '<p>The use of the terms \"Virginia Coordinate System of 1927\" or \"Virginia Coordinate System of 1983\" on any map, report of survey, or other document shall be limited to coordinates based on the Virginia coordinate systems as defined in this chapter.</p><p>1946, p. 168; Michie Suppl. 1946, § 2849(7); Code 1950, § 55-295; 1984, c. 726; 2019, c. <a href=\\'http://lis.virginia.gov/cgi-bin/legp604.exe?191+ful+CHAP0712\\'>712</a>.</p><p class=\\'sidenote\\'>The chapters of the acts of assembly referenced in the historical citation at the end of this section may not constitute a comprehensive list of such chapters and may exclude chapters whose provisions have expired.</p>'}]}\n"
     ]
    }
   ],
   "source": [
    "def load_json_file(file_path):\n",
    "    with open(file_path, 'r', encoding='utf-8') as f:\n",
    "        data = json.load(f)\n",
    "    return data\n",
    "    \n",
    "# Example usage\n",
    "loaded_data = load_json_file(json_exfile_updated_path)\n",
    "print(\"Loaded JSON data:\", loaded_data)"
   ]
  },
  {
   "cell_type": "markdown",
   "id": "bbcc8afd-c5ac-49d8-b06e-a506220babfc",
   "metadata": {},
   "source": [
    "## Load JSON data in docs"
   ]
  },
  {
   "cell_type": "code",
   "execution_count": 8,
   "id": "87e5b4be-b630-48cd-80a9-f123843c0fad",
   "metadata": {},
   "outputs": [],
   "source": [
    "from langchain_community.document_loaders import DirectoryLoader\n",
    "from langchain_community.document_loaders import JSONLoader"
   ]
  },
  {
   "cell_type": "code",
   "execution_count": 9,
   "id": "eceb3f33-709e-4840-80d3-8d1814c8b193",
   "metadata": {},
   "outputs": [],
   "source": [
    "from bs4 import BeautifulSoup\n",
    "\n",
    "def metadata_func(record: dict, metadata: dict) -> dict:\n",
    "    metadata[\"TitleNumber\"] = record.get(\"TitleNumber\")\n",
    "    metadata[\"TitleName\"] = record.get(\"TitleName\")\n",
    "    \n",
    "    chapter_list = record.get(\"ChapterList\", [])\n",
    "    hrefs = []\n",
    "    for chapter in chapter_list:\n",
    "        metadata['ChapterNum'] = chapter.get('ChapterNum')\n",
    "        metadata['ChapterName'] = chapter.get('ChapterName')\n",
    "        metadata['ArticleNum'] = chapter.get('ArticleNum')\n",
    "        metadata['ArticleName'] = chapter.get('ArticleName')\n",
    "        metadata['SectionNumber'] = chapter.get('SectionNumber')\n",
    "        metadata['SectionTitle'] = chapter.get('SectionTitle')\n",
    "        \n",
    "        # Extract href from Body if available\n",
    "        body_content = chapter.get(\"Body\", \"\")\n",
    "        soup = BeautifulSoup(body_content, 'html.parser')\n",
    "        links = soup.find_all('a', href=True)\n",
    "        for link in links:\n",
    "            hrefs.append(link['href'])\n",
    "            \n",
    "    # Convert hrefs list into a single string\n",
    "    metadata['Hrefs'] = \"; \".join(hrefs) \n",
    "    \n",
    "    # Extract all 'Body' contents\n",
    "    body_contents = [chapter.get(\"Body\", \"\") for chapter in chapter_list]\n",
    "    \n",
    "    return {\n",
    "        \"metadata\": metadata,\n",
    "        \"page_content\": \"\\n\".join(body_contents)\n",
    "    }"
   ]
  },
  {
   "cell_type": "code",
   "execution_count": 10,
   "id": "a3426150-79a4-42a7-9641-58f67af16495",
   "metadata": {},
   "outputs": [],
   "source": [
    "json_files_test_path = os.path.join(current_directory, 'json_files_test')\n",
    "\n",
    "loader = DirectoryLoader(\n",
    "    json_files_test_path,\n",
    "    glob='*.json',\n",
    "    loader_cls=JSONLoader,\n",
    "    loader_kwargs={\n",
    "        'jq_schema': '.', \n",
    "        'content_key': None,\n",
    "        'metadata_func': metadata_func,\n",
    "        'text_content': False\n",
    "    }\n",
    ")\n",
    "\n",
    "# Load documents directly\n",
    "documents = loader.load()"
   ]
  },
  {
   "cell_type": "code",
   "execution_count": 11,
   "id": "91723376-e0e0-413c-93ea-85f71276310c",
   "metadata": {},
   "outputs": [],
   "source": [
    "for doc in documents:\n",
    "    doc.page_content = doc.metadata['page_content']\n",
    "    del doc.metadata['page_content']  "
   ]
  },
  {
   "cell_type": "code",
   "execution_count": 12,
   "id": "26218dde-c9b0-4e06-b24a-397f317dde29",
   "metadata": {},
   "outputs": [],
   "source": [
    "from langchain.docstore.document import Document\n",
    "# Function to flatten metadata\n",
    "def flatten_metadata(document):\n",
    "    flattened_metadata = document.metadata['metadata']\n",
    "    return Document(page_content=document.page_content, metadata=flattened_metadata)\n",
    "\n",
    "# Flatten the metadata in all documents\n",
    "documents = [flatten_metadata(doc) for doc in documents]"
   ]
  },
  {
   "cell_type": "code",
   "execution_count": 13,
   "id": "9e7bd103-3996-429b-8f67-cf1630e6efb6",
   "metadata": {
    "scrolled": true
   },
   "outputs": [
    {
     "data": {
      "text/plain": [
       "Document(metadata={'source': '/Users/zsk4gm/Desktop/resilience_education/json_files_test/1-3.json', 'seq_num': 1, 'TitleNumber': '1', 'TitleName': 'General Provisions', 'ChapterNum': '1', 'ChapterName': 'Code of Virginia', 'ArticleNum': '', 'ArticleName': '', 'SectionNumber': '1-3', 'SectionTitle': 'Repeal of acts of a general nature', 'Hrefs': 'http://law.lis.virginia.gov/vacode/1-2.1/'}, page_content=\"<p>All acts and parts of acts of a general nature, in force at the time of the adoption of this Code, shall be repealed from and after February 1, 1950, with such limitations and exceptions as are hereinafter expressed; and all acts and parts of acts of a general nature in force at the time of the adoption of this Code, and in conflict with any of the provisions of this Code which by virtue of § <a href='http://law.lis.virginia.gov/vacode/1-2.1/'>1-2.1</a> become effective on July 1, 1948, shall be repealed from and after July 1, 1948, with such limitations and exceptions as are hereinafter expressed.</p><p>Code 1919, § 6567; R. P. 1948, § 1-3.</p><p class='sidenote'>The chapters of the acts of assembly referenced in the historical citation at the end of this section may not constitute a comprehensive list of such chapters and may exclude chapters whose provisions have expired.</p>\")"
      ]
     },
     "execution_count": 13,
     "metadata": {},
     "output_type": "execute_result"
    }
   ],
   "source": [
    "documents[1]"
   ]
  },
  {
   "cell_type": "markdown",
   "id": "0069f7cb-761b-4e0d-b020-04455386b649",
   "metadata": {},
   "source": [
    "## Chunk data in docs"
   ]
  },
  {
   "cell_type": "code",
   "execution_count": 14,
   "id": "7a78be36-198a-4608-970b-735911ca89f4",
   "metadata": {},
   "outputs": [],
   "source": [
    "from langchain.text_splitter import RecursiveCharacterTextSplitter"
   ]
  },
  {
   "cell_type": "code",
   "execution_count": 15,
   "id": "a335e800-5ae8-4c21-8b71-485555f12d69",
   "metadata": {},
   "outputs": [],
   "source": [
    "text_splitter = RecursiveCharacterTextSplitter(chunk_size=1024, chunk_overlap=300)\n",
    "all_splits = text_splitter.split_documents(documents)"
   ]
  },
  {
   "cell_type": "code",
   "execution_count": 16,
   "id": "2675407e-2e48-48b5-a7a2-9d15b89fa74b",
   "metadata": {},
   "outputs": [
    {
     "data": {
      "text/plain": [
       "Document(metadata={'source': '/Users/zsk4gm/Desktop/resilience_education/json_files_test/1-2.json', 'seq_num': 1, 'TitleNumber': '1', 'TitleName': 'General Provisions', 'ChapterNum': '1', 'ChapterName': 'Code of Virginia', 'ArticleNum': '', 'ArticleName': '', 'SectionNumber': '1-2', 'SectionTitle': 'Effective date of Code', 'Hrefs': 'http://law.lis.virginia.gov/vacode/1-2.1/'}, page_content=\"<p>All the provisions of this Code shall be in force on and after February 1, 1950, except as provided in § <a href='http://law.lis.virginia.gov/vacode/1-2.1/'>1-2.1</a>.</p><p>Code 1919, § 6567; R. P. 1948, § 1-2.</p><p class='sidenote'>The chapters of the acts of assembly referenced in the historical citation at the end of this section may not constitute a comprehensive list of such chapters and may exclude chapters whose provisions have expired.</p>\")"
      ]
     },
     "execution_count": 16,
     "metadata": {},
     "output_type": "execute_result"
    }
   ],
   "source": [
    "all_splits[0]"
   ]
  },
  {
   "cell_type": "markdown",
   "id": "3839437c-e759-458e-94ff-3fc557256a17",
   "metadata": {},
   "source": [
    "## Load embedding model"
   ]
  },
  {
   "cell_type": "markdown",
   "id": "e0f8bd31-9148-440a-854d-5bb60ea09a85",
   "metadata": {},
   "source": [
    "##  Huggingface transformers - perform on search tasks across domains\n",
    "https://www.sbert.net/docs/sentence_transformer/pretrained_models.html#semantic-search-models"
   ]
  },
  {
   "cell_type": "code",
   "execution_count": 17,
   "id": "c0b7d7b5-27c1-4ead-bab3-9eed902b0fbc",
   "metadata": {},
   "outputs": [
    {
     "name": "stderr",
     "output_type": "stream",
     "text": [
      "/Users/zsk4gm/Desktop/resilience_education/env/lib/python3.10/site-packages/langchain_core/_api/deprecation.py:139: LangChainDeprecationWarning: The class `HuggingFaceEmbeddings` was deprecated in LangChain 0.2.2 and will be removed in 0.3.0. An updated version of the class exists in the langchain-huggingface package and should be used instead. To use it run `pip install -U langchain-huggingface` and import as `from langchain_huggingface import HuggingFaceEmbeddings`.\n",
      "  warn_deprecated(\n",
      "/Users/zsk4gm/Desktop/resilience_education/env/lib/python3.10/site-packages/sentence_transformers/cross_encoder/CrossEncoder.py:11: TqdmWarning: IProgress not found. Please update jupyter and ipywidgets. See https://ipywidgets.readthedocs.io/en/stable/user_install.html\n",
      "  from tqdm.autonotebook import tqdm, trange\n"
     ]
    }
   ],
   "source": [
    "from langchain_community.embeddings import HuggingFaceEmbeddings\n",
    "\n",
    "model_name = \"multi-qa-mpnet-base-dot-v1\"\n",
    "model_kwargs = {'device': 'cpu'}\n",
    "encode_kwargs = {'normalize_embeddings': False}\n",
    "hf = HuggingFaceEmbeddings(\n",
    "    model_name=model_name,\n",
    "    model_kwargs=model_kwargs,\n",
    "    encode_kwargs=encode_kwargs\n",
    ")"
   ]
  },
  {
   "cell_type": "markdown",
   "id": "636c435f-8efc-41bc-833f-3f2aa412eec9",
   "metadata": {},
   "source": [
    "## Embed chunks and store in Chroma vector db"
   ]
  },
  {
   "cell_type": "code",
   "execution_count": 21,
   "id": "68b90b86-afcc-48cf-a62f-4b5898ba9040",
   "metadata": {},
   "outputs": [],
   "source": [
    "from langchain_chroma import Chroma"
   ]
  },
  {
   "cell_type": "code",
   "execution_count": 22,
   "id": "f10ab994-1b7f-4230-a2e4-1e0b390d1c3b",
   "metadata": {},
   "outputs": [],
   "source": [
    "# Create the file path to the 'embeddings' folder\n",
    "persist_directory = os.path.join(current_directory, 'embeddings')\n",
    "\n",
    "# Create the vector store and specify the persist directory\n",
    "vectorstore = Chroma(persist_directory=persist_directory, embedding_function=hf)"
   ]
  },
  {
   "cell_type": "code",
   "execution_count": 23,
   "id": "4446cc8a-6b4b-4073-94b1-cf1e9bc2981c",
   "metadata": {},
   "outputs": [],
   "source": [
    "# Process and store embeddings in batches\n",
    "batch_size_limit = 41000\n",
    "for i in range(0, len(all_splits), batch_size_limit):\n",
    "    batch = all_splits[i:i+batch_size_limit]\n",
    "    vectorstore.add_documents(documents=batch, embedding=hf)"
   ]
  },
  {
   "cell_type": "markdown",
   "id": "48e4d696-9d4f-475a-a676-cb5940ded18d",
   "metadata": {},
   "source": [
    "# RAGAS Synthetic Test Set"
   ]
  },
  {
   "cell_type": "markdown",
   "id": "0021deb3-5943-4768-9fda-5469c1bf54cb",
   "metadata": {},
   "source": [
    "* generator llm = the component that generates the questions and evolves the question to make it more relevant\n",
    "* critic llm = component that filters the questions and nodes based on the question and node relevance"
   ]
  },
  {
   "cell_type": "code",
   "execution_count": 24,
   "id": "4b741a6e-bb65-4821-8b9f-2cf4e39becbe",
   "metadata": {},
   "outputs": [],
   "source": [
    "from langchain_community.llms import Ollama\n",
    "from langchain.callbacks.manager import CallbackManager\n",
    "from langchain.callbacks.streaming_stdout import StreamingStdOutCallbackHandler\n",
    "\n",
    "class CustomOllama(Ollama):\n",
    "    def __init__(self, model, callback_manager=None, stop=None, temperature=0.2):\n",
    "        super().__init__(model=model, stop=stop, temperature=temperature)\n",
    "        self.callback_manager = callback_manager\n",
    "\n",
    "# Initialize the CallbackManager\n",
    "callback_manager = CallbackManager([StreamingStdOutCallbackHandler()])\n",
    "\n",
    "# Create an instance of the CustomOllama class\n",
    "llm = CustomOllama(\n",
    "    model=\"llama3\",\n",
    "    callback_manager=callback_manager\n",
    ")"
   ]
  },
  {
   "cell_type": "code",
   "execution_count": 56,
   "id": "b3ea2a0b-48e4-413c-b415-55bb0d59a7f8",
   "metadata": {},
   "outputs": [],
   "source": [
    "critic_llm = Ollama(model=\"gemma\")"
   ]
  },
  {
   "cell_type": "code",
   "execution_count": 57,
   "id": "5792df81-fa21-4cb0-8107-8247ee3159e2",
   "metadata": {},
   "outputs": [],
   "source": [
    "# define llm and embeddings\n",
    "langchain_llm = llm # any langchain LLM instance\n",
    "langchain_embeddings = hf # any langchain Embeddings instance"
   ]
  },
  {
   "cell_type": "code",
   "execution_count": 58,
   "id": "f713486f-d952-402a-aca5-6601b7e8d252",
   "metadata": {},
   "outputs": [],
   "source": [
    "# make sure to wrap them with wrappers\n",
    "from ragas.llms import LangchainLLMWrapper\n",
    "from ragas.embeddings import LangchainEmbeddingsWrapper\n",
    "\n",
    "langchain_llm = LangchainLLMWrapper(langchain_llm)\n",
    "langchain_embeddings = LangchainEmbeddingsWrapper(langchain_embeddings)\n",
    "critic_llm = LangchainLLMWrapper(critic_llm)"
   ]
  },
  {
   "cell_type": "code",
   "execution_count": 59,
   "id": "a4661917-8012-43b0-989c-2660faef21a4",
   "metadata": {},
   "outputs": [],
   "source": [
    "from ragas.testset.generator import TestsetGenerator\n",
    "\n",
    "# generator with custom llm and embeddings\n",
    "generator = TestsetGenerator.from_langchain(\n",
    "    generator_llm=langchain_llm,\n",
    "    critic_llm=critic_llm,\n",
    "    embeddings=langchain_embeddings,\n",
    ") "
   ]
  },
  {
   "cell_type": "code",
   "execution_count": 60,
   "id": "c9d7fdf5-fdd3-47e1-acdc-4dca9278ea70",
   "metadata": {},
   "outputs": [],
   "source": [
    "from langchain.text_splitter import RecursiveCharacterTextSplitter\n",
    "# default extractor\n",
    "from ragas.testset.extractor import KeyphraseExtractor\n",
    "# default DocumentStore\n",
    "from ragas.testset.docstore import InMemoryDocumentStore\n",
    "\n",
    "text_splitter = RecursiveCharacterTextSplitter(chunk_size=1024, chunk_overlap=300)\n",
    "keyphrase_extractor = KeyphraseExtractor(llm=langchain_llm)\n",
    "docstore = InMemoryDocumentStore(\n",
    "    splitter=splitter,\n",
    "    embeddings=langchain_embeddings,\n",
    "    extractor=keyphrase_extractor\n",
    ")"
   ]
  },
  {
   "cell_type": "code",
   "execution_count": 61,
   "id": "9ee4a96f-6941-48b5-8433-40874d2675d6",
   "metadata": {},
   "outputs": [],
   "source": [
    "from ragas.testset.prompts import (\n",
    "    context_scoring_prompt,\n",
    "    evolution_elimination_prompt,\n",
    "    filter_question_prompt,\n",
    ")\n"
   ]
  },
  {
   "cell_type": "code",
   "execution_count": 67,
   "id": "90915348-7da5-4b4d-bf85-d1410e9200aa",
   "metadata": {},
   "outputs": [],
   "source": [
    "from ragas.testset.filters import QuestionFilter, EvolutionFilter, NodeFilter\n",
    "\n",
    "qa_filter = QuestionFilter(langchain_llm, filter_question_prompt)\n",
    "node_filter = NodeFilter(langchain_llm, context_scoring_prompt=context_scoring_prompt)\n",
    "evolution_filter = EvolutionFilter(langchain_llm, evolution_elimination_prompt)"
   ]
  },
  {
   "cell_type": "code",
   "execution_count": 66,
   "id": "98b7aa4e-0da9-4e53-a1b7-347417fb6d3b",
   "metadata": {},
   "outputs": [],
   "source": [
    "distributions = {simple: 0.25, reasoning: 0.25, multi_context: 0.5}\n",
    "\n",
    "# customise the filters\n",
    "from ragas.testset.evolutions import ComplexEvolution\n",
    "\n",
    "for evolution in distributions:\n",
    "    if evolution.question_filter is None:\n",
    "        evolution.question_filter = qa_filter\n",
    "    if evolution.node_filter is None:\n",
    "        evolution.node_filter = node_filter\n",
    "\n",
    "    if isinstance(evolution, ComplexEvolution):\n",
    "        if evolution.evolution_filter is None:\n",
    "            evolution.evolution_filter = evolution_filter"
   ]
  },
  {
   "cell_type": "code",
   "execution_count": null,
   "id": "0bed6dac-2ae4-4577-a222-e8f887340fda",
   "metadata": {},
   "outputs": [],
   "source": []
  }
 ],
 "metadata": {
  "kernelspec": {
   "display_name": "Python 3 (ipykernel)",
   "language": "python",
   "name": "python3"
  },
  "language_info": {
   "codemirror_mode": {
    "name": "ipython",
    "version": 3
   },
   "file_extension": ".py",
   "mimetype": "text/x-python",
   "name": "python",
   "nbconvert_exporter": "python",
   "pygments_lexer": "ipython3",
   "version": "3.10.9"
  }
 },
 "nbformat": 4,
 "nbformat_minor": 5
}
